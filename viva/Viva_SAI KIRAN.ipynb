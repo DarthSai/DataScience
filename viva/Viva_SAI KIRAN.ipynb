{
 "cells": [
  {
   "cell_type": "code",
   "execution_count": 30,
   "id": "85a463d0",
   "metadata": {},
   "outputs": [],
   "source": [
    "import re\n",
    "import numpy as np\n",
    "import array"
   ]
  },
  {
   "cell_type": "code",
   "execution_count": 85,
   "id": "e427b3d8",
   "metadata": {},
   "outputs": [
    {
     "name": "stdout",
     "output_type": "stream",
     "text": [
      "*\n",
      "**\n",
      "***\n",
      "****\n",
      "*****\n",
      "****\n",
      "***\n",
      "**\n",
      "*\n"
     ]
    }
   ],
   "source": [
    "#task 1\n",
    "for i in range(1,6):\n",
    "    print(i*'*')\n",
    "for i in range(4,0,-1):\n",
    "    print(i*'*')"
   ]
  },
  {
   "cell_type": "code",
   "execution_count": 32,
   "id": "f0307374",
   "metadata": {},
   "outputs": [
    {
     "name": "stdout",
     "output_type": "stream",
     "text": [
      "1\n",
      "2\n",
      "Fizz\n",
      "4\n",
      "Buzz\n",
      "Fizz\n",
      "7\n",
      "8\n",
      "Fizz\n",
      "Buzz\n",
      "11\n",
      "Fizz\n",
      "13\n",
      "14\n",
      "FizzBuzz\n",
      "16\n",
      "17\n",
      "Fizz\n",
      "19\n",
      "Buzz\n",
      "Fizz\n",
      "22\n",
      "23\n",
      "Fizz\n",
      "Buzz\n",
      "26\n",
      "Fizz\n",
      "28\n",
      "29\n",
      "FizzBuzz\n",
      "31\n",
      "32\n",
      "Fizz\n",
      "34\n",
      "Buzz\n",
      "Fizz\n",
      "37\n",
      "38\n",
      "Fizz\n",
      "Buzz\n",
      "41\n",
      "Fizz\n",
      "43\n",
      "44\n",
      "FizzBuzz\n",
      "46\n",
      "47\n",
      "Fizz\n",
      "49\n",
      "Buzz\n"
     ]
    }
   ],
   "source": [
    "#task 2\n",
    "l2=[]\n",
    "for i in range(1,51):\n",
    "    if i%3==0 and (i%15!=0):\n",
    "        a21='Fizz'\n",
    "        l2.append(a21)\n",
    "    elif i%5==0 and (i%15!=0):\n",
    "        a22='Buzz'\n",
    "        l2.append(a22)\n",
    "    elif i%15==0:\n",
    "        a23='FizzBuzz'\n",
    "        l2.append(a23)\n",
    "    else:\n",
    "        l2.append(i)\n",
    "for i in l2:\n",
    "    print(i)\n",
    "        "
   ]
  },
  {
   "cell_type": "code",
   "execution_count": 23,
   "id": "2297b0b5",
   "metadata": {},
   "outputs": [
    {
     "name": "stdout",
     "output_type": "stream",
     "text": [
      "Enter a password with atleast one lowercase and one uppercase letter,a symbol(#$@) and length between 6 and 16 charactersAsd#123\n",
      "Your password is valid\n"
     ]
    }
   ],
   "source": [
    "t3=input(\"Enter a password with atleast one lowercase and one uppercase letter,a symbol(#$@) and length between 6 and 16 characters: \")\n",
    "charflag=0\n",
    "uppercaseflag=0\n",
    "lowercaseflag=0\n",
    "numberflag=0\n",
    "for i in t3:\n",
    "    if i.isdigit():\n",
    "        numberflag=1\n",
    "    elif i.islower():\n",
    "        lowercaseflag=1\n",
    "    elif i.isupper():\n",
    "        uppercaseflag=1\n",
    "    elif ((i=='#') or (i=='$') or (i=='@')):\n",
    "        charflag=1\n",
    "if (charflag==1)&(numberflag==1)&(lowercaseflag==1)&(uppercaseflag==1):\n",
    "    print('Your password is valid')\n",
    "    "
   ]
  },
  {
   "cell_type": "code",
   "execution_count": 27,
   "id": "86b5cb4c",
   "metadata": {},
   "outputs": [
    {
     "name": "stdout",
     "output_type": "stream",
     "text": [
      "Enter the month(for example: January): May\n",
      "enter the date: 12\n",
      "It is Summer season\n"
     ]
    }
   ],
   "source": [
    "#task 4\n",
    "m=input('Enter the month(for example: January): ')\n",
    "d=int(input('enter the date: '))\n",
    "if (m=='October') or (m=='November' and (d>14)) or (m=='December') or (m=='January'):\n",
    "    s='Winter'\n",
    "elif m=='February':\n",
    "    s='Spring'\n",
    "elif m=='March' or m=='April' or m=='May':\n",
    "    s='Summer'\n",
    "elif m=='June' or (m=='July' & d<15):\n",
    "    s='Autumn'\n",
    "elif (m=='July' and d>=15) or m=='August' or m=='September':\n",
    "    s='Rainy'\n",
    "print('It is',s,'season')\n"
   ]
  },
  {
   "cell_type": "code",
   "execution_count": 24,
   "id": "50a4b0e4",
   "metadata": {},
   "outputs": [
    {
     "data": {
      "text/plain": [
       "['Max', 'Enola']"
      ]
     },
     "execution_count": 24,
     "metadata": {},
     "output_type": "execute_result"
    }
   ],
   "source": [
    "#task 5\n",
    "t5={'Roger Federer':44,'Roger Ebert':99,'Max':25,'Enola':17}\n",
    "l5=[]\n",
    "for i in t5.keys():\n",
    "    if t5[i]<30:\n",
    "        l5.append(i)\n",
    "l5        "
   ]
  },
  {
   "cell_type": "code",
   "execution_count": 33,
   "id": "0fda2d96",
   "metadata": {},
   "outputs": [
    {
     "data": {
      "text/plain": [
       "array([-5, -6, -7, -8])"
      ]
     },
     "execution_count": 33,
     "metadata": {},
     "output_type": "execute_result"
    }
   ],
   "source": [
    "#task 6\n",
    "t6=[1,2,3,4,-5,-6,-7,-8]\n",
    "t61=[]\n",
    "for i in t6:\n",
    "    if i<0:\n",
    "        t61.append(i)\n",
    "ar6=np.array(t61)\n",
    "ar6"
   ]
  },
  {
   "cell_type": "code",
   "execution_count": 48,
   "id": "f7d11928",
   "metadata": {},
   "outputs": [
    {
     "data": {
      "text/plain": [
       "[99, 44, 25]"
      ]
     },
     "execution_count": 48,
     "metadata": {},
     "output_type": "execute_result"
    }
   ],
   "source": [
    "#task 7\n",
    "t7={'Roger Federer':44,'Roger Ebert':99,'Max':25,'Enola':17}\n",
    "a7=list(t7.values())\n",
    "a7.sort()\n",
    "a7=a7[::-1]\n",
    "a7[0:3]"
   ]
  },
  {
   "cell_type": "code",
   "execution_count": 77,
   "id": "395a0b9a",
   "metadata": {},
   "outputs": [
    {
     "name": "stdout",
     "output_type": "stream",
     "text": [
      "24 is the lcm of 2 4 6 8\n"
     ]
    }
   ],
   "source": [
    "#task 8\n",
    "def lcm(a,b,c,d):\n",
    "    l8=[]\n",
    "    for i in range(1,a*b*c*d):\n",
    "        if i%a==0 and i%b==0 and i%c==0 and i%d==0:\n",
    "            l8.append(i)\n",
    "    \n",
    "    print(l8[0],'is the lcm of',a,b,c,d)        \n",
    "lcm(2,4,6,8)    "
   ]
  },
  {
   "cell_type": "code",
   "execution_count": 84,
   "id": "aa22daa0",
   "metadata": {},
   "outputs": [
    {
     "name": "stdout",
     "output_type": "stream",
     "text": [
      "6 is the hcf of 6 18 24\n"
     ]
    }
   ],
   "source": [
    "#task 9\n",
    "def hcf(e,f,g):\n",
    "    l9=[]\n",
    "    for i in range(1,max(e,f,g)):\n",
    "        if e%i==0 and f%i==0 and g%i==0:\n",
    "            l9.append(i)\n",
    "    \n",
    "    print(l9[-1],'is the hcf of',e,f,g)        \n",
    "hcf(6,18,24)"
   ]
  },
  {
   "cell_type": "code",
   "execution_count": 51,
   "id": "1510578d",
   "metadata": {},
   "outputs": [
    {
     "name": "stdout",
     "output_type": "stream",
     "text": [
      "Enter a number to get its table11\n",
      "1 * 11 = 11\n",
      "2 * 11 = 22\n",
      "3 * 11 = 33\n",
      "4 * 11 = 44\n",
      "5 * 11 = 55\n",
      "6 * 11 = 66\n",
      "7 * 11 = 77\n",
      "8 * 11 = 88\n",
      "9 * 11 = 99\n",
      "10 * 11 = 110\n",
      "11 * 11 = 121\n",
      "12 * 11 = 132\n",
      "13 * 11 = 143\n",
      "14 * 11 = 154\n",
      "15 * 11 = 165\n",
      "16 * 11 = 176\n",
      "17 * 11 = 187\n",
      "18 * 11 = 198\n",
      "19 * 11 = 209\n",
      "20 * 11 = 220\n"
     ]
    }
   ],
   "source": [
    "#task 10\n",
    "t10=int(input('Enter a number to get its table'))\n",
    "for i in range(1,21):\n",
    "    print(i,'*',t10,'=',i*t10)\n",
    "    "
   ]
  },
  {
   "cell_type": "code",
   "execution_count": 100,
   "id": "ef765d49",
   "metadata": {},
   "outputs": [
    {
     "data": {
      "text/plain": [
       "5040"
      ]
     },
     "execution_count": 100,
     "metadata": {},
     "output_type": "execute_result"
    }
   ],
   "source": [
    "#task 11\n",
    "def factorial(z):   \n",
    "    i=1\n",
    "    f=1\n",
    "    while i<=z:\n",
    "        f=i*f\n",
    "        i+=1\n",
    "        if i==z+1:\n",
    "            break\n",
    "    return f\n",
    "factorial(7)"
   ]
  },
  {
   "cell_type": "code",
   "execution_count": 102,
   "id": "2b457782",
   "metadata": {},
   "outputs": [
    {
     "name": "stdout",
     "output_type": "stream",
     "text": [
      "Enter a number to get the value of e raised to the power said number: 3\n"
     ]
    },
    {
     "data": {
      "text/plain": [
       "20.08553692318766"
      ]
     },
     "execution_count": 102,
     "metadata": {},
     "output_type": "execute_result"
    }
   ],
   "source": [
    "#task 12\n",
    "t12=int(input('Enter a number to get the value of e raised to the power said number: '))\n",
    "l12=[]\n",
    "for i in range(1,100):\n",
    "    z12=t12**i/factorial(i)\n",
    "    l12.append(z12)\n",
    "sum12=0\n",
    "for j in l12:\n",
    "    sum12=sum12+j\n",
    "sum12=1+sum12\n",
    "sum12   "
   ]
  },
  {
   "cell_type": "code",
   "execution_count": null,
   "id": "aa53e9ee",
   "metadata": {},
   "outputs": [],
   "source": []
  },
  {
   "cell_type": "code",
   "execution_count": null,
   "id": "65776a06",
   "metadata": {},
   "outputs": [],
   "source": []
  },
  {
   "cell_type": "code",
   "execution_count": null,
   "id": "4e2aace7",
   "metadata": {},
   "outputs": [],
   "source": []
  },
  {
   "cell_type": "code",
   "execution_count": null,
   "id": "b6dcf210",
   "metadata": {},
   "outputs": [],
   "source": []
  },
  {
   "cell_type": "code",
   "execution_count": null,
   "id": "f5479552",
   "metadata": {},
   "outputs": [],
   "source": []
  },
  {
   "cell_type": "code",
   "execution_count": null,
   "id": "e5f1cd42",
   "metadata": {},
   "outputs": [],
   "source": []
  }
 ],
 "metadata": {
  "kernelspec": {
   "display_name": "Python 3 (ipykernel)",
   "language": "python",
   "name": "python3"
  },
  "language_info": {
   "codemirror_mode": {
    "name": "ipython",
    "version": 3
   },
   "file_extension": ".py",
   "mimetype": "text/x-python",
   "name": "python",
   "nbconvert_exporter": "python",
   "pygments_lexer": "ipython3",
   "version": "3.9.12"
  }
 },
 "nbformat": 4,
 "nbformat_minor": 5
}
