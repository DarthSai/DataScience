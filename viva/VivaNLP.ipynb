{
  "cells": [
    {
      "cell_type": "code",
      "execution_count": 1,
      "metadata": {
        "colab": {
          "base_uri": "https://localhost:8080/"
        },
        "id": "rZu4oMyzmCj2",
        "outputId": "f007d1cb-31f7-47cf-9205-8318f436183d"
      },
      "outputs": [
        {
          "output_type": "stream",
          "name": "stdout",
          "text": [
            "\u001b[31mERROR: Invalid requirement: '.whl'\u001b[0m\u001b[31m\n",
            "\u001b[0mLooking in indexes: https://pypi.org/simple, https://us-python.pkg.dev/colab-wheels/public/simple/\n",
            "Collecting fasttext\n",
            "  Downloading fasttext-0.9.2.tar.gz (68 kB)\n",
            "\u001b[2K     \u001b[90m━━━━━━━━━━━━━━━━━━━━━━━━━━━━━━━━━━━━━━━━\u001b[0m \u001b[32m68.8/68.8 KB\u001b[0m \u001b[31m7.3 MB/s\u001b[0m eta \u001b[36m0:00:00\u001b[0m\n",
            "\u001b[?25h  Preparing metadata (setup.py) ... \u001b[?25l\u001b[?25hdone\n",
            "Collecting pybind11>=2.2\n",
            "  Using cached pybind11-2.10.3-py3-none-any.whl (222 kB)\n",
            "Requirement already satisfied: setuptools>=0.7.0 in /usr/local/lib/python3.8/dist-packages (from fasttext) (57.4.0)\n",
            "Requirement already satisfied: numpy in /usr/local/lib/python3.8/dist-packages (from fasttext) (1.21.6)\n",
            "Building wheels for collected packages: fasttext\n",
            "  Building wheel for fasttext (setup.py) ... \u001b[?25l\u001b[?25hdone\n",
            "  Created wheel for fasttext: filename=fasttext-0.9.2-cp38-cp38-linux_x86_64.whl size=3128455 sha256=81c35a8b09cf167dad2bda8ca1ad7c9624df6b419c9d26b78de03547306d9c66\n",
            "  Stored in directory: /root/.cache/pip/wheels/93/61/2a/c54711a91c418ba06ba195b1d78ff24fcaad8592f2a694ac94\n",
            "Successfully built fasttext\n",
            "Installing collected packages: pybind11, fasttext\n",
            "Successfully installed fasttext-0.9.2 pybind11-2.10.3\n"
          ]
        }
      ],
      "source": [
        "!pip install whl file\n",
        "!pip install fasttext\n",
        "import fasttext"
      ]
    },
    {
      "cell_type": "code",
      "execution_count": 5,
      "metadata": {
        "id": "t31Ew6b2mpGR"
      },
      "outputs": [],
      "source": [
        "import re"
      ]
    },
    {
      "cell_type": "code",
      "execution_count": 2,
      "metadata": {
        "id": "HvEX9cLYmpIk"
      },
      "outputs": [],
      "source": [
        "text=\"\"\"Cricket is a bat-and-ball game played between two teams of eleven players on a field at the centre of which is a 22-yard (20-metre) pitch with a wicket at \n",
        "each end, each comprising two bails balanced on three stumps. The batting side scores runs by striking the ball bowled at one of the wickets with the bat \n",
        "\\and then running between the wickets, while the bowling and fielding side tries to prevent this (by preventing the ball from leaving the field, and getting the \n",
        "ball to either wicket) and dismiss each batter (so they are \"out\"). Means of dismissal include being bowled, when the ball hits the stumps and dislodges the bails, \n",
        "and by the fielding side either catching the ball after it is hit by the bat, but before it hits the ground, or hitting a wicket with the ball before a batter can \n",
        "\\cross the crease in front of the wicket. When ten batters have been dismissed, the innings ends and the teams swap roles. The game is adjudicated by two umpires, \n",
        "\\aided by a third umpire and match referee in international matches. They communicate with two off-field scorers who record the match's statistical information. \n",
        "Forms of cricket range from Twenty20, with each team batting for a single innings of 20 overs (each \"over\" being a set of 6 fair opportunities for the batting team to score) \n",
        "and the game generally lasting three hours, to Test matches played over five days. Traditionally cricketers play in all-white kit, but in limited overs cricket they wear club \n",
        "or team colours. In addition to the basic kit, some players wear protective gear to prevent injury caused by the ball, which is a hard, solid spheroid made of compressed \n",
        "leather with a slightly raised sewn seam enclosing a cork core layered with tightly wound string.\"\"\""
      ]
    },
    {
      "cell_type": "code",
      "execution_count": 3,
      "metadata": {
        "colab": {
          "base_uri": "https://localhost:8080/"
        },
        "id": "zgR4dtBmmpMr",
        "outputId": "95c574cd-1484-423e-ef9e-72c49646547f"
      },
      "outputs": [
        {
          "output_type": "stream",
          "name": "stdout",
          "text": [
            "Cricket is a bat-and-ball game played between two teams of eleven players on a field at the centre of which is a 22-yard (20-metre) pitch with a wicket at \n",
            "each end, each comprising two bails balanced on three stumps. The batting side scores runs by striking the ball bowled at one of the wickets with the bat \n",
            "\u0007nd then running between the wickets, while the bowling and fielding side tries to prevent this (by preventing the ball from leaving the field, and getting the \n",
            "ball to either wicket) and dismiss each batter (so they are \"out\"). Means of dismissal include being bowled, when the ball hits the stumps and dislodges the bails, \n",
            "and by the fielding side either catching the ball after it is hit by the bat, but before it hits the ground, or hitting a wicket with the ball before a batter can \n",
            "\\cross the crease in front of the wicket. When ten batters have been dismissed, the innings ends and the teams swap roles. The game is adjudicated by two umpires, \n",
            "\u0007ided by a third umpire and match referee in international matches. They communicate with two off-field scorers who record the match's statistical information. \n",
            "Forms of cricket range from Twenty20, with each team batting for a single innings of 20 overs (each \"over\" being a set of 6 fair opportunities for the batting team to score) \n",
            "and the game generally lasting three hours, to Test matches played over five days. Traditionally cricketers play in all-white kit, but in limited overs cricket they wear club \n",
            "or team colours. In addition to the basic kit, some players wear protective gear to prevent injury caused by the ball, which is a hard, solid spheroid made of compressed \n",
            "leather with a slightly raised sewn seam enclosing a cork core layered with tightly wound string.\n"
          ]
        }
      ],
      "source": [
        "print(text)"
      ]
    },
    {
      "cell_type": "code",
      "execution_count": 6,
      "metadata": {
        "id": "oH2AIyekmpPJ"
      },
      "outputs": [],
      "source": [
        "def clean_text(text):\n",
        "    text = re.sub(\"[^0-9A-Za-z\\- ]+\", \" \", text)\n",
        "    text = re.sub(\"(?<!\\w)\\d+\", \"\", text)\n",
        "    text = re.sub(\"-(?!\\w)|(?<!\\w)-\", \"\", text)\n",
        "    text = \" \".join(text.split())\n",
        "    text = text.lower()\n",
        "    return text\n",
        "\n",
        "text = clean_text(text)"
      ]
    },
    {
      "cell_type": "code",
      "execution_count": 11,
      "metadata": {
        "id": "nbuxLZTcmpSd"
      },
      "outputs": [],
      "source": [
        "with open ('text.txt', 'w') as fp: #Saving the merge file\n",
        "    fp.write(text)"
      ]
    },
    {
      "cell_type": "code",
      "execution_count": 12,
      "metadata": {
        "id": "F0trwVqFmpU0"
      },
      "outputs": [],
      "source": [
        "model_sup = fasttext.train_supervised(input='text.txt', lr=0.7, epoch=50, wordNgrams=3, bucket=20000)"
      ]
    },
    {
      "cell_type": "code",
      "execution_count": 13,
      "metadata": {
        "id": "bx8w5ALtmpZE",
        "colab": {
          "base_uri": "https://localhost:8080/"
        },
        "outputId": "a4fc5af8-b198-47ab-f4a0-5de73a3acbc4"
      },
      "outputs": [
        {
          "output_type": "execute_result",
          "data": {
            "text/plain": [
              "array([ 0.00648195,  0.00795401, -0.00707539, -0.00793587,  0.00156741,\n",
              "       -0.00783052, -0.00360267,  0.0082674 , -0.00096596,  0.00382001,\n",
              "       -0.00606828, -0.00236908,  0.00408517,  0.00844939,  0.00679532,\n",
              "        0.00648207, -0.00531906, -0.00330126,  0.00298687, -0.00392251,\n",
              "        0.00238984,  0.00166367, -0.00034217,  0.00293332, -0.00300208,\n",
              "       -0.00277132,  0.00750394, -0.00967336,  0.0016418 , -0.00869071,\n",
              "       -0.00372593, -0.00791137,  0.00612653, -0.00489747, -0.00355547,\n",
              "       -0.00516174,  0.00218108, -0.00793338, -0.00810577,  0.00461964,\n",
              "        0.00553602, -0.00059792,  0.00088564, -0.003373  ,  0.00153649,\n",
              "       -0.00939524, -0.00750017,  0.00885973, -0.00152646, -0.00463912,\n",
              "       -0.00860652,  0.00907543, -0.00833498,  0.00562094, -0.00780598,\n",
              "       -0.00157717, -0.00537113,  0.00900919,  0.00804939,  0.00902378,\n",
              "        0.00872674, -0.0004383 ,  0.00834901,  0.00859635, -0.00062844,\n",
              "        0.00281102,  0.00645941, -0.00375679, -0.00761193,  0.00297443,\n",
              "       -0.00453611, -0.00100878,  0.00380516, -0.00112646, -0.00022238,\n",
              "        0.00205553,  0.00673835,  0.00068983,  0.00100229, -0.00255022,\n",
              "        0.00525614, -0.00947065,  0.00498381,  0.00050254,  0.00846462,\n",
              "        0.00963406,  0.00030868,  0.00645679,  0.00540337, -0.00017315,\n",
              "        0.00136022,  0.00765347,  0.00910274, -0.0089093 , -0.00743012,\n",
              "       -0.00254953, -0.00590355,  0.00319283, -0.0031028 ,  0.00396109],\n",
              "      dtype=float32)"
            ]
          },
          "metadata": {},
          "execution_count": 13
        }
      ],
      "source": [
        "model_sup['game']"
      ]
    },
    {
      "cell_type": "code",
      "execution_count": null,
      "metadata": {
        "id": "gZzdw2A7mpeA"
      },
      "outputs": [],
      "source": []
    },
    {
      "cell_type": "code",
      "execution_count": null,
      "metadata": {
        "id": "xHiw3e-VmpgL"
      },
      "outputs": [],
      "source": []
    }
  ],
  "metadata": {
    "colab": {
      "provenance": []
    },
    "kernelspec": {
      "display_name": "Python 3 (ipykernel)",
      "language": "python",
      "name": "python3"
    },
    "language_info": {
      "codemirror_mode": {
        "name": "ipython",
        "version": 3
      },
      "file_extension": ".py",
      "mimetype": "text/x-python",
      "name": "python",
      "nbconvert_exporter": "python",
      "pygments_lexer": "ipython3",
      "version": "3.9.12"
    }
  },
  "nbformat": 4,
  "nbformat_minor": 0
}