{
 "cells": [
  {
   "cell_type": "markdown",
   "id": "1fd22cd8",
   "metadata": {},
   "source": [
    "## Task 1"
   ]
  },
  {
   "cell_type": "code",
   "execution_count": 16,
   "id": "2c045b41",
   "metadata": {},
   "outputs": [],
   "source": [
    "import spacy\n",
    "from spacy.lang import en\n",
    "from nltk.stem.porter import PorterStemmer\n",
    "from nltk.stem import WordNetLemmatizer\n",
    "from spacy.lang.en import STOP_WORDS\n",
    "import nltk"
   ]
  },
  {
   "cell_type": "code",
   "execution_count": 37,
   "id": "36f4c7b9",
   "metadata": {},
   "outputs": [
    {
     "name": "stderr",
     "output_type": "stream",
     "text": [
      "[nltk_data] Downloading package wordnet to\n",
      "[nltk_data]     C:\\Users\\saiki\\AppData\\Roaming\\nltk_data...\n",
      "[nltk_data]   Package wordnet is already up-to-date!\n",
      "[nltk_data] Downloading package omw-1.4 to\n",
      "[nltk_data]     C:\\Users\\saiki\\AppData\\Roaming\\nltk_data...\n"
     ]
    },
    {
     "data": {
      "text/plain": [
       "True"
      ]
     },
     "execution_count": 37,
     "metadata": {},
     "output_type": "execute_result"
    }
   ],
   "source": [
    "nltk.download('wordnet')\n",
    "nltk.download('omw-1.4')"
   ]
  },
  {
   "cell_type": "code",
   "execution_count": 18,
   "id": "faa95637",
   "metadata": {},
   "outputs": [],
   "source": [
    "stop_words= en.STOP_WORDS"
   ]
  },
  {
   "cell_type": "code",
   "execution_count": 19,
   "id": "dd45a289",
   "metadata": {},
   "outputs": [
    {
     "name": "stdout",
     "output_type": "stream",
     "text": [
      "['can', 'hundred', 'become', 'next', 'nine', 'anywhere', 'thence', 'name', 'two', 'whence', 'three', 'nor', 'ours', 'for', 'might']\n"
     ]
    }
   ],
   "source": [
    "print(list(stop_words)[0:15])"
   ]
  },
  {
   "cell_type": "code",
   "execution_count": 20,
   "id": "19c5f4c2",
   "metadata": {},
   "outputs": [
    {
     "name": "stdout",
     "output_type": "stream",
     "text": [
      "326\n"
     ]
    }
   ],
   "source": [
    "print(len(stop_words))"
   ]
  },
  {
   "cell_type": "markdown",
   "id": "ef4cfd81",
   "metadata": {},
   "source": [
    "## Task 2"
   ]
  },
  {
   "cell_type": "code",
   "execution_count": 21,
   "id": "e99e7db8",
   "metadata": {},
   "outputs": [],
   "source": [
    "tokens = ['cries', 'this', 'lied','computing', 'organizing', 'matches']"
   ]
  },
  {
   "cell_type": "code",
   "execution_count": 22,
   "id": "e88a203c",
   "metadata": {},
   "outputs": [],
   "source": [
    "nlp = spacy.load(\"en_core_web_sm\")"
   ]
  },
  {
   "cell_type": "code",
   "execution_count": 23,
   "id": "0cf18e3a",
   "metadata": {},
   "outputs": [],
   "source": [
    "doc = nlp(' '.join(tokens))"
   ]
  },
  {
   "cell_type": "code",
   "execution_count": 24,
   "id": "2d5e5f3f",
   "metadata": {},
   "outputs": [
    {
     "name": "stdout",
     "output_type": "stream",
     "text": [
      "<class 'spacy.tokens.token.Token'>\n",
      "cry\n",
      "<class 'spacy.tokens.token.Token'>\n",
      "this\n",
      "<class 'spacy.tokens.token.Token'>\n",
      "lie\n",
      "<class 'spacy.tokens.token.Token'>\n",
      "computing\n",
      "<class 'spacy.tokens.token.Token'>\n",
      "organizing\n",
      "<class 'spacy.tokens.token.Token'>\n",
      "match\n"
     ]
    }
   ],
   "source": [
    "for i in doc:\n",
    "    print(type(i))\n",
    "    print(i.lemma_)"
   ]
  },
  {
   "cell_type": "code",
   "execution_count": 25,
   "id": "e4fea478",
   "metadata": {},
   "outputs": [],
   "source": [
    "stem = PorterStemmer()"
   ]
  },
  {
   "cell_type": "code",
   "execution_count": 26,
   "id": "2050c494",
   "metadata": {},
   "outputs": [
    {
     "name": "stdout",
     "output_type": "stream",
     "text": [
      "cri\n",
      "thi\n",
      "lie\n",
      "comput\n",
      "organ\n",
      "match\n"
     ]
    }
   ],
   "source": [
    "for i in tokens:\n",
    "    print(stem.stem(i))"
   ]
  },
  {
   "cell_type": "code",
   "execution_count": 27,
   "id": "84f87cbd",
   "metadata": {},
   "outputs": [],
   "source": [
    "lemnltk = WordNetLemmatizer()"
   ]
  },
  {
   "cell_type": "code",
   "execution_count": 38,
   "id": "8225e638",
   "metadata": {},
   "outputs": [
    {
     "name": "stdout",
     "output_type": "stream",
     "text": [
      "cry\n",
      "this\n",
      "lied\n",
      "computing\n",
      "organizing\n",
      "match\n"
     ]
    }
   ],
   "source": [
    "for i in tokens:\n",
    "    print(lemnltk.lemmatize(i))"
   ]
  },
  {
   "cell_type": "markdown",
   "id": "c5f1ac36",
   "metadata": {},
   "source": [
    "## Task 3"
   ]
  },
  {
   "cell_type": "code",
   "execution_count": 41,
   "id": "cfd1799f",
   "metadata": {},
   "outputs": [
    {
     "name": "stdout",
     "output_type": "stream",
     "text": [
      "Note from poster to Kubrick newsgroup:\n",
      "\n",
      "I found this on a bbs a while ago and I thought I'd pass it along to all \n",
      "of you Kubrick freaks out there.\n",
      "\n",
      "02/23/89\n",
      "Transcriber's note:\n",
      "\n",
      "For all you Clarke/Kubrick/2001 fans,\n",
      "\n",
      "I found the original paper copy of this screenplay a while back and felt \n",
      "compelled to transcribe it to disk and upload it to various bulletin \n",
      "boards for the enjoyment of all.\n",
      "\n",
      "The final movie deviates from this screenplay in a number of interesting \n",
      "ways. I've tried to maintain the format of the original document except \n",
      "the number of lines per page of the original. In order to reduce the \n",
      "length of this file I've used a bar of \"------\" to delimit the pages as \n",
      "there was a lot of whitespace per original screenplay page.\n",
      "\n"
     ]
    }
   ],
   "source": [
    "text = open('DS3_C2_S3_ScifiscriptsIntro_Data_Practice.txt','r').read()\n",
    "print(text)"
   ]
  },
  {
   "cell_type": "code",
   "execution_count": 42,
   "id": "729d8bb9",
   "metadata": {},
   "outputs": [
    {
     "data": {
      "text/plain": [
       "'Note poster Kubrick newsgroup: I found bbs ago I thought I\\'d pass Kubrick freaks there. 02/23/89 Transcriber\\'s note: For Clarke/Kubrick/2001 fans, I found original paper copy screenplay felt compelled transcribe disk upload bulletin boards enjoyment all. The final movie deviates screenplay number interesting ways. I\\'ve tried maintain format original document number lines page original. In order reduce length file I\\'ve bar \"------\" delimit pages lot whitespace original screenplay page.'"
      ]
     },
     "execution_count": 42,
     "metadata": {},
     "output_type": "execute_result"
    }
   ],
   "source": [
    "text1 = text.split()\n",
    "a = [word for word in text1 if word not in stop_words]\n",
    "Text=' '.join(a)\n",
    "Text"
   ]
  },
  {
   "cell_type": "code",
   "execution_count": 43,
   "id": "d83de59a",
   "metadata": {},
   "outputs": [
    {
     "data": {
      "text/plain": [
       "02/23/89"
      ]
     },
     "execution_count": 43,
     "metadata": {},
     "output_type": "execute_result"
    }
   ],
   "source": [
    "lst = []\n",
    "doc1 = nlp(Text)\n",
    "for i in doc1.sents:\n",
    "    lst.append(i)\n",
    "lst.pop(1)"
   ]
  },
  {
   "cell_type": "code",
   "execution_count": 44,
   "id": "b2417b74",
   "metadata": {},
   "outputs": [
    {
     "data": {
      "text/plain": [
       "[Note poster Kubrick newsgroup: I found bbs ago I thought I'd pass Kubrick freaks there.,\n",
       " Transcriber's note: For Clarke/Kubrick/2001 fans, I found original paper copy screenplay felt compelled transcribe disk upload bulletin boards enjoyment all.,\n",
       " The final movie deviates screenplay number interesting ways.,\n",
       " I've tried maintain format original document number lines page original.,\n",
       " In order reduce length file I've bar \"------\" delimit pages lot whitespace original screenplay page.]"
      ]
     },
     "execution_count": 44,
     "metadata": {},
     "output_type": "execute_result"
    }
   ],
   "source": [
    "lst[0:5]"
   ]
  },
  {
   "cell_type": "markdown",
   "id": "8b0cdaa9",
   "metadata": {},
   "source": [
    "## Task 4"
   ]
  },
  {
   "cell_type": "code",
   "execution_count": 45,
   "id": "cf230337",
   "metadata": {},
   "outputs": [],
   "source": [
    "sen1 = 'Bryan visisted his friend for a while and then went home at 10 p.m.'"
   ]
  },
  {
   "cell_type": "code",
   "execution_count": 46,
   "id": "ac38d2f7",
   "metadata": {},
   "outputs": [],
   "source": [
    "doc4 = nlp(sen1)"
   ]
  },
  {
   "cell_type": "code",
   "execution_count": 47,
   "id": "13d27309",
   "metadata": {},
   "outputs": [
    {
     "name": "stdout",
     "output_type": "stream",
     "text": [
      "PROPN\n",
      "VERB\n",
      "PRON\n",
      "NOUN\n",
      "ADP\n",
      "DET\n",
      "NOUN\n",
      "CCONJ\n",
      "ADV\n",
      "VERB\n",
      "ADV\n",
      "ADP\n",
      "NUM\n",
      "ADV\n"
     ]
    }
   ],
   "source": [
    "for i in doc4:\n",
    "    print(i.pos_)"
   ]
  },
  {
   "cell_type": "markdown",
   "id": "96b6920b",
   "metadata": {},
   "source": [
    "## Task 5"
   ]
  },
  {
   "cell_type": "code",
   "execution_count": 48,
   "id": "b834163f",
   "metadata": {},
   "outputs": [
    {
     "data": {
      "text/plain": [
       "'PADUA HIGH SCHOOL - DAY\\nRevision November 12, 1997\\n'"
      ]
     },
     "execution_count": 48,
     "metadata": {},
     "output_type": "execute_result"
    }
   ],
   "source": [
    "text5 = open('DS3_C2_S3_Random_Data_Practice.txt','r').read()\n",
    "text5"
   ]
  },
  {
   "cell_type": "code",
   "execution_count": 49,
   "id": "a231deee",
   "metadata": {},
   "outputs": [],
   "source": [
    "doc4 = nlp(text5)"
   ]
  },
  {
   "cell_type": "code",
   "execution_count": 50,
   "id": "0d10bd68",
   "metadata": {},
   "outputs": [
    {
     "name": "stdout",
     "output_type": "stream",
     "text": [
      "SCHOOL is a  PROPN\n",
      "DAY is a  PROPN\n",
      "November is a  PROPN\n",
      "12 is a  NUM\n",
      "1997 is a  NUM\n"
     ]
    }
   ],
   "source": [
    "for i in doc4:\n",
    "    if i.pos_ == 'PROPN' or i.pos_ =='NUM':\n",
    "        print(i ,'is a ', i.pos_)"
   ]
  },
  {
   "cell_type": "markdown",
   "id": "2601d349",
   "metadata": {},
   "source": [
    "## Task 6"
   ]
  },
  {
   "cell_type": "code",
   "execution_count": 51,
   "id": "91d8b555",
   "metadata": {},
   "outputs": [
    {
     "data": {
      "text/plain": [
       "['can',\n",
       " 'hundred',\n",
       " 'become',\n",
       " 'next',\n",
       " 'nine',\n",
       " 'anywhere',\n",
       " 'thence',\n",
       " 'name',\n",
       " 'two',\n",
       " 'whence']"
      ]
     },
     "execution_count": 51,
     "metadata": {},
     "output_type": "execute_result"
    }
   ],
   "source": [
    "stop_words = STOP_WORDS\n",
    "list(stop_words)[0:10]"
   ]
  },
  {
   "cell_type": "code",
   "execution_count": 52,
   "id": "d86e61a3",
   "metadata": {},
   "outputs": [],
   "source": [
    "stop_words.update({1,2,3,4,5})"
   ]
  },
  {
   "cell_type": "code",
   "execution_count": 53,
   "id": "7fc46592",
   "metadata": {},
   "outputs": [
    {
     "data": {
      "text/plain": [
       "['can', 'hundred', 1, 2, 3, 4, 'become', 5, 'next', 'nine']"
      ]
     },
     "execution_count": 53,
     "metadata": {},
     "output_type": "execute_result"
    }
   ],
   "source": [
    "list(stop_words)[0:10]"
   ]
  },
  {
   "cell_type": "code",
   "execution_count": 54,
   "id": "fdc7359e",
   "metadata": {},
   "outputs": [
    {
     "data": {
      "text/plain": [
       "{\"'d\",\n",
       " \"'ll\",\n",
       " \"'m\",\n",
       " \"'re\",\n",
       " \"'s\",\n",
       " \"'ve\",\n",
       " 1,\n",
       " 2,\n",
       " 3,\n",
       " 4,\n",
       " 5,\n",
       " 'a',\n",
       " 'about',\n",
       " 'above',\n",
       " 'across',\n",
       " 'after',\n",
       " 'afterwards',\n",
       " 'again',\n",
       " 'against',\n",
       " 'all',\n",
       " 'almost',\n",
       " 'alone',\n",
       " 'along',\n",
       " 'already',\n",
       " 'also',\n",
       " 'although',\n",
       " 'am',\n",
       " 'among',\n",
       " 'amongst',\n",
       " 'amount',\n",
       " 'an',\n",
       " 'and',\n",
       " 'another',\n",
       " 'any',\n",
       " 'anyhow',\n",
       " 'anyone',\n",
       " 'anything',\n",
       " 'anyway',\n",
       " 'anywhere',\n",
       " 'are',\n",
       " 'around',\n",
       " 'as',\n",
       " 'at',\n",
       " 'back',\n",
       " 'be',\n",
       " 'became',\n",
       " 'because',\n",
       " 'become',\n",
       " 'becoming',\n",
       " 'been',\n",
       " 'before',\n",
       " 'beforehand',\n",
       " 'behind',\n",
       " 'being',\n",
       " 'below',\n",
       " 'beside',\n",
       " 'besides',\n",
       " 'beyond',\n",
       " 'both',\n",
       " 'bottom',\n",
       " 'but',\n",
       " 'by',\n",
       " 'ca',\n",
       " 'call',\n",
       " 'can',\n",
       " 'cannot',\n",
       " 'could',\n",
       " 'did',\n",
       " 'do',\n",
       " 'does',\n",
       " 'doing',\n",
       " 'done',\n",
       " 'down',\n",
       " 'due',\n",
       " 'during',\n",
       " 'each',\n",
       " 'eight',\n",
       " 'either',\n",
       " 'eleven',\n",
       " 'else',\n",
       " 'elsewhere',\n",
       " 'empty',\n",
       " 'enough',\n",
       " 'even',\n",
       " 'ever',\n",
       " 'every',\n",
       " 'everyone',\n",
       " 'everything',\n",
       " 'everywhere',\n",
       " 'except',\n",
       " 'few',\n",
       " 'fifteen',\n",
       " 'fifty',\n",
       " 'first',\n",
       " 'five',\n",
       " 'for',\n",
       " 'former',\n",
       " 'formerly',\n",
       " 'forty',\n",
       " 'four',\n",
       " 'from',\n",
       " 'front',\n",
       " 'full',\n",
       " 'further',\n",
       " 'get',\n",
       " 'give',\n",
       " 'go',\n",
       " 'had',\n",
       " 'has',\n",
       " 'have',\n",
       " 'he',\n",
       " 'hence',\n",
       " 'her',\n",
       " 'here',\n",
       " 'hereafter',\n",
       " 'hereby',\n",
       " 'herein',\n",
       " 'hereupon',\n",
       " 'hers',\n",
       " 'herself',\n",
       " 'him',\n",
       " 'himself',\n",
       " 'his',\n",
       " 'how',\n",
       " 'however',\n",
       " 'hundred',\n",
       " 'i',\n",
       " 'if',\n",
       " 'in',\n",
       " 'indeed',\n",
       " 'into',\n",
       " 'is',\n",
       " 'it',\n",
       " 'its',\n",
       " 'itself',\n",
       " 'just',\n",
       " 'keep',\n",
       " 'last',\n",
       " 'latter',\n",
       " 'latterly',\n",
       " 'least',\n",
       " 'less',\n",
       " 'made',\n",
       " 'make',\n",
       " 'many',\n",
       " 'may',\n",
       " 'me',\n",
       " 'meanwhile',\n",
       " 'might',\n",
       " 'mine',\n",
       " 'more',\n",
       " 'moreover',\n",
       " 'most',\n",
       " 'mostly',\n",
       " 'move',\n",
       " 'much',\n",
       " 'must',\n",
       " 'my',\n",
       " 'myself',\n",
       " \"n't\",\n",
       " 'name',\n",
       " 'namely',\n",
       " 'neither',\n",
       " 'nevertheless',\n",
       " 'next',\n",
       " 'nine',\n",
       " 'no',\n",
       " 'nobody',\n",
       " 'none',\n",
       " 'noone',\n",
       " 'nor',\n",
       " 'not',\n",
       " 'nothing',\n",
       " 'now',\n",
       " 'nowhere',\n",
       " 'n‘t',\n",
       " 'n’t',\n",
       " 'of',\n",
       " 'off',\n",
       " 'often',\n",
       " 'on',\n",
       " 'once',\n",
       " 'one',\n",
       " 'only',\n",
       " 'onto',\n",
       " 'or',\n",
       " 'other',\n",
       " 'others',\n",
       " 'otherwise',\n",
       " 'our',\n",
       " 'ours',\n",
       " 'ourselves',\n",
       " 'out',\n",
       " 'over',\n",
       " 'own',\n",
       " 'part',\n",
       " 'per',\n",
       " 'perhaps',\n",
       " 'please',\n",
       " 'put',\n",
       " 'quite',\n",
       " 'rather',\n",
       " 're',\n",
       " 'really',\n",
       " 'regarding',\n",
       " 'same',\n",
       " 'say',\n",
       " 'see',\n",
       " 'seem',\n",
       " 'seemed',\n",
       " 'seeming',\n",
       " 'seems',\n",
       " 'serious',\n",
       " 'several',\n",
       " 'she',\n",
       " 'should',\n",
       " 'show',\n",
       " 'side',\n",
       " 'since',\n",
       " 'six',\n",
       " 'sixty',\n",
       " 'so',\n",
       " 'some',\n",
       " 'somehow',\n",
       " 'someone',\n",
       " 'something',\n",
       " 'sometime',\n",
       " 'sometimes',\n",
       " 'somewhere',\n",
       " 'still',\n",
       " 'such',\n",
       " 'take',\n",
       " 'ten',\n",
       " 'than',\n",
       " 'that',\n",
       " 'the',\n",
       " 'their',\n",
       " 'them',\n",
       " 'themselves',\n",
       " 'then',\n",
       " 'thence',\n",
       " 'there',\n",
       " 'thereafter',\n",
       " 'thereby',\n",
       " 'therefore',\n",
       " 'therein',\n",
       " 'thereupon',\n",
       " 'these',\n",
       " 'they',\n",
       " 'third',\n",
       " 'this',\n",
       " 'those',\n",
       " 'though',\n",
       " 'three',\n",
       " 'through',\n",
       " 'throughout',\n",
       " 'thru',\n",
       " 'thus',\n",
       " 'to',\n",
       " 'together',\n",
       " 'too',\n",
       " 'top',\n",
       " 'toward',\n",
       " 'towards',\n",
       " 'twelve',\n",
       " 'twenty',\n",
       " 'two',\n",
       " 'under',\n",
       " 'unless',\n",
       " 'until',\n",
       " 'up',\n",
       " 'upon',\n",
       " 'us',\n",
       " 'used',\n",
       " 'using',\n",
       " 'various',\n",
       " 'very',\n",
       " 'via',\n",
       " 'was',\n",
       " 'we',\n",
       " 'well',\n",
       " 'were',\n",
       " 'what',\n",
       " 'whatever',\n",
       " 'when',\n",
       " 'whence',\n",
       " 'whenever',\n",
       " 'where',\n",
       " 'whereafter',\n",
       " 'whereas',\n",
       " 'whereby',\n",
       " 'wherein',\n",
       " 'whereupon',\n",
       " 'wherever',\n",
       " 'whether',\n",
       " 'which',\n",
       " 'while',\n",
       " 'whither',\n",
       " 'who',\n",
       " 'whoever',\n",
       " 'whole',\n",
       " 'whom',\n",
       " 'whose',\n",
       " 'why',\n",
       " 'will',\n",
       " 'with',\n",
       " 'within',\n",
       " 'without',\n",
       " 'would',\n",
       " 'yet',\n",
       " 'you',\n",
       " 'your',\n",
       " 'yours',\n",
       " 'yourself',\n",
       " 'yourselves',\n",
       " '‘d',\n",
       " '‘ll',\n",
       " '‘m',\n",
       " '‘re',\n",
       " '‘s',\n",
       " '‘ve',\n",
       " '’d',\n",
       " '’ll',\n",
       " '’m',\n",
       " '’re',\n",
       " '’s',\n",
       " '’ve'}"
      ]
     },
     "execution_count": 54,
     "metadata": {},
     "output_type": "execute_result"
    }
   ],
   "source": [
    "stop_words.difference_update({'always','never','between','becomes'})\n",
    "stop_words"
   ]
  },
  {
   "cell_type": "markdown",
   "id": "5af38bc9",
   "metadata": {},
   "source": [
    "## Task 7"
   ]
  },
  {
   "cell_type": "code",
   "execution_count": 55,
   "id": "915bad11",
   "metadata": {},
   "outputs": [
    {
     "data": {
      "text/plain": [
       "\"PADUA HIGH SCHOOL - DAY\\nRevision November 12, 1997\\nI hope dinner's ready because I only have ten minutes before Mrs. Johnson squirts out a screamer.\\nHe grabs the mail and rifles through it, as he bends down to kiss Sharon on the cheek.\\nMICHAEL- C'mon. I'm supposed to give you the tour. They head out of the office\\nMICHAEL (continuing)- So -- which Dakota you from?\\n          \\n                                 \\n\""
      ]
     },
     "execution_count": 55,
     "metadata": {},
     "output_type": "execute_result"
    }
   ],
   "source": [
    "text7 = open('DS3_C2_S3_Sample_Data_Practice.txt','r').read()\n",
    "text7"
   ]
  },
  {
   "cell_type": "code",
   "execution_count": 56,
   "id": "d155b33c",
   "metadata": {},
   "outputs": [],
   "source": [
    "doc = nlp(text7)"
   ]
  },
  {
   "cell_type": "code",
   "execution_count": 57,
   "id": "421063b5",
   "metadata": {},
   "outputs": [
    {
     "data": {
      "text/plain": [
       "[PADUA,\n",
       " HIGH,\n",
       " SCHOOL,\n",
       " -,\n",
       " DAY,\n",
       " ,\n",
       " Revision,\n",
       " November,\n",
       " 12,\n",
       " ,,\n",
       " 1997,\n",
       " ,\n",
       " I,\n",
       " hope,\n",
       " dinner,\n",
       " 's,\n",
       " ready,\n",
       " because,\n",
       " I,\n",
       " only,\n",
       " have,\n",
       " ten,\n",
       " minutes,\n",
       " before,\n",
       " Mrs.,\n",
       " Johnson,\n",
       " squirts,\n",
       " out,\n",
       " a,\n",
       " screamer,\n",
       " .,\n",
       " ,\n",
       " He,\n",
       " grabs,\n",
       " the,\n",
       " mail,\n",
       " and,\n",
       " rifles,\n",
       " through,\n",
       " it,\n",
       " ,,\n",
       " as,\n",
       " he,\n",
       " bends,\n",
       " down,\n",
       " to,\n",
       " kiss,\n",
       " Sharon,\n",
       " on,\n",
       " the,\n",
       " cheek,\n",
       " .,\n",
       " ,\n",
       " MICHAEL-,\n",
       " C'm,\n",
       " on,\n",
       " .,\n",
       " I,\n",
       " 'm,\n",
       " supposed,\n",
       " to,\n",
       " give,\n",
       " you,\n",
       " the,\n",
       " tour,\n",
       " .,\n",
       " They,\n",
       " head,\n",
       " out,\n",
       " of,\n",
       " the,\n",
       " office,\n",
       " ,\n",
       " MICHAEL,\n",
       " (,\n",
       " continuing)-,\n",
       " So,\n",
       " --,\n",
       " which,\n",
       " Dakota,\n",
       " you,\n",
       " from,\n",
       " ?,\n",
       " \n",
       "           \n",
       "                                  ]"
      ]
     },
     "execution_count": 57,
     "metadata": {},
     "output_type": "execute_result"
    }
   ],
   "source": [
    "tokens7 = [] \n",
    "for i in doc:\n",
    "    tokens7.append(i)\n",
    "tokens7"
   ]
  },
  {
   "cell_type": "code",
   "execution_count": 58,
   "id": "6d6b763a",
   "metadata": {},
   "outputs": [],
   "source": [
    "lst=[]\n",
    "for i in tokens7:\n",
    "    if i not in stop_words:\n",
    "        lst.append(i)"
   ]
  },
  {
   "cell_type": "code",
   "execution_count": 59,
   "id": "76c2a5c6",
   "metadata": {},
   "outputs": [
    {
     "data": {
      "text/plain": [
       "['padua',\n",
       " 'high',\n",
       " 'SCHOOL',\n",
       " '-',\n",
       " 'DAY',\n",
       " '\\n',\n",
       " 'revision',\n",
       " 'November',\n",
       " '12',\n",
       " ',',\n",
       " '1997',\n",
       " '\\n',\n",
       " 'I',\n",
       " 'hope',\n",
       " 'dinner',\n",
       " 'be',\n",
       " 'ready',\n",
       " 'because',\n",
       " 'I',\n",
       " 'only',\n",
       " 'have',\n",
       " 'ten',\n",
       " 'minute',\n",
       " 'before',\n",
       " 'Mrs.',\n",
       " 'Johnson',\n",
       " 'squirt',\n",
       " 'out',\n",
       " 'a',\n",
       " 'screamer',\n",
       " '.',\n",
       " '\\n',\n",
       " 'he',\n",
       " 'grab',\n",
       " 'the',\n",
       " 'mail',\n",
       " 'and',\n",
       " 'rifle',\n",
       " 'through',\n",
       " 'it',\n",
       " ',',\n",
       " 'as',\n",
       " 'he',\n",
       " 'bend',\n",
       " 'down',\n",
       " 'to',\n",
       " 'kiss',\n",
       " 'Sharon',\n",
       " 'on',\n",
       " 'the',\n",
       " 'cheek',\n",
       " '.',\n",
       " '\\n',\n",
       " 'MICHAEL-',\n",
       " 'come',\n",
       " 'on',\n",
       " '.',\n",
       " 'I',\n",
       " 'be',\n",
       " 'suppose',\n",
       " 'to',\n",
       " 'give',\n",
       " 'you',\n",
       " 'the',\n",
       " 'tour',\n",
       " '.',\n",
       " 'they',\n",
       " 'head',\n",
       " 'out',\n",
       " 'of',\n",
       " 'the',\n",
       " 'office',\n",
       " '\\n',\n",
       " 'MICHAEL',\n",
       " '(',\n",
       " 'continuing)-',\n",
       " 'so',\n",
       " '--',\n",
       " 'which',\n",
       " 'Dakota',\n",
       " 'you',\n",
       " 'from',\n",
       " '?',\n",
       " '\\n          \\n                                 \\n']"
      ]
     },
     "execution_count": 59,
     "metadata": {},
     "output_type": "execute_result"
    }
   ],
   "source": [
    "lem_words = []\n",
    "for i in lst:\n",
    "    lem_words.append(i.lemma_)\n",
    "lem_words"
   ]
  },
  {
   "cell_type": "code",
   "execution_count": 60,
   "id": "a1c5c1e2",
   "metadata": {},
   "outputs": [
    {
     "name": "stdout",
     "output_type": "stream",
     "text": [
      "PADUA is a  VERB\n",
      "HIGH is a  ADJ\n",
      "SCHOOL is a  PROPN\n",
      "- is a  PUNCT\n",
      "DAY is a  PROPN\n",
      "Revision is a  NOUN\n",
      "November is a  PROPN\n",
      "12 is a  NUM\n",
      ", is a  PUNCT\n",
      "1997 is a  NUM\n",
      "I is a  PRON\n",
      "hope is a  VERB\n",
      "dinner is a  NOUN\n",
      "'s is a  AUX\n",
      "ready is a  ADJ\n",
      "because is a  SCONJ\n",
      "I is a  PRON\n",
      "only is a  ADV\n",
      "have is a  VERB\n",
      "ten is a  NUM\n",
      "minutes is a  NOUN\n",
      "before is a  SCONJ\n",
      "Mrs. is a  PROPN\n",
      "Johnson is a  PROPN\n",
      "squirts is a  VERB\n",
      "out is a  ADP\n",
      "a is a  DET\n",
      "screamer is a  ADJ\n",
      ". is a  PUNCT\n",
      "He is a  PRON\n",
      "grabs is a  VERB\n",
      "the is a  DET\n",
      "mail is a  NOUN\n",
      "and is a  CCONJ\n",
      "rifles is a  NOUN\n",
      "through is a  ADP\n",
      "it is a  PRON\n",
      ", is a  PUNCT\n",
      "as is a  SCONJ\n",
      "he is a  PRON\n",
      "bends is a  VERB\n",
      "down is a  ADP\n",
      "to is a  PART\n",
      "kiss is a  VERB\n",
      "Sharon is a  PROPN\n",
      "on is a  ADP\n",
      "the is a  DET\n",
      "cheek is a  NOUN\n",
      ". is a  PUNCT\n",
      "MICHAEL- is a  PROPN\n",
      "C'm is a  VERB\n",
      "on is a  ADP\n",
      ". is a  PUNCT\n",
      "I is a  PRON\n",
      "'m is a  AUX\n",
      "supposed is a  VERB\n",
      "to is a  PART\n",
      "give is a  VERB\n",
      "you is a  PRON\n",
      "the is a  DET\n",
      "tour is a  NOUN\n",
      ". is a  PUNCT\n",
      "They is a  PRON\n",
      "head is a  VERB\n",
      "out is a  ADP\n",
      "of is a  ADP\n",
      "the is a  DET\n",
      "office is a  NOUN\n",
      "MICHAEL is a  PROPN\n",
      "( is a  PUNCT\n",
      "continuing)- is a  X\n",
      "So is a  ADV\n",
      "-- is a  PUNCT\n",
      "which is a  DET\n",
      "Dakota is a  PROPN\n",
      "you is a  PRON\n",
      "from is a  ADP\n",
      "? is a  PUNCT\n"
     ]
    }
   ],
   "source": [
    "for i in doc:\n",
    "    if i.pos_ != 'SPACE':\n",
    "        print(i, 'is a ',i.pos_)"
   ]
  },
  {
   "cell_type": "code",
   "execution_count": null,
   "id": "3283a76a",
   "metadata": {},
   "outputs": [],
   "source": []
  }
 ],
 "metadata": {
  "kernelspec": {
   "display_name": "Python 3 (ipykernel)",
   "language": "python",
   "name": "python3"
  },
  "language_info": {
   "codemirror_mode": {
    "name": "ipython",
    "version": 3
   },
   "file_extension": ".py",
   "mimetype": "text/x-python",
   "name": "python",
   "nbconvert_exporter": "python",
   "pygments_lexer": "ipython3",
   "version": "3.9.12"
  }
 },
 "nbformat": 4,
 "nbformat_minor": 5
}
