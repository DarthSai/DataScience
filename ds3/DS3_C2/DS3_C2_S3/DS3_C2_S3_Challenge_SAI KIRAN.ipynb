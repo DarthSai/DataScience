{
 "cells": [
  {
   "cell_type": "markdown",
   "id": "5ee423c9",
   "metadata": {},
   "source": [
    "## Task 1"
   ]
  },
  {
   "cell_type": "code",
   "execution_count": 1,
   "id": "f7d184b9",
   "metadata": {},
   "outputs": [],
   "source": [
    "import pandas as pd\n",
    "import nltk\n",
    "import spacy\n",
    "from spacy.lang.en import English\n",
    "from spacy.lang.en import STOP_WORDS\n",
    "from nltk.corpus import stopwords\n",
    "from nltk.stem.porter import PorterStemmer\n",
    "from collections import Counter"
   ]
  },
  {
   "cell_type": "code",
   "execution_count": 2,
   "id": "13d02c59",
   "metadata": {},
   "outputs": [
    {
     "name": "stderr",
     "output_type": "stream",
     "text": [
      "[nltk_data] Downloading package stopwords to\n",
      "[nltk_data]     C:\\Users\\saiki\\AppData\\Roaming\\nltk_data...\n",
      "[nltk_data]   Package stopwords is already up-to-date!\n"
     ]
    },
    {
     "data": {
      "text/plain": [
       "True"
      ]
     },
     "execution_count": 2,
     "metadata": {},
     "output_type": "execute_result"
    }
   ],
   "source": [
    "nltk.download('stopwords')"
   ]
  },
  {
   "cell_type": "code",
   "execution_count": 3,
   "id": "0ed1ca1f",
   "metadata": {},
   "outputs": [],
   "source": [
    "nlp = English()\n",
    "nlp2 = spacy.load('en_core_web_sm')"
   ]
  },
  {
   "cell_type": "code",
   "execution_count": 4,
   "id": "457291a8",
   "metadata": {},
   "outputs": [
    {
     "data": {
      "text/html": [
       "<div>\n",
       "<style scoped>\n",
       "    .dataframe tbody tr th:only-of-type {\n",
       "        vertical-align: middle;\n",
       "    }\n",
       "\n",
       "    .dataframe tbody tr th {\n",
       "        vertical-align: top;\n",
       "    }\n",
       "\n",
       "    .dataframe thead th {\n",
       "        text-align: right;\n",
       "    }\n",
       "</style>\n",
       "<table border=\"1\" class=\"dataframe\">\n",
       "  <thead>\n",
       "    <tr style=\"text-align: right;\">\n",
       "      <th></th>\n",
       "      <th>id</th>\n",
       "      <th>title</th>\n",
       "      <th>content</th>\n",
       "      <th>tags</th>\n",
       "    </tr>\n",
       "  </thead>\n",
       "  <tbody>\n",
       "    <tr>\n",
       "      <th>0</th>\n",
       "      <td>1</td>\n",
       "      <td>get chewy chocolate chip cookies</td>\n",
       "      <td>chocolate chips cookies always crisp get chewy...</td>\n",
       "      <td>['baking', 'cookies', 'texture']</td>\n",
       "    </tr>\n",
       "    <tr>\n",
       "      <th>1</th>\n",
       "      <td>2</td>\n",
       "      <td>cook bacon oven</td>\n",
       "      <td>heard people cooking bacon oven laying strips ...</td>\n",
       "      <td>['oven', 'cooking-time', 'bacon']</td>\n",
       "    </tr>\n",
       "    <tr>\n",
       "      <th>2</th>\n",
       "      <td>3</td>\n",
       "      <td>difference white brown eggs</td>\n",
       "      <td>always use brown extra large eggs honestly say...</td>\n",
       "      <td>['eggs']</td>\n",
       "    </tr>\n",
       "    <tr>\n",
       "      <th>3</th>\n",
       "      <td>4</td>\n",
       "      <td>difference baking soda baking powder</td>\n",
       "      <td>use one place certain recipes</td>\n",
       "      <td>['substitutions', 'please-remove-this-tag', 'b...</td>\n",
       "    </tr>\n",
       "    <tr>\n",
       "      <th>4</th>\n",
       "      <td>5</td>\n",
       "      <td>tomato sauce recipe cut acidity</td>\n",
       "      <td>seems every time make tomato sauce pasta sauce...</td>\n",
       "      <td>['sauce', 'pasta', 'tomatoes', 'italian-cuisine']</td>\n",
       "    </tr>\n",
       "    <tr>\n",
       "      <th>...</th>\n",
       "      <td>...</td>\n",
       "      <td>...</td>\n",
       "      <td>...</td>\n",
       "      <td>...</td>\n",
       "    </tr>\n",
       "    <tr>\n",
       "      <th>15399</th>\n",
       "      <td>73670</td>\n",
       "      <td>poached eggs altitude</td>\n",
       "      <td>recently signed america test kitchen cooking s...</td>\n",
       "      <td>['eggs', 'poaching', 'high-altitude']</td>\n",
       "    </tr>\n",
       "    <tr>\n",
       "      <th>15400</th>\n",
       "      <td>73678</td>\n",
       "      <td>thicken buttercream without adding sugar</td>\n",
       "      <td>made buttercream frosting brownies using recip...</td>\n",
       "      <td>['frosting']</td>\n",
       "    </tr>\n",
       "    <tr>\n",
       "      <th>15401</th>\n",
       "      <td>73680</td>\n",
       "      <td>looking old italian recipe chamellas</td>\n",
       "      <td>italian mom gowould pour flour board place egg...</td>\n",
       "      <td>['baking']</td>\n",
       "    </tr>\n",
       "    <tr>\n",
       "      <th>15402</th>\n",
       "      <td>73681</td>\n",
       "      <td>make ice cream artificial sweetener</td>\n",
       "      <td>wonder artificial sweetener like sucralose ery...</td>\n",
       "      <td>['ice-cream']</td>\n",
       "    </tr>\n",
       "    <tr>\n",
       "      <th>15403</th>\n",
       "      <td>73683</td>\n",
       "      <td>white bits nutella</td>\n",
       "      <td>top side showing bits surface recently discove...</td>\n",
       "      <td>['fats', 'food-identification', 'mold']</td>\n",
       "    </tr>\n",
       "  </tbody>\n",
       "</table>\n",
       "<p>15404 rows × 4 columns</p>\n",
       "</div>"
      ],
      "text/plain": [
       "          id                                     title  \\\n",
       "0          1          get chewy chocolate chip cookies   \n",
       "1          2                           cook bacon oven   \n",
       "2          3               difference white brown eggs   \n",
       "3          4      difference baking soda baking powder   \n",
       "4          5           tomato sauce recipe cut acidity   \n",
       "...      ...                                       ...   \n",
       "15399  73670                     poached eggs altitude   \n",
       "15400  73678  thicken buttercream without adding sugar   \n",
       "15401  73680      looking old italian recipe chamellas   \n",
       "15402  73681       make ice cream artificial sweetener   \n",
       "15403  73683                        white bits nutella   \n",
       "\n",
       "                                                 content  \\\n",
       "0      chocolate chips cookies always crisp get chewy...   \n",
       "1      heard people cooking bacon oven laying strips ...   \n",
       "2      always use brown extra large eggs honestly say...   \n",
       "3                          use one place certain recipes   \n",
       "4      seems every time make tomato sauce pasta sauce...   \n",
       "...                                                  ...   \n",
       "15399  recently signed america test kitchen cooking s...   \n",
       "15400  made buttercream frosting brownies using recip...   \n",
       "15401  italian mom gowould pour flour board place egg...   \n",
       "15402  wonder artificial sweetener like sucralose ery...   \n",
       "15403  top side showing bits surface recently discove...   \n",
       "\n",
       "                                                    tags  \n",
       "0                       ['baking', 'cookies', 'texture']  \n",
       "1                      ['oven', 'cooking-time', 'bacon']  \n",
       "2                                               ['eggs']  \n",
       "3      ['substitutions', 'please-remove-this-tag', 'b...  \n",
       "4      ['sauce', 'pasta', 'tomatoes', 'italian-cuisine']  \n",
       "...                                                  ...  \n",
       "15399              ['eggs', 'poaching', 'high-altitude']  \n",
       "15400                                       ['frosting']  \n",
       "15401                                         ['baking']  \n",
       "15402                                      ['ice-cream']  \n",
       "15403            ['fats', 'food-identification', 'mold']  \n",
       "\n",
       "[15404 rows x 4 columns]"
      ]
     },
     "execution_count": 4,
     "metadata": {},
     "output_type": "execute_result"
    }
   ],
   "source": [
    "df = pd.read_csv('DS3_C2_S3_CookingReview_Data_Challenge.csv')\n",
    "df"
   ]
  },
  {
   "cell_type": "code",
   "execution_count": 5,
   "id": "b4d48482",
   "metadata": {},
   "outputs": [
    {
     "data": {
      "text/plain": [
       "id         0\n",
       "title      0\n",
       "content    0\n",
       "tags       0\n",
       "dtype: int64"
      ]
     },
     "execution_count": 5,
     "metadata": {},
     "output_type": "execute_result"
    }
   ],
   "source": [
    "df.isnull().sum()"
   ]
  },
  {
   "cell_type": "markdown",
   "id": "4f06fea8",
   "metadata": {},
   "source": [
    "## Task 2"
   ]
  },
  {
   "cell_type": "code",
   "execution_count": 6,
   "id": "34320a20",
   "metadata": {},
   "outputs": [],
   "source": [
    "stop_words =stopwords.words('English')"
   ]
  },
  {
   "cell_type": "code",
   "execution_count": 7,
   "id": "fdf93cf2",
   "metadata": {},
   "outputs": [],
   "source": [
    "t2 = df['content'][0]"
   ]
  },
  {
   "cell_type": "code",
   "execution_count": 8,
   "id": "c128fa4a",
   "metadata": {},
   "outputs": [
    {
     "name": "stderr",
     "output_type": "stream",
     "text": [
      "C:\\Users\\saiki\\AppData\\Local\\Temp\\ipykernel_16072\\2237959446.py:3: SettingWithCopyWarning: \n",
      "A value is trying to be set on a copy of a slice from a DataFrame\n",
      "\n",
      "See the caveats in the documentation: https://pandas.pydata.org/pandas-docs/stable/user_guide/indexing.html#returning-a-view-versus-a-copy\n",
      "  df['content'][i] =' '.join([word for word in t2.split() if word not in stop_words])\n"
     ]
    }
   ],
   "source": [
    "for i in range(len(df['content'])):\n",
    "    t2 = df['content'][i]\n",
    "    df['content'][i] =' '.join([word for word in t2.split() if word not in stop_words])"
   ]
  },
  {
   "cell_type": "code",
   "execution_count": 9,
   "id": "6a49e686",
   "metadata": {},
   "outputs": [
    {
     "data": {
      "text/html": [
       "<div>\n",
       "<style scoped>\n",
       "    .dataframe tbody tr th:only-of-type {\n",
       "        vertical-align: middle;\n",
       "    }\n",
       "\n",
       "    .dataframe tbody tr th {\n",
       "        vertical-align: top;\n",
       "    }\n",
       "\n",
       "    .dataframe thead th {\n",
       "        text-align: right;\n",
       "    }\n",
       "</style>\n",
       "<table border=\"1\" class=\"dataframe\">\n",
       "  <thead>\n",
       "    <tr style=\"text-align: right;\">\n",
       "      <th></th>\n",
       "      <th>id</th>\n",
       "      <th>title</th>\n",
       "      <th>content</th>\n",
       "      <th>tags</th>\n",
       "    </tr>\n",
       "  </thead>\n",
       "  <tbody>\n",
       "    <tr>\n",
       "      <th>0</th>\n",
       "      <td>1</td>\n",
       "      <td>get chewy chocolate chip cookies</td>\n",
       "      <td>chocolate chips cookies always crisp get chewy...</td>\n",
       "      <td>['baking', 'cookies', 'texture']</td>\n",
       "    </tr>\n",
       "    <tr>\n",
       "      <th>1</th>\n",
       "      <td>2</td>\n",
       "      <td>cook bacon oven</td>\n",
       "      <td>heard people cooking bacon oven laying strips ...</td>\n",
       "      <td>['oven', 'cooking-time', 'bacon']</td>\n",
       "    </tr>\n",
       "    <tr>\n",
       "      <th>2</th>\n",
       "      <td>3</td>\n",
       "      <td>difference white brown eggs</td>\n",
       "      <td>always use brown extra large eggs honestly say...</td>\n",
       "      <td>['eggs']</td>\n",
       "    </tr>\n",
       "    <tr>\n",
       "      <th>3</th>\n",
       "      <td>4</td>\n",
       "      <td>difference baking soda baking powder</td>\n",
       "      <td>use one place certain recipes</td>\n",
       "      <td>['substitutions', 'please-remove-this-tag', 'b...</td>\n",
       "    </tr>\n",
       "    <tr>\n",
       "      <th>4</th>\n",
       "      <td>5</td>\n",
       "      <td>tomato sauce recipe cut acidity</td>\n",
       "      <td>seems every time make tomato sauce pasta sauce...</td>\n",
       "      <td>['sauce', 'pasta', 'tomatoes', 'italian-cuisine']</td>\n",
       "    </tr>\n",
       "  </tbody>\n",
       "</table>\n",
       "</div>"
      ],
      "text/plain": [
       "   id                                 title  \\\n",
       "0   1      get chewy chocolate chip cookies   \n",
       "1   2                       cook bacon oven   \n",
       "2   3           difference white brown eggs   \n",
       "3   4  difference baking soda baking powder   \n",
       "4   5       tomato sauce recipe cut acidity   \n",
       "\n",
       "                                             content  \\\n",
       "0  chocolate chips cookies always crisp get chewy...   \n",
       "1  heard people cooking bacon oven laying strips ...   \n",
       "2  always use brown extra large eggs honestly say...   \n",
       "3                      use one place certain recipes   \n",
       "4  seems every time make tomato sauce pasta sauce...   \n",
       "\n",
       "                                                tags  \n",
       "0                   ['baking', 'cookies', 'texture']  \n",
       "1                  ['oven', 'cooking-time', 'bacon']  \n",
       "2                                           ['eggs']  \n",
       "3  ['substitutions', 'please-remove-this-tag', 'b...  \n",
       "4  ['sauce', 'pasta', 'tomatoes', 'italian-cuisine']  "
      ]
     },
     "execution_count": 9,
     "metadata": {},
     "output_type": "execute_result"
    }
   ],
   "source": [
    "df.head()"
   ]
  },
  {
   "cell_type": "code",
   "execution_count": 10,
   "id": "42acd1c7",
   "metadata": {},
   "outputs": [],
   "source": [
    "df['content'] = df['content'].apply(lambda x: ' '.join(x for x in x.split() if x not in STOP_WORDS))"
   ]
  },
  {
   "cell_type": "code",
   "execution_count": 11,
   "id": "733e5a3b",
   "metadata": {},
   "outputs": [
    {
     "data": {
      "text/html": [
       "<div>\n",
       "<style scoped>\n",
       "    .dataframe tbody tr th:only-of-type {\n",
       "        vertical-align: middle;\n",
       "    }\n",
       "\n",
       "    .dataframe tbody tr th {\n",
       "        vertical-align: top;\n",
       "    }\n",
       "\n",
       "    .dataframe thead th {\n",
       "        text-align: right;\n",
       "    }\n",
       "</style>\n",
       "<table border=\"1\" class=\"dataframe\">\n",
       "  <thead>\n",
       "    <tr style=\"text-align: right;\">\n",
       "      <th></th>\n",
       "      <th>id</th>\n",
       "      <th>title</th>\n",
       "      <th>content</th>\n",
       "      <th>tags</th>\n",
       "    </tr>\n",
       "  </thead>\n",
       "  <tbody>\n",
       "    <tr>\n",
       "      <th>0</th>\n",
       "      <td>1</td>\n",
       "      <td>get chewy chocolate chip cookies</td>\n",
       "      <td>chocolate chips cookies crisp chewy cookies li...</td>\n",
       "      <td>['baking', 'cookies', 'texture']</td>\n",
       "    </tr>\n",
       "    <tr>\n",
       "      <th>1</th>\n",
       "      <td>2</td>\n",
       "      <td>cook bacon oven</td>\n",
       "      <td>heard people cooking bacon oven laying strips ...</td>\n",
       "      <td>['oven', 'cooking-time', 'bacon']</td>\n",
       "    </tr>\n",
       "    <tr>\n",
       "      <th>2</th>\n",
       "      <td>3</td>\n",
       "      <td>difference white brown eggs</td>\n",
       "      <td>use brown extra large eggs honestly habit poin...</td>\n",
       "      <td>['eggs']</td>\n",
       "    </tr>\n",
       "    <tr>\n",
       "      <th>3</th>\n",
       "      <td>4</td>\n",
       "      <td>difference baking soda baking powder</td>\n",
       "      <td>use place certain recipes</td>\n",
       "      <td>['substitutions', 'please-remove-this-tag', 'b...</td>\n",
       "    </tr>\n",
       "    <tr>\n",
       "      <th>4</th>\n",
       "      <td>5</td>\n",
       "      <td>tomato sauce recipe cut acidity</td>\n",
       "      <td>time tomato sauce pasta sauce little bit acid ...</td>\n",
       "      <td>['sauce', 'pasta', 'tomatoes', 'italian-cuisine']</td>\n",
       "    </tr>\n",
       "  </tbody>\n",
       "</table>\n",
       "</div>"
      ],
      "text/plain": [
       "   id                                 title  \\\n",
       "0   1      get chewy chocolate chip cookies   \n",
       "1   2                       cook bacon oven   \n",
       "2   3           difference white brown eggs   \n",
       "3   4  difference baking soda baking powder   \n",
       "4   5       tomato sauce recipe cut acidity   \n",
       "\n",
       "                                             content  \\\n",
       "0  chocolate chips cookies crisp chewy cookies li...   \n",
       "1  heard people cooking bacon oven laying strips ...   \n",
       "2  use brown extra large eggs honestly habit poin...   \n",
       "3                          use place certain recipes   \n",
       "4  time tomato sauce pasta sauce little bit acid ...   \n",
       "\n",
       "                                                tags  \n",
       "0                   ['baking', 'cookies', 'texture']  \n",
       "1                  ['oven', 'cooking-time', 'bacon']  \n",
       "2                                           ['eggs']  \n",
       "3  ['substitutions', 'please-remove-this-tag', 'b...  \n",
       "4  ['sauce', 'pasta', 'tomatoes', 'italian-cuisine']  "
      ]
     },
     "execution_count": 11,
     "metadata": {},
     "output_type": "execute_result"
    }
   ],
   "source": [
    "df.head()"
   ]
  },
  {
   "cell_type": "code",
   "execution_count": 12,
   "id": "aafa61c2",
   "metadata": {},
   "outputs": [
    {
     "data": {
      "text/plain": [
       "(179, 'NLTK Stopwords')"
      ]
     },
     "execution_count": 12,
     "metadata": {},
     "output_type": "execute_result"
    }
   ],
   "source": [
    "len(stop_words),'NLTK Stopwords'"
   ]
  },
  {
   "cell_type": "code",
   "execution_count": 13,
   "id": "277c297c",
   "metadata": {},
   "outputs": [
    {
     "data": {
      "text/plain": [
       "(326, 'Spacy Stopwords')"
      ]
     },
     "execution_count": 13,
     "metadata": {},
     "output_type": "execute_result"
    }
   ],
   "source": [
    "len(STOP_WORDS),'Spacy Stopwords'"
   ]
  },
  {
   "cell_type": "markdown",
   "id": "0c1494f2",
   "metadata": {},
   "source": [
    "## Task 3"
   ]
  },
  {
   "cell_type": "code",
   "execution_count": 14,
   "id": "00a47a8a",
   "metadata": {},
   "outputs": [
    {
     "data": {
      "text/plain": [
       "'chocolate chips cookies crisp chewy cookies like starbucks thank answered far tip biggest impact chill rest dough increased brown sugar ratio increased bit butter adding maple syrup helped'"
      ]
     },
     "execution_count": 14,
     "metadata": {},
     "output_type": "execute_result"
    }
   ],
   "source": [
    "first_review = df['content'][0]\n",
    "first_review "
   ]
  },
  {
   "cell_type": "code",
   "execution_count": 15,
   "id": "35a06b82",
   "metadata": {},
   "outputs": [],
   "source": [
    "stem = PorterStemmer()"
   ]
  },
  {
   "cell_type": "code",
   "execution_count": 16,
   "id": "d3231a0f",
   "metadata": {},
   "outputs": [
    {
     "name": "stdout",
     "output_type": "stream",
     "text": [
      "chocolate is a  chocol\n",
      "chips is a  chip\n",
      "cookies is a  cooki\n",
      "crisp is a  crisp\n",
      "chewy is a  chewi\n",
      "cookies is a  cooki\n",
      "like is a  like\n",
      "starbucks is a  starbuck\n",
      "thank is a  thank\n",
      "answered is a  answer\n",
      "far is a  far\n",
      "tip is a  tip\n",
      "biggest is a  biggest\n",
      "impact is a  impact\n",
      "chill is a  chill\n",
      "rest is a  rest\n",
      "dough is a  dough\n",
      "increased is a  increas\n",
      "brown is a  brown\n",
      "sugar is a  sugar\n",
      "ratio is a  ratio\n",
      "increased is a  increas\n",
      "bit is a  bit\n",
      "butter is a  butter\n",
      "adding is a  ad\n",
      "maple is a  mapl\n",
      "syrup is a  syrup\n",
      "helped is a  help\n"
     ]
    }
   ],
   "source": [
    "for i in first_review.split():\n",
    "    print(i, 'is a ',stem.stem(i))"
   ]
  },
  {
   "cell_type": "code",
   "execution_count": 17,
   "id": "6c315831",
   "metadata": {},
   "outputs": [],
   "source": [
    "nlp = spacy.load(\"en_core_web_sm\")\n",
    "tokens = nlp(first_review)"
   ]
  },
  {
   "cell_type": "code",
   "execution_count": 18,
   "id": "3326c4e2",
   "metadata": {},
   "outputs": [
    {
     "name": "stdout",
     "output_type": "stream",
     "text": [
      "chocolate is a chocolate\n",
      "chips is a chip\n",
      "cookies is a cookie\n",
      "crisp is a crisp\n",
      "chewy is a chewy\n",
      "cookies is a cookie\n",
      "like is a like\n",
      "starbucks is a starbuck\n",
      "thank is a thank\n",
      "answered is a answer\n",
      "far is a far\n",
      "tip is a tip\n",
      "biggest is a big\n",
      "impact is a impact\n",
      "chill is a chill\n",
      "rest is a rest\n",
      "dough is a dough\n",
      "increased is a increase\n",
      "brown is a brown\n",
      "sugar is a sugar\n",
      "ratio is a ratio\n",
      "increased is a increase\n",
      "bit is a bit\n",
      "butter is a butter\n",
      "adding is a add\n",
      "maple is a maple\n",
      "syrup is a syrup\n",
      "helped is a help\n"
     ]
    }
   ],
   "source": [
    "for i in tokens:\n",
    "    print(i,'is a',i.lemma_)"
   ]
  },
  {
   "cell_type": "markdown",
   "id": "863d26e4",
   "metadata": {},
   "source": [
    "## Task 4"
   ]
  },
  {
   "cell_type": "code",
   "execution_count": 19,
   "id": "ca81acaa",
   "metadata": {},
   "outputs": [
    {
     "name": "stdout",
     "output_type": "stream",
     "text": [
      "chocolate is a NOUN\n",
      "chips is a NOUN\n",
      "cookies is a NOUN\n",
      "crisp is a PROPN\n",
      "chewy is a PROPN\n",
      "cookies is a NOUN\n",
      "like is a ADP\n",
      "starbucks is a NOUN\n",
      "thank is a AUX\n",
      "answered is a VERB\n",
      "far is a ADV\n",
      "tip is a NOUN\n",
      "biggest is a ADJ\n",
      "impact is a NOUN\n",
      "chill is a NOUN\n",
      "rest is a NOUN\n",
      "dough is a NOUN\n",
      "increased is a VERB\n",
      "brown is a ADJ\n",
      "sugar is a NOUN\n",
      "ratio is a NOUN\n",
      "increased is a VERB\n",
      "bit is a NOUN\n",
      "butter is a NOUN\n",
      "adding is a VERB\n",
      "maple is a NOUN\n",
      "syrup is a NOUN\n",
      "helped is a VERB\n"
     ]
    }
   ],
   "source": [
    "for i in tokens:\n",
    "    print(i,'is a',i.pos_)"
   ]
  },
  {
   "cell_type": "code",
   "execution_count": 20,
   "id": "b946ffd1",
   "metadata": {},
   "outputs": [
    {
     "data": {
      "text/plain": [
       "Counter({'NOUN': 16,\n",
       "         'PROPN': 2,\n",
       "         'ADP': 1,\n",
       "         'AUX': 1,\n",
       "         'VERB': 5,\n",
       "         'ADV': 1,\n",
       "         'ADJ': 2})"
      ]
     },
     "execution_count": 20,
     "metadata": {},
     "output_type": "execute_result"
    }
   ],
   "source": [
    "count = Counter()\n",
    "for i in tokens:\n",
    "    count[i.pos_]+=1\n",
    "count"
   ]
  },
  {
   "cell_type": "code",
   "execution_count": null,
   "id": "83c2f4b2",
   "metadata": {},
   "outputs": [],
   "source": []
  },
  {
   "cell_type": "code",
   "execution_count": null,
   "id": "723eaa3e",
   "metadata": {},
   "outputs": [],
   "source": []
  },
  {
   "cell_type": "code",
   "execution_count": null,
   "id": "a2aa2b31",
   "metadata": {},
   "outputs": [],
   "source": []
  },
  {
   "cell_type": "code",
   "execution_count": null,
   "id": "34a1071d",
   "metadata": {},
   "outputs": [],
   "source": []
  },
  {
   "cell_type": "code",
   "execution_count": null,
   "id": "222e9c7b",
   "metadata": {},
   "outputs": [],
   "source": []
  },
  {
   "cell_type": "code",
   "execution_count": null,
   "id": "eec2581d",
   "metadata": {},
   "outputs": [],
   "source": []
  },
  {
   "cell_type": "code",
   "execution_count": null,
   "id": "f3226b55",
   "metadata": {},
   "outputs": [],
   "source": []
  },
  {
   "cell_type": "code",
   "execution_count": null,
   "id": "a78f6ae8",
   "metadata": {},
   "outputs": [],
   "source": []
  },
  {
   "cell_type": "code",
   "execution_count": null,
   "id": "6a31f4d6",
   "metadata": {},
   "outputs": [],
   "source": []
  },
  {
   "cell_type": "code",
   "execution_count": null,
   "id": "0838ae90",
   "metadata": {},
   "outputs": [],
   "source": []
  },
  {
   "cell_type": "code",
   "execution_count": null,
   "id": "fc77a6cf",
   "metadata": {},
   "outputs": [],
   "source": []
  }
 ],
 "metadata": {
  "kernelspec": {
   "display_name": "Python 3 (ipykernel)",
   "language": "python",
   "name": "python3"
  },
  "language_info": {
   "codemirror_mode": {
    "name": "ipython",
    "version": 3
   },
   "file_extension": ".py",
   "mimetype": "text/x-python",
   "name": "python",
   "nbconvert_exporter": "python",
   "pygments_lexer": "ipython3",
   "version": "3.9.12"
  }
 },
 "nbformat": 4,
 "nbformat_minor": 5
}
