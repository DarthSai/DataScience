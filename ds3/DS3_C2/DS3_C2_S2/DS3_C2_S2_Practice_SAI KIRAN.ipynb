{
 "cells": [
  {
   "cell_type": "code",
   "execution_count": 1,
   "id": "c631b7fb",
   "metadata": {},
   "outputs": [],
   "source": [
    "import pandas as pd\n",
    "import spacy\n",
    "import re\n",
    "from collections import Counter"
   ]
  },
  {
   "cell_type": "markdown",
   "id": "0623bf43",
   "metadata": {},
   "source": [
    "## Task 1"
   ]
  },
  {
   "cell_type": "code",
   "execution_count": 2,
   "id": "991f718d",
   "metadata": {},
   "outputs": [],
   "source": [
    "d1 = open('DS3_C2_S2_48hrs_Data_Practice.txt','r').read()\n",
    "d2 = open('DS3_C2_S2_Scifiscripts_Data_Practice.txt ','r').read()\n",
    "d3 = open('DS3_C2_S2_TenThingsIHate_Data_Practice.txt','r').read()"
   ]
  },
  {
   "cell_type": "code",
   "execution_count": 3,
   "id": "844ecd7f",
   "metadata": {},
   "outputs": [],
   "source": [
    "nlp = spacy.blank(\"en\")"
   ]
  },
  {
   "cell_type": "code",
   "execution_count": 4,
   "id": "3aa647c0",
   "metadata": {},
   "outputs": [],
   "source": [
    "d1 = re.sub('\\s+',' ',d1)"
   ]
  },
  {
   "cell_type": "code",
   "execution_count": 5,
   "id": "78e60394",
   "metadata": {},
   "outputs": [],
   "source": [
    "doc = nlp(d1)"
   ]
  },
  {
   "cell_type": "code",
   "execution_count": 6,
   "id": "f79fbe4f",
   "metadata": {},
   "outputs": [
    {
     "name": "stdout",
     "output_type": "stream",
     "text": [
      " \n",
      "\"\n",
      "48\n",
      "HRS\n",
      ".\n",
      "\"\n",
      "by\n",
      "Roger\n",
      "Spottiswoode\n",
      "and\n",
      "Walter\n",
      "Hill\n",
      "&\n",
      "Larry\n",
      "Gross\n",
      "and\n",
      "Steven\n",
      "E.\n",
      "De\n",
      "Souza\n",
      "FADE\n",
      "IN\n",
      ":\n",
      "OPEN\n",
      "COUNTRY\n",
      "-\n",
      "DAY\n",
      "Endless\n",
      "green\n",
      "hills\n",
      "bisected\n",
      "by\n",
      "a\n",
      "ribbon\n",
      "of\n",
      "highway\n",
      ".\n",
      "A\n",
      "road\n",
      "gang\n",
      "clearing\n",
      "brush\n",
      "by\n",
      "the\n",
      "side\n",
      "of\n",
      "the\n",
      "road\n",
      "...\n",
      "Twenty\n",
      "-\n",
      "five\n",
      "men\n",
      "in\n",
      "prison\n",
      "fatigues\n",
      "sweating\n",
      "through\n",
      "their\n",
      "mid\n",
      "-\n",
      "afternoon\n",
      "labor\n",
      ".\n",
      "THREE\n",
      "GUARDS\n",
      "Flank\n",
      "the\n",
      "working\n",
      "prisoners\n",
      "...\n",
      "Mountie\n",
      "hats\n",
      ",\n",
      "shotguns\n",
      ",\n",
      "sidearms\n",
      ",\n",
      "sunglasses\n",
      ";\n",
      "they\n",
      "look\n",
      "like\n",
      "they\n",
      "mean\n",
      "it\n",
      ".\n",
      "HIGHWAY\n",
      "A\n",
      "battered\n",
      "pickup\n",
      "appears\n",
      "...\n",
      "approaches\n",
      ".\n",
      "Suddenly\n",
      ",\n",
      "it\n",
      "coughs\n",
      ",\n"
     ]
    }
   ],
   "source": [
    "for token in doc[:100]:\n",
    "    print(token)"
   ]
  },
  {
   "cell_type": "markdown",
   "id": "71e1d9b0",
   "metadata": {},
   "source": [
    "## Task 2"
   ]
  },
  {
   "cell_type": "code",
   "execution_count": 10,
   "id": "c35a3333",
   "metadata": {},
   "outputs": [],
   "source": [
    "count1 = Counter()\n",
    "\n",
    "for token in doc:\n",
    "    count1[token.orth_]+=1"
   ]
  },
  {
   "cell_type": "code",
   "execution_count": 11,
   "id": "55811fb9",
   "metadata": {},
   "outputs": [
    {
     "name": "stdout",
     "output_type": "stream",
     "text": [
      "Counter({'prisoner': 3, 'prisoners': 1})\n"
     ]
    }
   ],
   "source": [
    "count2 = Counter()\n",
    "\n",
    "for i in doc[:1500]:\n",
    "    if i.orth_ == 'prisoners':\n",
    "        count2[i.orth_]+=1\n",
    "    elif i.orth_ == 'prisoner':\n",
    "        count2[i.orth_]+=1\n",
    "print(count2)"
   ]
  },
  {
   "cell_type": "markdown",
   "id": "39d9f3f4",
   "metadata": {},
   "source": [
    "## Task 3"
   ]
  },
  {
   "cell_type": "code",
   "execution_count": 15,
   "id": "b982be50",
   "metadata": {},
   "outputs": [],
   "source": [
    "t3 = 'John went to the U.S.A. to visit his elder sister.'"
   ]
  },
  {
   "cell_type": "code",
   "execution_count": 16,
   "id": "c06f033b",
   "metadata": {},
   "outputs": [],
   "source": [
    "doc2=nlp(t3)"
   ]
  },
  {
   "cell_type": "code",
   "execution_count": 17,
   "id": "46b9582d",
   "metadata": {},
   "outputs": [
    {
     "name": "stdout",
     "output_type": "stream",
     "text": [
      "John\n",
      "went\n",
      "to\n",
      "the\n",
      "U.S.A.\n",
      "to\n",
      "visit\n",
      "his\n",
      "elder\n",
      "sister\n",
      ".\n"
     ]
    }
   ],
   "source": [
    "for token in doc2:\n",
    "    print(token)"
   ]
  },
  {
   "cell_type": "code",
   "execution_count": 18,
   "id": "f366b706",
   "metadata": {},
   "outputs": [
    {
     "data": {
      "text/plain": [
       "11"
      ]
     },
     "execution_count": 18,
     "metadata": {},
     "output_type": "execute_result"
    }
   ],
   "source": [
    "len(doc2)"
   ]
  },
  {
   "cell_type": "markdown",
   "id": "8c4993ad",
   "metadata": {},
   "source": [
    "U.S.A. is considered as one Token"
   ]
  },
  {
   "cell_type": "markdown",
   "id": "8eb427fb",
   "metadata": {},
   "source": [
    "## Task 4"
   ]
  },
  {
   "cell_type": "code",
   "execution_count": 24,
   "id": "93f2ecc3",
   "metadata": {},
   "outputs": [
    {
     "name": "stdout",
     "output_type": "stream",
     "text": [
      "Count of \"the\" in different files is Counter({'48hrs.txt': 1071, 'Scifiscripts.txt': 871, 'TenThingsIHate.txt': 686}) and 48hrs.txt has the highest occurence of the word\n"
     ]
    }
   ],
   "source": [
    "count = Counter()\n",
    "doc1 = nlp(d1)\n",
    "doc2 = nlp(d2)\n",
    "doc3 = nlp(d3)\n",
    "for i in doc1:\n",
    "    if i.orth_.lower() == 'the':\n",
    "        count['48hrs.txt']+=1\n",
    "for i in doc2:\n",
    "    if i.orth_.lower() == 'the':\n",
    "        count['Scifiscripts.txt']+=1\n",
    "for i in doc3:\n",
    "    if i.orth_.lower() == 'the':\n",
    "        count['TenThingsIHate.txt']+=1\n",
    "print('Count of \"the\" in different files is',count,'and',min(count),'has the highest occurence of the word')"
   ]
  },
  {
   "cell_type": "code",
   "execution_count": null,
   "id": "6ee142e4",
   "metadata": {},
   "outputs": [],
   "source": []
  },
  {
   "cell_type": "code",
   "execution_count": null,
   "id": "8ba4dea8",
   "metadata": {},
   "outputs": [],
   "source": []
  },
  {
   "cell_type": "code",
   "execution_count": null,
   "id": "6ab7d3ea",
   "metadata": {},
   "outputs": [],
   "source": []
  },
  {
   "cell_type": "code",
   "execution_count": null,
   "id": "4b834ba3",
   "metadata": {},
   "outputs": [],
   "source": []
  },
  {
   "cell_type": "code",
   "execution_count": null,
   "id": "3fd5e864",
   "metadata": {},
   "outputs": [],
   "source": []
  },
  {
   "cell_type": "code",
   "execution_count": null,
   "id": "8ec683d7",
   "metadata": {},
   "outputs": [],
   "source": []
  },
  {
   "cell_type": "code",
   "execution_count": null,
   "id": "8bd866f2",
   "metadata": {},
   "outputs": [],
   "source": []
  },
  {
   "cell_type": "code",
   "execution_count": null,
   "id": "55c9d015",
   "metadata": {},
   "outputs": [],
   "source": []
  },
  {
   "cell_type": "code",
   "execution_count": null,
   "id": "29481a60",
   "metadata": {},
   "outputs": [],
   "source": []
  },
  {
   "cell_type": "code",
   "execution_count": null,
   "id": "c42f26a9",
   "metadata": {},
   "outputs": [],
   "source": []
  },
  {
   "cell_type": "code",
   "execution_count": null,
   "id": "f2097376",
   "metadata": {},
   "outputs": [],
   "source": []
  },
  {
   "cell_type": "code",
   "execution_count": null,
   "id": "aaf08842",
   "metadata": {},
   "outputs": [],
   "source": []
  },
  {
   "cell_type": "code",
   "execution_count": null,
   "id": "7e7b86af",
   "metadata": {},
   "outputs": [],
   "source": []
  }
 ],
 "metadata": {
  "kernelspec": {
   "display_name": "Python 3 (ipykernel)",
   "language": "python",
   "name": "python3"
  },
  "language_info": {
   "codemirror_mode": {
    "name": "ipython",
    "version": 3
   },
   "file_extension": ".py",
   "mimetype": "text/x-python",
   "name": "python",
   "nbconvert_exporter": "python",
   "pygments_lexer": "ipython3",
   "version": "3.9.12"
  }
 },
 "nbformat": 4,
 "nbformat_minor": 5
}
