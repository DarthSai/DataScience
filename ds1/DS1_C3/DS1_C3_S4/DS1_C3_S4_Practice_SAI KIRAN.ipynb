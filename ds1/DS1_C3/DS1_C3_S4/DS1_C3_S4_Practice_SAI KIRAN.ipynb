{
 "cells": [
  {
   "cell_type": "code",
   "execution_count": 16,
   "id": "564eff2e",
   "metadata": {},
   "outputs": [
    {
     "name": "stdout",
     "output_type": "stream",
     "text": [
      "Enter a number to get its factorial: \n"
     ]
    },
    {
     "ename": "ValueError",
     "evalue": "invalid literal for int() with base 10: ''",
     "output_type": "error",
     "traceback": [
      "\u001b[1;31m---------------------------------------------------------------------------\u001b[0m",
      "\u001b[1;31mValueError\u001b[0m                                Traceback (most recent call last)",
      "Input \u001b[1;32mIn [16]\u001b[0m, in \u001b[0;36m<cell line: 2>\u001b[1;34m()\u001b[0m\n\u001b[0;32m      1\u001b[0m \u001b[38;5;66;03m#task 1\u001b[39;00m\n\u001b[1;32m----> 2\u001b[0m n\u001b[38;5;241m=\u001b[39m\u001b[38;5;28;43mint\u001b[39;49m\u001b[43m(\u001b[49m\u001b[38;5;28;43minput\u001b[39;49m\u001b[43m(\u001b[49m\u001b[38;5;124;43m\"\u001b[39;49m\u001b[38;5;124;43mEnter a number to get its factorial: \u001b[39;49m\u001b[38;5;124;43m\"\u001b[39;49m\u001b[43m)\u001b[49m\u001b[43m)\u001b[49m\n\u001b[0;32m      3\u001b[0m i\u001b[38;5;241m=\u001b[39m\u001b[38;5;241m1\u001b[39m\n\u001b[0;32m      4\u001b[0m f\u001b[38;5;241m=\u001b[39m\u001b[38;5;241m1\u001b[39m\n",
      "\u001b[1;31mValueError\u001b[0m: invalid literal for int() with base 10: ''"
     ]
    }
   ],
   "source": [
    "#task 1\n",
    "n=int(input(\"Enter a number to get its factorial: \"))\n",
    "i=1\n",
    "f=1\n",
    "while i<=n:\n",
    "    f=i*f\n",
    "    i=i+1\n",
    "print(\"the factorial of\",n,\"is\",f)        \n"
   ]
  },
  {
   "cell_type": "code",
   "execution_count": 17,
   "id": "3ea85031",
   "metadata": {},
   "outputs": [
    {
     "name": "stdout",
     "output_type": "stream",
     "text": [
      "2\n",
      "3\n",
      "5\n",
      "7\n",
      "11\n",
      "13\n",
      "17\n",
      "19\n"
     ]
    }
   ],
   "source": [
    "#task 2\n",
    "i=1\n",
    "while i<=20:\n",
    "    c=0\n",
    "    j=1\n",
    "    while i>=j:\n",
    "        if i%j==0:\n",
    "            c=c+1\n",
    "        j=j+1\n",
    "    if c==2:\n",
    "        print(i)\n",
    "    i=i+1\n",
    "    \n",
    "            "
   ]
  },
  {
   "cell_type": "code",
   "execution_count": 34,
   "id": "fa09b58c",
   "metadata": {},
   "outputs": [
    {
     "name": "stdout",
     "output_type": "stream",
     "text": [
      "Enter a 5 digit number: 12356\n",
      "The sum of the digits is 17\n"
     ]
    }
   ],
   "source": [
    "#task 3\n",
    "x=input(\"Enter a 5 digit number: \")\n",
    "s=int(x[0])+int(x[1])+int(x[2])+int(x[3])+int(x[4])\n",
    "print(\"The sum of the digits is\",s)"
   ]
  },
  {
   "cell_type": "code",
   "execution_count": 39,
   "id": "3704c7bd",
   "metadata": {},
   "outputs": [
    {
     "name": "stdout",
     "output_type": "stream",
     "text": [
      "1\n",
      "2\n",
      "3\n",
      "5\n",
      "8\n",
      "13\n",
      "21\n"
     ]
    }
   ],
   "source": [
    "#task 4\n",
    "a=1\n",
    "b=2\n",
    "i=0\n",
    "while i<7:\n",
    "    print(a)\n",
    "    n=a+b\n",
    "    a=b\n",
    "    b=n\n",
    "    i=i+1\n",
    "    "
   ]
  },
  {
   "cell_type": "code",
   "execution_count": 4,
   "id": "fd4b14e6",
   "metadata": {},
   "outputs": [
    {
     "name": "stdout",
     "output_type": "stream",
     "text": [
      "t1 1803040342080 t2 1803040342080\n",
      "t1 1803040342080 t2 1803040342080\n"
     ]
    }
   ],
   "source": [
    "#task 5 no change because the values from t2 were just shifted to old id of t1;t2 totally unchanged.\n",
    "t1=()\n",
    "t2=()\n",
    "print(\"t1\",id(t1),\"t2\",id(t2))\n",
    "t1=t1+t2\n",
    "print(\"t1\",id(t1),\"t2\",id(t2))"
   ]
  },
  {
   "cell_type": "code",
   "execution_count": 15,
   "id": "65554ecd",
   "metadata": {},
   "outputs": [
    {
     "name": "stdout",
     "output_type": "stream",
     "text": [
      "{70, 40, 10, 50, 20, 60, 30}\n"
     ]
    }
   ],
   "source": [
    "#task 6,the common elemnts are present as this is not a set \n",
    "m={10,20,30,40,50}\n",
    "n={30,40,50,60,70}\n",
    "m=m.union(n)\n",
    "print(m)"
   ]
  },
  {
   "cell_type": "code",
   "execution_count": 42,
   "id": "95b19ad4",
   "metadata": {},
   "outputs": [
    {
     "name": "stdout",
     "output_type": "stream",
     "text": [
      "2\n",
      "4\n"
     ]
    }
   ],
   "source": [
    "#task 7\n",
    "port1={'FTP':1,'SSH':2,'telnet':3,'http':4}\n",
    "for v in port1:\n",
    "    if port1[v]%2==0:\n",
    "        print(port1[v])"
   ]
  },
  {
   "cell_type": "code",
   "execution_count": 48,
   "id": "94fe98c0",
   "metadata": {},
   "outputs": [
    {
     "name": "stdout",
     "output_type": "stream",
     "text": [
      "d = {1: 1, 2: 4, 3: 9, 4: 16, 5: 25, 6: 36, 7: 49, 8: 64, 9: 81, 10: 100, 11: 121, 12: 144, 13: 169, 14: 196, 15: 225}\n",
      "{1: 1, 2: 4, 3: 9, 4: 16, 5: 25, 6: 36, 7: 49, 8: 64, 9: 81, 10: 100, 11: 121, 12: 144, 13: 169, 14: 196, 15: 225, 100: 10000}\n"
     ]
    }
   ],
   "source": [
    "#task 8\n",
    "d={}\n",
    "for i in range(1,16):\n",
    "    d.update({i:i**2})\n",
    "print(\"d =\",d) \n",
    "d.update({100:10000})\n",
    "print(d)"
   ]
  },
  {
   "cell_type": "code",
   "execution_count": 51,
   "id": "8854dfcb",
   "metadata": {},
   "outputs": [
    {
     "name": "stdout",
     "output_type": "stream",
     "text": [
      "{21: 'FTP', 22: 'SSH', 23: 'telnet', 24: 'http'}\n",
      "{'FTP': 21, 'SSH': 22, 'telnet': 23, 'http': 24}\n"
     ]
    }
   ],
   "source": [
    "#task 9\n",
    "port1={21:'FTP',22:'SSH',23:'telnet',24:'http'}\n",
    "port2=dict([(value,key) for key,value in port1.items()])\n",
    "print(port1)\n",
    "print(port2)"
   ]
  },
  {
   "cell_type": "code",
   "execution_count": 3,
   "id": "b7064620",
   "metadata": {},
   "outputs": [
    {
     "name": "stdout",
     "output_type": "stream",
     "text": [
      "{'Emp1': {'name': 'Sara', 'Dept': 'IT', 'Designation': 'Team Lead'}, 'Emp2': {'name': 'Anna', 'Dept': 'IT', 'Designation': 'Senior Software Engineer'}, 'Emp3': {'name': 'Andy', 'Dept': 'BioTech', 'Designation': 'Senior Software Engineer'}}\n"
     ]
    }
   ],
   "source": [
    "#task 10\n",
    "Employee={'Emp1':{'name':'Sara','Dept':'IT','Designation':'Team Lead'},'Emp2':{'name':'Anna','Dept':'IT','Designation':'Senior Software Engineer'},'Emp3':{'name':'Andy','Dept':'BioTech','Designation':'Senior Software Engineer'},'Emp4':{'name':'Andy','Dept':'BioTech','Designation':'Senior Software Engineer'}}\n",
    "d=[]\n",
    "emp=dict()\n",
    "for key,value in Employee.items():\n",
    "    if value not in d:\n",
    "        d.append(value)\n",
    "        emp[key]=value\n",
    "print(emp)"
   ]
  }
 ],
 "metadata": {
  "kernelspec": {
   "display_name": "Python 3 (ipykernel)",
   "language": "python",
   "name": "python3"
  },
  "language_info": {
   "codemirror_mode": {
    "name": "ipython",
    "version": 3
   },
   "file_extension": ".py",
   "mimetype": "text/x-python",
   "name": "python",
   "nbconvert_exporter": "python",
   "pygments_lexer": "ipython3",
   "version": "3.9.12"
  }
 },
 "nbformat": 4,
 "nbformat_minor": 5
}
