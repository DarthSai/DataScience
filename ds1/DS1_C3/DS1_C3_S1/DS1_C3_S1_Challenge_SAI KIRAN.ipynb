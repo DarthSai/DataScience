{
 "cells": [
  {
   "cell_type": "code",
   "execution_count": null,
   "id": "9cc8ea67",
   "metadata": {},
   "outputs": [],
   "source": [
    "#task 1\n",
    "r=6\n",
    "area=3.14152895*r**2\n",
    "print(\"the area of circle of radius 6 is \",area)"
   ]
  },
  {
   "cell_type": "code",
   "execution_count": null,
   "id": "5d84f6e6",
   "metadata": {},
   "outputs": [],
   "source": [
    "#task 2\n",
    "sellingprice=85\n",
    "tax=sellingprice*0.18\n",
    "finalprice=sellingprice+tax\n",
    "print(finalprice)"
   ]
  },
  {
   "cell_type": "code",
   "execution_count": 26,
   "id": "64ba3317",
   "metadata": {},
   "outputs": [
    {
     "name": "stdout",
     "output_type": "stream",
     "text": [
      "44.44\n"
     ]
    }
   ],
   "source": [
    "#task 3\n",
    "amountinrupees=3333\n",
    "rupees_dollars=75\n",
    "amountindollars=amountinrupees/rupees_dollars\n",
    "print(amountindollars)"
   ]
  },
  {
   "cell_type": "code",
   "execution_count": null,
   "id": "42dfe728",
   "metadata": {},
   "outputs": [],
   "source": [
    "#task 4\n",
    "inflation=7\n",
    "amount=500\n",
    "purchasingpowerlastyear=500*(100+7)/100\n",
    "print(purchasingpowerlastyear)"
   ]
  },
  {
   "cell_type": "code",
   "execution_count": 2,
   "id": "e36c860b",
   "metadata": {},
   "outputs": [
    {
     "name": "stdout",
     "output_type": "stream",
     "text": [
      "Enter your name: Linda\n",
      "Enter your language: Python\n",
      "Hello, I'm Linda. I'm learning Python\n"
     ]
    }
   ],
   "source": [
    "#task 5\n",
    "name=input(\"Enter your name: \")\n",
    "language=input(\"Enter your language: \")\n",
    "print(\"Hello, I'm \"+name+\". I'm learning \"+language)"
   ]
  },
  {
   "cell_type": "code",
   "execution_count": 21,
   "id": "b319f267",
   "metadata": {},
   "outputs": [
    {
     "name": "stdout",
     "output_type": "stream",
     "text": [
      "Enter the principle amount: 100\n",
      "Enter the rate of interest: 10\n",
      "Enter the time: 1\n",
      "Simple Interest is  10.0\n"
     ]
    }
   ],
   "source": [
    "#task 6\n",
    "principle=int(input(\"Enter the principle amount: \"))\n",
    "rateofinterest=int(input(\"Enter the rate of interest: \"))\n",
    "time=int(input(\"Enter the time: \"))\n",
    "si=principle*time*rateofinterest/100\n",
    "print(\"Simple Interest is \",si)"
   ]
  },
  {
   "cell_type": "code",
   "execution_count": null,
   "id": "1b84bc7a",
   "metadata": {},
   "outputs": [],
   "source": [
    "#task 7\n",
    "p=int(input(\"Enter the principle amount: \"))\n",
    "r=int(input(\"Enter the rate of interest: \"))\n",
    "t=int(input(\"Enter the time: \"))\n",
    "a=p*(1+(r/100))**t\n",
    "ci=a-p\n",
    "print(\"Coumpound Interest is \",ci)"
   ]
  },
  {
   "cell_type": "code",
   "execution_count": 5,
   "id": "9e79e5c5",
   "metadata": {},
   "outputs": [
    {
     "name": "stdout",
     "output_type": "stream",
     "text": [
      "enter a value for num_var1: 4\n",
      "enter a value for num_var2: 8\n",
      "4 8\n",
      "8 4\n"
     ]
    }
   ],
   "source": [
    "#task 8\n",
    "num_var1=input(\"enter a value for num_var1: \")\n",
    "num_var2=input(\"enter a value for num_var2: \")\n",
    "print(num_var1,num_var2)              \n",
    "temp=num_var1\n",
    "y=num_var2\n",
    "x=temp              \n",
    "print(y,x)"
   ]
  },
  {
   "cell_type": "code",
   "execution_count": 19,
   "id": "01c8bacd",
   "metadata": {},
   "outputs": [
    {
     "name": "stdout",
     "output_type": "stream",
     "text": [
      "Enter the distance in kilometres: 10\n",
      "10  kilometres is  6.215040397762586  miles\n"
     ]
    }
   ],
   "source": [
    "#task 9\n",
    "dinkm=int(input(\"Enter the distance in kilometres: \"))\n",
    "dim=dinkm/1.609\n",
    "print(dinkm,\" kilometres is \", dim,\" miles\")"
   ]
  },
  {
   "cell_type": "code",
   "execution_count": 24,
   "id": "1a72968d",
   "metadata": {},
   "outputs": [
    {
     "name": "stdout",
     "output_type": "stream",
     "text": [
      "Enter a number: 3\n",
      "3 x 1 = 3\n",
      "3 x 2 = 6\n",
      "3 x 3 = 9\n",
      "3 x 4 = 12\n",
      "3 x 5 = 15\n",
      "3 x 6 = 18\n",
      "3 x 7 = 21\n",
      "3 x 8 = 24\n",
      "3 x 9 = 27\n",
      "3 x 10 = 30\n"
     ]
    }
   ],
   "source": [
    "#task 10\n",
    "n=int(input(\"Enter a number: \"))\n",
    "print(n,'x',1,'=',n*1)\n",
    "print(n,'x',2,'=',n*2)\n",
    "print(n,'x',3,'=',n*3)\n",
    "print(n,'x',4,'=',n*4)\n",
    "print(n,'x',5,'=',n*5)\n",
    "print(n,'x',6,'=',n*6)\n",
    "print(n,'x',7,'=',n*7)\n",
    "print(n,'x',8,'=',n*8)\n",
    "print(n,'x',9,'=',n*9)\n",
    "print(n,'x',10,'=',n*10)"
   ]
  },
  {
   "cell_type": "code",
   "execution_count": null,
   "id": "47e8025d",
   "metadata": {},
   "outputs": [],
   "source": []
  }
 ],
 "metadata": {
  "kernelspec": {
   "display_name": "Python 3 (ipykernel)",
   "language": "python",
   "name": "python3"
  },
  "language_info": {
   "codemirror_mode": {
    "name": "ipython",
    "version": 3
   },
   "file_extension": ".py",
   "mimetype": "text/x-python",
   "name": "python",
   "nbconvert_exporter": "python",
   "pygments_lexer": "ipython3",
   "version": "3.9.12"
  }
 },
 "nbformat": 4,
 "nbformat_minor": 5
}
