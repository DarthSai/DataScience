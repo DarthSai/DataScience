{
 "cells": [
  {
   "cell_type": "code",
   "execution_count": 69,
   "id": "e8c50ee0",
   "metadata": {},
   "outputs": [
    {
     "name": "stdout",
     "output_type": "stream",
     "text": [
      "8 2803291744784 2803291744784\n"
     ]
    }
   ],
   "source": [
    "#task 1a\n",
    "rollno=8\n",
    "print(rollno,id(rollno),id(rollno))"
   ]
  },
  {
   "cell_type": "code",
   "execution_count": 21,
   "id": "9178148a",
   "metadata": {},
   "outputs": [
    {
     "name": "stdout",
     "output_type": "stream",
     "text": [
      "Maximus\n"
     ]
    },
    {
     "data": {
      "text/plain": [
       "str"
      ]
     },
     "execution_count": 21,
     "metadata": {},
     "output_type": "execute_result"
    }
   ],
   "source": [
    "#task 1b\n",
    "firstname='Maximus'\n",
    "print(firstname,id(firstname),type(firstname))"
   ]
  },
  {
   "cell_type": "code",
   "execution_count": 22,
   "id": "b9417b37",
   "metadata": {},
   "outputs": [
    {
     "name": "stdout",
     "output_type": "stream",
     "text": [
      "Apollo\n"
     ]
    },
    {
     "data": {
      "text/plain": [
       "str"
      ]
     },
     "execution_count": 22,
     "metadata": {},
     "output_type": "execute_result"
    }
   ],
   "source": [
    "#task 1c\n",
    "lastname='Apollo'\n",
    "print(lastname,id(lastname),type(lastname))"
   ]
  },
  {
   "cell_type": "code",
   "execution_count": 23,
   "id": "ee8a29df",
   "metadata": {},
   "outputs": [
    {
     "name": "stdout",
     "output_type": "stream",
     "text": [
      "50\n"
     ]
    },
    {
     "data": {
      "text/plain": [
       "int"
      ]
     },
     "execution_count": 23,
     "metadata": {},
     "output_type": "execute_result"
    }
   ],
   "source": [
    "#task 1d\n",
    "maxmarks=50\n",
    "print(maxmarks,id(maxmarks),type(maxmarks))"
   ]
  },
  {
   "cell_type": "code",
   "execution_count": 25,
   "id": "738a9b68",
   "metadata": {},
   "outputs": [
    {
     "name": "stdout",
     "output_type": "stream",
     "text": [
      "2\n"
     ]
    }
   ],
   "source": [
    "#task 2a\n",
    "var1=2\n",
    "print(var1)\n"
   ]
  },
  {
   "cell_type": "code",
   "execution_count": 26,
   "id": "0654f828",
   "metadata": {},
   "outputs": [
    {
     "ename": "SyntaxError",
     "evalue": "invalid syntax (3158215196.py, line 2)",
     "output_type": "error",
     "traceback": [
      "\u001b[1;36m  Input \u001b[1;32mIn [26]\u001b[1;36m\u001b[0m\n\u001b[1;33m    2var=2\u001b[0m\n\u001b[1;37m     ^\u001b[0m\n\u001b[1;31mSyntaxError\u001b[0m\u001b[1;31m:\u001b[0m invalid syntax\n"
     ]
    }
   ],
   "source": [
    "#task 2b,variable name cannot begin with a number\n",
    "2var=2"
   ]
  },
  {
   "cell_type": "code",
   "execution_count": 27,
   "id": "ed07b8f0",
   "metadata": {},
   "outputs": [
    {
     "ename": "SyntaxError",
     "evalue": "invalid syntax (3619582334.py, line 2)",
     "output_type": "error",
     "traceback": [
      "\u001b[1;36m  Input \u001b[1;32mIn [27]\u001b[1;36m\u001b[0m\n\u001b[1;33m    var 1=2\u001b[0m\n\u001b[1;37m        ^\u001b[0m\n\u001b[1;31mSyntaxError\u001b[0m\u001b[1;31m:\u001b[0m invalid syntax\n"
     ]
    }
   ],
   "source": [
    "#task 2c,variable name cannot contain spaces\n",
    "var 1=2"
   ]
  },
  {
   "cell_type": "code",
   "execution_count": 28,
   "id": "37241962",
   "metadata": {},
   "outputs": [
    {
     "ename": "SyntaxError",
     "evalue": "invalid syntax (450101619.py, line 2)",
     "output_type": "error",
     "traceback": [
      "\u001b[1;36m  Input \u001b[1;32mIn [28]\u001b[1;36m\u001b[0m\n\u001b[1;33m    var$2=2\u001b[0m\n\u001b[1;37m       ^\u001b[0m\n\u001b[1;31mSyntaxError\u001b[0m\u001b[1;31m:\u001b[0m invalid syntax\n"
     ]
    }
   ],
   "source": [
    "#task 2d,variable name cannot contain symbols other than underscore\n",
    "var$2=2"
   ]
  },
  {
   "cell_type": "code",
   "execution_count": 31,
   "id": "4174ee0f",
   "metadata": {},
   "outputs": [
    {
     "ename": "SyntaxError",
     "evalue": "invalid syntax (978763811.py, line 3)",
     "output_type": "error",
     "traceback": [
      "\u001b[1;36m  Input \u001b[1;32mIn [31]\u001b[1;36m\u001b[0m\n\u001b[1;33m    class=14\u001b[0m\n\u001b[1;37m         ^\u001b[0m\n\u001b[1;31mSyntaxError\u001b[0m\u001b[1;31m:\u001b[0m invalid syntax\n"
     ]
    }
   ],
   "source": [
    "#task 3a\n",
    "Class=15\n",
    "print(Class)"
   ]
  },
  {
   "cell_type": "code",
   "execution_count": null,
   "id": "abd3e49b",
   "metadata": {},
   "outputs": [],
   "source": [
    "#task 3b,class is a keyword\n",
    "class=14\n",
    "print(class)"
   ]
  },
  {
   "cell_type": "code",
   "execution_count": 33,
   "id": "cdff8c7e",
   "metadata": {},
   "outputs": [
    {
     "name": "stdout",
     "output_type": "stream",
     "text": [
      "13\n"
     ]
    }
   ],
   "source": [
    "#task 3c\n",
    "DEF=13\n",
    "print(DEF)"
   ]
  },
  {
   "cell_type": "code",
   "execution_count": 34,
   "id": "8a9c2b1b",
   "metadata": {},
   "outputs": [
    {
     "ename": "SyntaxError",
     "evalue": "invalid syntax (2169271399.py, line 2)",
     "output_type": "error",
     "traceback": [
      "\u001b[1;36m  Input \u001b[1;32mIn [34]\u001b[1;36m\u001b[0m\n\u001b[1;33m    def=12\u001b[0m\n\u001b[1;37m       ^\u001b[0m\n\u001b[1;31mSyntaxError\u001b[0m\u001b[1;31m:\u001b[0m invalid syntax\n"
     ]
    }
   ],
   "source": [
    "#task 3d,def is a keyword\n",
    "def=12"
   ]
  },
  {
   "cell_type": "code",
   "execution_count": 35,
   "id": "577c77d1",
   "metadata": {},
   "outputs": [
    {
     "ename": "NameError",
     "evalue": "name 'TRUE' is not defined",
     "output_type": "error",
     "traceback": [
      "\u001b[1;31m---------------------------------------------------------------------------\u001b[0m",
      "\u001b[1;31mNameError\u001b[0m                                 Traceback (most recent call last)",
      "Input \u001b[1;32mIn [35]\u001b[0m, in \u001b[0;36m<cell line: 2>\u001b[1;34m()\u001b[0m\n\u001b[0;32m      1\u001b[0m \u001b[38;5;66;03m#task 3e\u001b[39;00m\n\u001b[1;32m----> 2\u001b[0m a\u001b[38;5;241m=\u001b[39m\u001b[43mTRUE\u001b[49m\n\u001b[0;32m      3\u001b[0m \u001b[38;5;28mprint\u001b[39m(a)\n",
      "\u001b[1;31mNameError\u001b[0m: name 'TRUE' is not defined"
     ]
    }
   ],
   "source": [
    "#task 3e,TRUE is not a boolean value\n",
    "a=TRUE\n",
    "print(a)"
   ]
  },
  {
   "cell_type": "code",
   "execution_count": 36,
   "id": "58c7edd5",
   "metadata": {},
   "outputs": [
    {
     "ename": "NameError",
     "evalue": "name 'FALSE' is not defined",
     "output_type": "error",
     "traceback": [
      "\u001b[1;31m---------------------------------------------------------------------------\u001b[0m",
      "\u001b[1;31mNameError\u001b[0m                                 Traceback (most recent call last)",
      "Input \u001b[1;32mIn [36]\u001b[0m, in \u001b[0;36m<cell line: 2>\u001b[1;34m()\u001b[0m\n\u001b[0;32m      1\u001b[0m \u001b[38;5;66;03m#task 3,FALSE is a boolean value\u001b[39;00m\n\u001b[1;32m----> 2\u001b[0m b\u001b[38;5;241m=\u001b[39m\u001b[43mFALSE\u001b[49m\n\u001b[0;32m      3\u001b[0m \u001b[38;5;28mprint\u001b[39m(b)\n",
      "\u001b[1;31mNameError\u001b[0m: name 'FALSE' is not defined"
     ]
    }
   ],
   "source": [
    "#task 3,FALSE is not a boolean value\n",
    "b=FALSE\n",
    "print(b)"
   ]
  },
  {
   "cell_type": "code",
   "execution_count": 70,
   "id": "b0976f42",
   "metadata": {},
   "outputs": [
    {
     "name": "stdout",
     "output_type": "stream",
     "text": [
      "40 2803291745808 <class 'int'>\n",
      "32 2803291745552 <class 'int'>\n"
     ]
    },
    {
     "data": {
      "text/plain": [
       "2803291745552"
      ]
     },
     "execution_count": 70,
     "metadata": {},
     "output_type": "execute_result"
    }
   ],
   "source": [
    "#task 4-id is same because the variable 'marks' is stored in the same location and only the data in the location has changed\n",
    "marks=40\n",
    "print(marks,id(marks),type(marks))\n",
    "marks=(32)\n",
    "print(marks,id(marks),type(marks))\n",
    "id(marks)"
   ]
  },
  {
   "cell_type": "code",
   "execution_count": 60,
   "id": "305ec8ff",
   "metadata": {},
   "outputs": [
    {
     "name": "stdout",
     "output_type": "stream",
     "text": [
      "64.0 %\n"
     ]
    }
   ],
   "source": [
    "#task 5a\n",
    "percentage=marks*100/maxmarks\n",
    "print(percentage,'%')"
   ]
  },
  {
   "cell_type": "code",
   "execution_count": 64,
   "id": "562d01ce",
   "metadata": {},
   "outputs": [
    {
     "name": "stdout",
     "output_type": "stream",
     "text": [
      "Maximus Apollo\n"
     ]
    }
   ],
   "source": [
    "#task 5b\n",
    "fullname=firstname+' '+lastname\n",
    "print(fullname)"
   ]
  },
  {
   "cell_type": "code",
   "execution_count": 65,
   "id": "b5eeed04",
   "metadata": {},
   "outputs": [
    {
     "name": "stdout",
     "output_type": "stream",
     "text": [
      "Maximus Apollo scored 64.0 %\n"
     ]
    }
   ],
   "source": [
    "#task 5c\n",
    "print(fullname,'scored',percentage,'%')"
   ]
  },
  {
   "cell_type": "code",
   "execution_count": 66,
   "id": "9cb95bf4",
   "metadata": {},
   "outputs": [
    {
     "name": "stdout",
     "output_type": "stream",
     "text": [
      "{8: 'Maximus Apollo'}\n"
     ]
    }
   ],
   "source": [
    "#task 6a\n",
    "keylist={rollno:fullname}\n",
    "print(keylist)"
   ]
  },
  {
   "cell_type": "code",
   "execution_count": 67,
   "id": "71708f7e",
   "metadata": {},
   "outputs": [
    {
     "name": "stdout",
     "output_type": "stream",
     "text": [
      "[8, 'Maximus Apollo', 32]\n"
     ]
    }
   ],
   "source": [
    "#task 6b\n",
    "listdata=[rollno,fullname,marks]\n",
    "print(listdata)"
   ]
  },
  {
   "cell_type": "code",
   "execution_count": 68,
   "id": "cfe20087",
   "metadata": {},
   "outputs": [
    {
     "ename": "TypeError",
     "evalue": "unsupported operand type(s) for +: 'int' and 'str'",
     "output_type": "error",
     "traceback": [
      "\u001b[1;31m---------------------------------------------------------------------------\u001b[0m",
      "\u001b[1;31mTypeError\u001b[0m                                 Traceback (most recent call last)",
      "Input \u001b[1;32mIn [68]\u001b[0m, in \u001b[0;36m<cell line: 2>\u001b[1;34m()\u001b[0m\n\u001b[0;32m      1\u001b[0m \u001b[38;5;66;03m#task 7a\u001b[39;00m\n\u001b[1;32m----> 2\u001b[0m x\u001b[38;5;241m=\u001b[39m\u001b[38;5;241;43m1\u001b[39;49m\u001b[38;5;241;43m+\u001b[39;49m\u001b[38;5;124;43m\"\u001b[39;49m\u001b[38;5;124;43m2\u001b[39;49m\u001b[38;5;124;43m\"\u001b[39;49m\n",
      "\u001b[1;31mTypeError\u001b[0m: unsupported operand type(s) for +: 'int' and 'str'"
     ]
    }
   ],
   "source": [
    "#task 7a,cannot add intiger and string\n",
    "x=1+\"2\""
   ]
  },
  {
   "cell_type": "code",
   "execution_count": 73,
   "id": "76f826f2",
   "metadata": {},
   "outputs": [
    {
     "name": "stdout",
     "output_type": "stream",
     "text": [
      "12 <class 'str'>\n"
     ]
    }
   ],
   "source": [
    "#task 7b,it concatenated two strings\n",
    "y=\"1\"+\"2\"\n",
    "print(y,type(y))"
   ]
  },
  {
   "cell_type": "code",
   "execution_count": 74,
   "id": "e27b56ef",
   "metadata": {},
   "outputs": [
    {
     "name": "stdout",
     "output_type": "stream",
     "text": [
      "0.5\n"
     ]
    }
   ],
   "source": [
    "#task 7c,basic division\n",
    "z=1/2\n",
    "print(z)"
   ]
  },
  {
   "cell_type": "code",
   "execution_count": 75,
   "id": "bc6fa995",
   "metadata": {},
   "outputs": [
    {
     "name": "stdout",
     "output_type": "stream",
     "text": [
      "0\n"
     ]
    }
   ],
   "source": [
    "#task 7d,quotient\n",
    "zz=1//2\n",
    "print(zz)"
   ]
  },
  {
   "cell_type": "code",
   "execution_count": 81,
   "id": "6cfaf2f0",
   "metadata": {},
   "outputs": [
    {
     "data": {
      "text/plain": [
       "False"
      ]
     },
     "execution_count": 81,
     "metadata": {},
     "output_type": "execute_result"
    }
   ],
   "source": [
    "#task 8\n",
    "True and True   #Onlt true when both are true\n",
    "True and False  #Onlt true when both are true\n",
    "False or True   #Only true when either value is True\n",
    "False or False  #Only true when either value is True"
   ]
  },
  {
   "cell_type": "code",
   "execution_count": 89,
   "id": "e5f3bb5e",
   "metadata": {},
   "outputs": [
    {
     "name": "stdout",
     "output_type": "stream",
     "text": [
      "True\n"
     ]
    }
   ],
   "source": [
    "#task 9a\n",
    "zz=firstname in fullname\n",
    "print(zz)"
   ]
  },
  {
   "cell_type": "code",
   "execution_count": 90,
   "id": "8704227a",
   "metadata": {},
   "outputs": [
    {
     "name": "stdout",
     "output_type": "stream",
     "text": [
      "False\n"
     ]
    }
   ],
   "source": [
    "#task 9b\n",
    "zzz=firstname is fullname\n",
    "print(zzz)"
   ]
  },
  {
   "cell_type": "code",
   "execution_count": 91,
   "id": "4bdd9980",
   "metadata": {},
   "outputs": [
    {
     "name": "stdout",
     "output_type": "stream",
     "text": [
      "d= 66   e= 1024\n"
     ]
    }
   ],
   "source": [
    "#task 10,mathematically different statements\n",
    "a=4\n",
    "b=3\n",
    "c=2\n",
    "d=a**b+c\n",
    "e=a**(b+c)\n",
    "print('d=',d,' ','e=',e)"
   ]
  },
  {
   "cell_type": "code",
   "execution_count": 101,
   "id": "e24bede3",
   "metadata": {},
   "outputs": [
    {
     "name": "stdout",
     "output_type": "stream",
     "text": [
      "the area of circle of radius 6 is  113.09504220000001\n"
     ]
    }
   ],
   "source": [
    "#task 11\n",
    "r=6\n",
    "area=3.14152895*r**2\n",
    "print(\"the area of circle of radius 6 is \",area)"
   ]
  },
  {
   "cell_type": "code",
   "execution_count": 102,
   "id": "6bb4a0ce",
   "metadata": {},
   "outputs": [
    {
     "name": "stdout",
     "output_type": "stream",
     "text": [
      "100.3\n"
     ]
    }
   ],
   "source": [
    "#task 12\n",
    "sellingprice=85\n",
    "tax=sellingprice*0.18\n",
    "finalprice=sellingprice+tax\n",
    "print(finalprice)"
   ]
  },
  {
   "cell_type": "code",
   "execution_count": null,
   "id": "e31b639d",
   "metadata": {},
   "outputs": [],
   "source": [
    "#task 13\n",
    "amountindollars=3333\n",
    "rupees_dollars=75\n",
    "amountinrupees=rupees_dollars*amountindollars\n",
    "print(amountinrupees)"
   ]
  },
  {
   "cell_type": "code",
   "execution_count": 104,
   "id": "240b84a6",
   "metadata": {},
   "outputs": [
    {
     "name": "stdout",
     "output_type": "stream",
     "text": [
      "249975\n"
     ]
    }
   ],
   "source": [
    "#task 14\n",
    "inflation=7\n",
    "amount=500\n",
    "purchasingpowerlastyear=500*(100+7)/100\n",
    "print(purchasingpowerlastyear)"
   ]
  },
  {
   "cell_type": "code",
   "execution_count": 105,
   "id": "3b8b19f4",
   "metadata": {},
   "outputs": [
    {
     "name": "stdout",
     "output_type": "stream",
     "text": [
      "535.0\n"
     ]
    }
   ],
   "source": [
    "\n"
   ]
  },
  {
   "cell_type": "code",
   "execution_count": null,
   "id": "cafc717f",
   "metadata": {},
   "outputs": [],
   "source": []
  }
 ],
 "metadata": {
  "kernelspec": {
   "display_name": "Python 3 (ipykernel)",
   "language": "python",
   "name": "python3"
  },
  "language_info": {
   "codemirror_mode": {
    "name": "ipython",
    "version": 3
   },
   "file_extension": ".py",
   "mimetype": "text/x-python",
   "name": "python",
   "nbconvert_exporter": "python",
   "pygments_lexer": "ipython3",
   "version": "3.9.12"
  }
 },
 "nbformat": 4,
 "nbformat_minor": 5
}
