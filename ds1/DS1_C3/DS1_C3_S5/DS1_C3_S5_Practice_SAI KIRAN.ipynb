{
 "cells": [
  {
   "cell_type": "code",
   "execution_count": 129,
   "id": "a946fb35",
   "metadata": {},
   "outputs": [
    {
     "name": "stdout",
     "output_type": "stream",
     "text": [
      "madame is not a palindrome\n"
     ]
    }
   ],
   "source": [
    "#task 1\n",
    "def palindrome(string):\n",
    "    c=0\n",
    "    for i in range(0,int(len(string)/2)):\n",
    "        if string[i]!=string[len(string)-i-1]:\n",
    "            c=c+1\n",
    "        \n",
    "    if c==0:\n",
    "        print(string,\"is a palindrome\")\n",
    "    else:\n",
    "        print(string,\"is not a palindrome\")\n",
    "palindrome('madam')"
   ]
  },
  {
   "cell_type": "code",
   "execution_count": 34,
   "id": "f2505e6a",
   "metadata": {},
   "outputs": [
    {
     "name": "stdout",
     "output_type": "stream",
     "text": [
      "acekllrstu"
     ]
    }
   ],
   "source": [
    "#task 2\n",
    "def sortstring(string):\n",
    "    l=[]\n",
    "    reverse=''\n",
    "    for i in range(0,len(string)):\n",
    "        l.append(string[i])\n",
    "        l.sort()\n",
    "    for j in l:\n",
    "        print(j,end='')\n",
    "   \n",
    "        \n",
    "    \n",
    "sortstring('lackluster')\n",
    "    \n",
    "\n"
   ]
  },
  {
   "cell_type": "code",
   "execution_count": 59,
   "id": "2b6a7f02",
   "metadata": {},
   "outputs": [
    {
     "data": {
      "text/plain": [
       "'adenosine triphosphate'"
      ]
     },
     "execution_count": 59,
     "metadata": {},
     "output_type": "execute_result"
    }
   ],
   "source": [
    "#task 3\n",
    "def listtostring(lis):\n",
    "    string=\"\"\n",
    "    for i in lis:\n",
    "        string=string+i\n",
    "    return string\n",
    "        \n",
    "listtostring(['a','d','e','n','o','s','i','n','e',' ','t','r','i','p','h','o','s','p','h','a','t','e'])"
   ]
  },
  {
   "cell_type": "code",
   "execution_count": 60,
   "id": "b40c5c46",
   "metadata": {},
   "outputs": [
    {
     "name": "stdout",
     "output_type": "stream",
     "text": [
      "21\n",
      "23\n",
      "23\n",
      "32\n",
      "56\n",
      "57\n"
     ]
    }
   ],
   "source": [
    "#task 4\n",
    "def numasc(lis):\n",
    "    lis.sort()\n",
    "    for i in range(0,(len(lis)-1)):\n",
    "        print(lis[i])\n",
    "        \n",
    "numasc([23,32,23,56,57,78,21])\n",
    "    "
   ]
  },
  {
   "cell_type": "code",
   "execution_count": 62,
   "id": "3ed981a2",
   "metadata": {},
   "outputs": [
    {
     "data": {
      "text/plain": [
       "({'item4': 29}, {'item5': 49.89})"
      ]
     },
     "execution_count": 62,
     "metadata": {},
     "output_type": "execute_result"
    }
   ],
   "source": [
    "#task 5\n",
    "def minmaxdict(di):\n",
    "    minimum={key:value for key,value in di.items() if value==min(di.values())}\n",
    "    maximum={key:value for key,value in di.items() if value==max(di.values())}\n",
    "    return minimum,maximum\n",
    "minmaxdict({'item1':45.50,'item2':35,'item3':41.30,'item4':29,'item5':49.89})\n"
   ]
  },
  {
   "cell_type": "code",
   "execution_count": 67,
   "id": "64e9d034",
   "metadata": {},
   "outputs": [
    {
     "name": "stdout",
     "output_type": "stream",
     "text": [
      "Enter the name of the store: darth\n",
      "Enter the age: 23\n",
      "Enter gender: male\n",
      "Name of the store: darth\n",
      "Age: 23\n",
      "Gender: male\n"
     ]
    }
   ],
   "source": [
    "#task 6\n",
    "def func():\n",
    "    storename=input(\"Enter the name of the store: \")\n",
    "    age=input(\"Enter the age: \")\n",
    "    gender=input(\"Enter gender: \")\n",
    "    return storename,age,gender\n",
    "def funcc(storename,age,gender):\n",
    "    print(\"Name of the store:\",storename)\n",
    "    print(\"Age:\",age)\n",
    "    print(\"Gender:\",gender)\n",
    "    \n",
    "storename,age,gender=func()\n",
    "funcc(storename,age,gender)\n"
   ]
  },
  {
   "cell_type": "code",
   "execution_count": 130,
   "id": "e029d7ae",
   "metadata": {},
   "outputs": [
    {
     "name": "stdout",
     "output_type": "stream",
     "text": [
      "enter a value for x,base: 2\n",
      "enter a value for y,exponent: 2\n",
      "8\n"
     ]
    }
   ],
   "source": [
    "## task 7\n",
    "def printinner():\n",
    "    x=int(input(\"enter a value for x,base: \"))\n",
    "    y=int(input(\"enter a value for y,exponent: \"))\n",
    "    a=x\n",
    "    b=y\n",
    "    \n",
    "    def apower2b():\n",
    "        print(a**b*2)\n",
    "        \n",
    "    apower2b()\n",
    "\n",
    "    \n",
    "printinner()"
   ]
  },
  {
   "cell_type": "code",
   "execution_count": 116,
   "id": "acf8c385",
   "metadata": {},
   "outputs": [
    {
     "data": {
      "text/plain": [
       "[('green', 1), ('blue', 2), ('yellow', 3), ('black', 4), ('red', 5)]"
      ]
     },
     "execution_count": 116,
     "metadata": {},
     "output_type": "execute_result"
    }
   ],
   "source": [
    "#task 8\n",
    "color=[('black',4),('green',1),('red',5),('blue',2),('yellow',3)]\n",
    "def sortlistval(l):\n",
    "    for i in range(0,len(l)):\n",
    "        for j in range(0,len(l)-i-1):\n",
    "            if (l[j][1]>l[j+1][1]):\n",
    "                k=l[j]\n",
    "                l[j]=l[j+1]\n",
    "                l[j+1]=k\n",
    "    return l\n",
    "sortlistval(color)\n",
    "        "
   ]
  },
  {
   "cell_type": "code",
   "execution_count": 120,
   "id": "9b1a1c15",
   "metadata": {},
   "outputs": [
    {
     "name": "stdout",
     "output_type": "stream",
     "text": [
      "['Mandy']\n"
     ]
    }
   ],
   "source": [
    "#task 9\n",
    "intersection=lambda l1,l2:[i for i in l1 if i in l2]\n",
    "a=[\"Andy\",\"Mandy\",\"Sandy\"]\n",
    "b=[\"Handy\",\"Brandy\",\"Mandy\"]\n",
    "print(intersection(a,b))"
   ]
  },
  {
   "cell_type": "code",
   "execution_count": 131,
   "id": "2245e5b0",
   "metadata": {},
   "outputs": [
    {
     "name": "stdout",
     "output_type": "stream",
     "text": [
      "[29, 29, 29]\n"
     ]
    }
   ],
   "source": [
    "#task 10\n",
    "listssum=lambda l1,l2:list(map(lambda x, y: x+y, l1, l2))\n",
    "c=[12,13,14]\n",
    "d=[17,16,15]\n",
    "print(listssum(c,d))"
   ]
  },
  {
   "cell_type": "code",
   "execution_count": null,
   "id": "2106c7a4",
   "metadata": {},
   "outputs": [],
   "source": []
  },
  {
   "cell_type": "code",
   "execution_count": null,
   "id": "4e43d15e",
   "metadata": {},
   "outputs": [],
   "source": []
  }
 ],
 "metadata": {
  "kernelspec": {
   "display_name": "Python 3 (ipykernel)",
   "language": "python",
   "name": "python3"
  },
  "language_info": {
   "codemirror_mode": {
    "name": "ipython",
    "version": 3
   },
   "file_extension": ".py",
   "mimetype": "text/x-python",
   "name": "python",
   "nbconvert_exporter": "python",
   "pygments_lexer": "ipython3",
   "version": "3.9.12"
  }
 },
 "nbformat": 4,
 "nbformat_minor": 5
}
