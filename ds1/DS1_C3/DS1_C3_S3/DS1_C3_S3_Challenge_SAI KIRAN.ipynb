{
 "cells": [
  {
   "cell_type": "code",
   "execution_count": 19,
   "id": "2ac5b3b2",
   "metadata": {},
   "outputs": [
    {
     "name": "stdout",
     "output_type": "stream",
     "text": [
      "Enter a string,press enter and repeat the same: a\n",
      "Enter a string,press enter and repeat the same: s\n",
      "Enter a string,press enter and repeat the same: s\n",
      "Enter a string,press enter and repeat the same: fd\n",
      "Enter a string,press enter and repeat the same: f\n",
      "Enter a string,press enter and repeat the same: fg\n",
      "Enter a string,press enter and repeat the same: g\n",
      "Enter a string,press enter and repeat the same: fhg\n",
      "Enter a string,press enter and repeat the same: f\n",
      "Enter a string,press enter and repeat the same: fg\n",
      "fg\n",
      "f\n",
      "fhg\n",
      "g\n",
      "fg\n",
      "f\n",
      "fd\n",
      "s\n",
      "s\n",
      "a\n"
     ]
    }
   ],
   "source": [
    "#task 1\n",
    "list=[]\n",
    "while len(list)<10:\n",
    "    list.append(input(\"Enter a string,press enter and repeat the same: \"))\n",
    "for i in range(1,11):\n",
    "    print(list[10-i])"
   ]
  },
  {
   "cell_type": "code",
   "execution_count": 4,
   "id": "305a84bf",
   "metadata": {},
   "outputs": [
    {
     "name": "stdout",
     "output_type": "stream",
     "text": [
      "Enter a string,press enter and repeat the same: df\n",
      "Enter a string,press enter and repeat the same: dfgj\n",
      "Enter a string,press enter and repeat the same: fdjg\n",
      "Enter a string,press enter and repeat the same: fgf\n",
      "Enter a string,press enter and repeat the same: gf\n",
      "Enter a string,press enter and repeat the same: th\n",
      "Enter a string,press enter and repeat the same: hg\n",
      "Enter a string,press enter and repeat the same: hdfs\n",
      "Enter a string,press enter and repeat the same: hdf\n",
      "Enter a string,press enter and repeat the same: dsh\n",
      "['dsh', 'hdf', 'hdfs', 'hg', 'th', 'gf', 'fgf', 'fdjg', 'dfgj', 'df']\n"
     ]
    }
   ],
   "source": [
    "#task 2\n",
    "list=[]\n",
    "while len(list)<10:\n",
    "    list.append(input(\"Enter a string,press enter and repeat the same: \"))\n",
    "list.reverse()\n",
    "print(list)"
   ]
  },
  {
   "cell_type": "code",
   "execution_count": 20,
   "id": "df8286e6",
   "metadata": {},
   "outputs": [
    {
     "name": "stdout",
     "output_type": "stream",
     "text": [
      "Enter a string,press enter and repeat the same: asdg\n",
      "['asdg']\n"
     ]
    },
    {
     "ename": "KeyboardInterrupt",
     "evalue": "Interrupted by user",
     "output_type": "error",
     "traceback": [
      "\u001b[1;31m---------------------------------------------------------------------------\u001b[0m",
      "\u001b[1;31mKeyboardInterrupt\u001b[0m                         Traceback (most recent call last)",
      "Input \u001b[1;32mIn [20]\u001b[0m, in \u001b[0;36m<cell line: 3>\u001b[1;34m()\u001b[0m\n\u001b[0;32m      2\u001b[0m alist\u001b[38;5;241m=\u001b[39m[]\n\u001b[0;32m      3\u001b[0m \u001b[38;5;28;01mwhile\u001b[39;00m \u001b[38;5;28mlen\u001b[39m(alist)\u001b[38;5;241m<\u001b[39m\u001b[38;5;241m10\u001b[39m:\n\u001b[1;32m----> 4\u001b[0m     alist\u001b[38;5;241m.\u001b[39mappend(\u001b[38;5;28;43minput\u001b[39;49m\u001b[43m(\u001b[49m\u001b[38;5;124;43m\"\u001b[39;49m\u001b[38;5;124;43mEnter a string,press enter and repeat the same: \u001b[39;49m\u001b[38;5;124;43m\"\u001b[39;49m\u001b[43m)\u001b[49m)\n\u001b[0;32m      5\u001b[0m     \u001b[38;5;28mprint\u001b[39m(alist)\n",
      "File \u001b[1;32mC:\\ProgramData\\Anaconda3\\lib\\site-packages\\ipykernel\\kernelbase.py:1075\u001b[0m, in \u001b[0;36mKernel.raw_input\u001b[1;34m(self, prompt)\u001b[0m\n\u001b[0;32m   1071\u001b[0m \u001b[38;5;28;01mif\u001b[39;00m \u001b[38;5;129;01mnot\u001b[39;00m \u001b[38;5;28mself\u001b[39m\u001b[38;5;241m.\u001b[39m_allow_stdin:\n\u001b[0;32m   1072\u001b[0m     \u001b[38;5;28;01mraise\u001b[39;00m StdinNotImplementedError(\n\u001b[0;32m   1073\u001b[0m         \u001b[38;5;124m\"\u001b[39m\u001b[38;5;124mraw_input was called, but this frontend does not support input requests.\u001b[39m\u001b[38;5;124m\"\u001b[39m\n\u001b[0;32m   1074\u001b[0m     )\n\u001b[1;32m-> 1075\u001b[0m \u001b[38;5;28;01mreturn\u001b[39;00m \u001b[38;5;28;43mself\u001b[39;49m\u001b[38;5;241;43m.\u001b[39;49m\u001b[43m_input_request\u001b[49m\u001b[43m(\u001b[49m\n\u001b[0;32m   1076\u001b[0m \u001b[43m    \u001b[49m\u001b[38;5;28;43mstr\u001b[39;49m\u001b[43m(\u001b[49m\u001b[43mprompt\u001b[49m\u001b[43m)\u001b[49m\u001b[43m,\u001b[49m\n\u001b[0;32m   1077\u001b[0m \u001b[43m    \u001b[49m\u001b[38;5;28;43mself\u001b[39;49m\u001b[38;5;241;43m.\u001b[39;49m\u001b[43m_parent_ident\u001b[49m\u001b[43m[\u001b[49m\u001b[38;5;124;43m\"\u001b[39;49m\u001b[38;5;124;43mshell\u001b[39;49m\u001b[38;5;124;43m\"\u001b[39;49m\u001b[43m]\u001b[49m\u001b[43m,\u001b[49m\n\u001b[0;32m   1078\u001b[0m \u001b[43m    \u001b[49m\u001b[38;5;28;43mself\u001b[39;49m\u001b[38;5;241;43m.\u001b[39;49m\u001b[43mget_parent\u001b[49m\u001b[43m(\u001b[49m\u001b[38;5;124;43m\"\u001b[39;49m\u001b[38;5;124;43mshell\u001b[39;49m\u001b[38;5;124;43m\"\u001b[39;49m\u001b[43m)\u001b[49m\u001b[43m,\u001b[49m\n\u001b[0;32m   1079\u001b[0m \u001b[43m    \u001b[49m\u001b[43mpassword\u001b[49m\u001b[38;5;241;43m=\u001b[39;49m\u001b[38;5;28;43;01mFalse\u001b[39;49;00m\u001b[43m,\u001b[49m\n\u001b[0;32m   1080\u001b[0m \u001b[43m\u001b[49m\u001b[43m)\u001b[49m\n",
      "File \u001b[1;32mC:\\ProgramData\\Anaconda3\\lib\\site-packages\\ipykernel\\kernelbase.py:1120\u001b[0m, in \u001b[0;36mKernel._input_request\u001b[1;34m(self, prompt, ident, parent, password)\u001b[0m\n\u001b[0;32m   1117\u001b[0m             \u001b[38;5;28;01mbreak\u001b[39;00m\n\u001b[0;32m   1118\u001b[0m \u001b[38;5;28;01mexcept\u001b[39;00m \u001b[38;5;167;01mKeyboardInterrupt\u001b[39;00m:\n\u001b[0;32m   1119\u001b[0m     \u001b[38;5;66;03m# re-raise KeyboardInterrupt, to truncate traceback\u001b[39;00m\n\u001b[1;32m-> 1120\u001b[0m     \u001b[38;5;28;01mraise\u001b[39;00m \u001b[38;5;167;01mKeyboardInterrupt\u001b[39;00m(\u001b[38;5;124m\"\u001b[39m\u001b[38;5;124mInterrupted by user\u001b[39m\u001b[38;5;124m\"\u001b[39m) \u001b[38;5;28;01mfrom\u001b[39;00m \u001b[38;5;28mNone\u001b[39m\n\u001b[0;32m   1121\u001b[0m \u001b[38;5;28;01mexcept\u001b[39;00m \u001b[38;5;167;01mException\u001b[39;00m:\n\u001b[0;32m   1122\u001b[0m     \u001b[38;5;28mself\u001b[39m\u001b[38;5;241m.\u001b[39mlog\u001b[38;5;241m.\u001b[39mwarning(\u001b[38;5;124m\"\u001b[39m\u001b[38;5;124mInvalid Message:\u001b[39m\u001b[38;5;124m\"\u001b[39m, exc_info\u001b[38;5;241m=\u001b[39m\u001b[38;5;28;01mTrue\u001b[39;00m)\n",
      "\u001b[1;31mKeyboardInterrupt\u001b[0m: Interrupted by user"
     ]
    }
   ],
   "source": [
    "#task 3\n",
    "alist=[]\n",
    "while len(alist)<10:\n",
    "    alist.append(input(\"Enter a string,press enter and repeat the same: \"))\n",
    "    print(alist)"
   ]
  },
  {
   "cell_type": "code",
   "execution_count": 21,
   "id": "3f1663fe",
   "metadata": {},
   "outputs": [
    {
     "name": "stdout",
     "output_type": "stream",
     "text": [
      "Enter a string,press enter and repeat the same: adfh\n",
      "Enter a string,press enter and repeat the same: df\n",
      "Enter a string,press enter and repeat the same: sdh\n",
      "Enter a string,press enter and repeat the same: sdfh\n",
      "Enter a string,press enter and repeat the same: df\n",
      "Enter a string,press enter and repeat the same: df\n",
      "Enter a string,press enter and repeat the same: df\n",
      "Enter a string,press enter and repeat the same: gh\n",
      "Enter a string,press enter and repeat the same: gh\n",
      "Enter a string,press enter and repeat the same: gh\n",
      "alist:  ['adfh', 'df', 'sdh', 'sdfh', 'df', 'df', 'df', 'gh', 'gh', 'gh']\n",
      "blist:  ['adfh', 'df', 'sdh', 'sdfh', 'gh']\n"
     ]
    }
   ],
   "source": [
    "#task 4\n",
    "alist=[]\n",
    "blist=[]\n",
    "while len(alist)<10:\n",
    "    alist.append(input(\"Enter a string,press enter and repeat the same: \"))\n",
    "    for i in alist:\n",
    "        if i not in blist:\n",
    "            blist.append(i)\n",
    "print(\"alist: \",alist)\n",
    "print(\"blist: \",blist)\n",
    "        "
   ]
  },
  {
   "cell_type": "code",
   "execution_count": 14,
   "id": "98ca3691",
   "metadata": {},
   "outputs": [
    {
     "name": "stdout",
     "output_type": "stream",
     "text": [
      "Enter a string,press enter and repeat the same: g\n",
      "Enter a string,press enter and repeat the same: f\n",
      "Enter a string,press enter and repeat the same: f\n",
      "Enter a string,press enter and repeat the same: f\n",
      "Enter a string,press enter and repeat the same: fe\n",
      "Enter a string,press enter and repeat the same: \n",
      "Enter a string,press enter and repeat the same: wet\n",
      "Enter a string,press enter and repeat the same: g\n",
      "Enter a string,press enter and repeat the same: wet\n",
      "Enter a string,press enter and repeat the same: \n",
      "['', 'f', 'fe', 'g', 'wet']\n"
     ]
    },
    {
     "ename": "ValueError",
     "evalue": "list.remove(x): x not in list",
     "output_type": "error",
     "traceback": [
      "\u001b[1;31m---------------------------------------------------------------------------\u001b[0m",
      "\u001b[1;31mValueError\u001b[0m                                Traceback (most recent call last)",
      "Input \u001b[1;32mIn [14]\u001b[0m, in \u001b[0;36m<cell line: 11>\u001b[1;34m()\u001b[0m\n\u001b[0;32m      9\u001b[0m blist\u001b[38;5;241m.\u001b[39msort()\n\u001b[0;32m     10\u001b[0m \u001b[38;5;28mprint\u001b[39m(blist)\n\u001b[1;32m---> 11\u001b[0m \u001b[43mblist\u001b[49m\u001b[38;5;241;43m.\u001b[39;49m\u001b[43mremove\u001b[49m\u001b[43m(\u001b[49m\u001b[43mblist\u001b[49m\u001b[43m[\u001b[49m\u001b[38;5;241;43m0\u001b[39;49m\u001b[43m:\u001b[49m\u001b[38;5;241;43m4\u001b[39;49m\u001b[43m]\u001b[49m\u001b[43m)\u001b[49m\n\u001b[0;32m     12\u001b[0m \u001b[38;5;28mprint\u001b[39m(blist)\n",
      "\u001b[1;31mValueError\u001b[0m: list.remove(x): x not in list"
     ]
    }
   ],
   "source": [
    "#task 5\n",
    "alist=[]\n",
    "blist=[]\n",
    "while len(alist)<10:\n",
    "    alist.append(input(\"Enter a string,press enter and repeat the same: \"))    \n",
    "for i in alist:\n",
    "    if i not in blist:\n",
    "        blist.append(i)\n",
    "blist.sort()\n",
    "print(blist)"
   ]
  },
  {
   "cell_type": "code",
   "execution_count": 52,
   "id": "d3001d0a",
   "metadata": {
    "scrolled": true
   },
   "outputs": [
    {
     "name": "stdout",
     "output_type": "stream",
     "text": [
      "Enter a string,press enter and repeat the same: as\n",
      "Enter a string,press enter and repeat the same: as\n",
      "Enter a string,press enter and repeat the same: sd\n",
      "Enter a string,press enter and repeat the same: sd\n",
      "Enter a string,press enter and repeat the same: df\n",
      "Enter a string,press enter and repeat the same: df\n",
      "Enter a string,press enter and repeat the same: f\n",
      "Enter a string,press enter and repeat the same: gfg\n",
      "Enter a string,press enter and repeat the same: fg\n",
      "Enter a string,press enter and repeat the same: h\n",
      "['as', 'sd', 'df', 'f', 'gfg', 'fg', 'h']\n",
      "['as', 'sd', 'df', 'f', 'gfg', 'fg']\n",
      "['as', 'sd', 'df', 'f', 'gfg']\n",
      "['as', 'sd', 'df', 'f']\n",
      "['as', 'sd', 'df']\n",
      "['as', 'sd']\n",
      "['as']\n",
      "[]\n"
     ]
    }
   ],
   "source": [
    "#task 6\n",
    "alist=[]\n",
    "blist=[]\n",
    "while len(alist)<10:\n",
    "    alist.append(input(\"Enter a string,press enter and repeat the same: \"))    \n",
    "for i in alist:\n",
    "    if i not in blist:\n",
    "        blist.append(i)\n",
    "print(blist)\n",
    "while len(blist)>0:\n",
    "    blist.pop()\n",
    "    print(blist)"
   ]
  },
  {
   "cell_type": "code",
   "execution_count": 17,
   "id": "51c858ab",
   "metadata": {},
   "outputs": [
    {
     "name": "stdout",
     "output_type": "stream",
     "text": [
      "1505\n",
      "1540\n",
      "1575\n",
      "1610\n",
      "1645\n",
      "1680\n",
      "1715\n",
      "1750\n",
      "1785\n",
      "1820\n",
      "1855\n",
      "1890\n",
      "1925\n",
      "1960\n",
      "1995\n",
      "2030\n",
      "2065\n",
      "2100\n",
      "2135\n",
      "2170\n",
      "2205\n",
      "2240\n",
      "2275\n",
      "2310\n",
      "2345\n",
      "2380\n",
      "2415\n",
      "2450\n",
      "2485\n",
      "2520\n",
      "2555\n",
      "2590\n",
      "2625\n",
      "2660\n",
      "2695\n"
     ]
    }
   ],
   "source": [
    "#task 7\n",
    "for i in range(1500,2701):\n",
    "    if i%5==0 and i%7==0:\n",
    "        print(i)"
   ]
  },
  {
   "cell_type": "code",
   "execution_count": 22,
   "id": "f3abd27b",
   "metadata": {},
   "outputs": [
    {
     "name": "stdout",
     "output_type": "stream",
     "text": [
      "enter a value for which all numbers between 0 and 30 are displayed other than multiples of the value entered: 4\n",
      "1\n",
      "2\n",
      "3\n",
      "5\n",
      "6\n",
      "7\n",
      "9\n",
      "10\n",
      "11\n",
      "13\n",
      "14\n",
      "15\n",
      "17\n",
      "18\n",
      "19\n",
      "21\n",
      "22\n",
      "23\n",
      "25\n",
      "26\n",
      "27\n",
      "29\n",
      "30\n"
     ]
    }
   ],
   "source": [
    "#task 8\n",
    "n=int(input(\"enter a value for which all numbers between 0 and 30 are displayed other than multiples of the value entered: \"))\n",
    "for i in range(0,31):\n",
    "    if i%n!=0:\n",
    "        print(i)"
   ]
  },
  {
   "cell_type": "code",
   "execution_count": 28,
   "id": "9a0c59b5",
   "metadata": {},
   "outputs": [
    {
     "name": "stdout",
     "output_type": "stream",
     "text": [
      "first list with 3 nested lists:  [[1, 2, 3], [4, 5, 6], [7, 8, 9]]\n",
      "second list with 3 nested lists:  [[19, 18, 17], [16, 15, 14], [13, 12, 11]]\n",
      "third list with 3 nested lists(sum of firstlist and secondlist):  [[20, 20, 20], [20, 20, 20], [20, 20, 20]]\n"
     ]
    }
   ],
   "source": [
    "#task 9\n",
    "thirdlist=[]\n",
    "firstlist=[[1,2,3],[4,5,6],[7,8,9]]\n",
    "secondlist=[[19,18,17],[16,15,14],[13,12,11]]\n",
    "\n",
    "for i in range(0,3):\n",
    "        thirdlist.append([])\n",
    "        for j in range(0,3):\n",
    "            thirdlist[i].append(firstlist[i][j]+secondlist[i][j])\n",
    "        \n",
    "\n",
    "print(\"first list with 3 nested lists: \",firstlist)\n",
    "print(\"second list with 3 nested lists: \",secondlist)\n",
    "print(\"third list with 3 nested lists(sum of firstlist and secondlist): \",thirdlist)"
   ]
  },
  {
   "cell_type": "code",
   "execution_count": 45,
   "id": "79f39e4c",
   "metadata": {},
   "outputs": [
    {
     "name": "stdout",
     "output_type": "stream",
     "text": [
      "Enter a string for first nested list in first list,press enter and repeat the same: 1\n",
      "Enter a string for first nested list in first list,press enter and repeat the same: 2\n",
      "Enter a string for first nested list in first list,press enter and repeat the same: 3\n",
      "Enter a string for second nested list in first list,press enter and repeat the same: 4\n",
      "Enter a string for second nested list in first list,press enter and repeat the same: 5\n",
      "Enter a string for second nested list in first list,press enter and repeat the same: 5\n",
      "Enter a string for third nested list in first list,press enter and repeat the same: 6\n",
      "Enter a string for third nested list in first list,press enter and repeat the same: 7\n",
      "Enter a string for third nested list in first list,press enter and repeat the same: 7\n",
      "Enter a string for first nested list in second list,press enter and repeat the same: 8\n",
      "Enter a string for first nested list in second list,press enter and repeat the same: 7\n",
      "Enter a string for first nested list in second list,press enter and repeat the same: 6\n",
      "Enter a string for second nested list in second list,press enter and repeat the same: 5\n",
      "Enter a string for second nested list in second list,press enter and repeat the same: 4\n",
      "Enter a string for second nested list in second list,press enter and repeat the same: 3\n",
      "Enter a string for third nested list in second list,press enter and repeat the same: 2\n",
      "Enter a string for third nested list in second list,press enter and repeat the same: 1\n",
      "Enter a string for third nested list in second list,press enter and repeat the same: 0\n",
      "first list with 3 nested lists:  [['1', '2', '3'], ['4', '5', '5'], ['6', '7', '7']]\n",
      "second list with 3 nested lists:  [['8', '7', '6'], ['5', '4', '3'], ['2', '1', '0']]\n"
     ]
    }
   ],
   "source": [
    "#task 10\n",
    "plist=[]\n",
    "qlist=[]\n",
    "rlist=[]\n",
    "firstlist=[plist,qlist,rlist]\n",
    "while len(plist)<3:\n",
    "    plist.append(input(\"Enter a string for first nested list in first list,press enter and repeat the same: \"))\n",
    "while len(qlist)<3:\n",
    "    qlist.append(input(\"Enter a string for second nested list in first list,press enter and repeat the same: \"))\n",
    "while len(rlist)<3:\n",
    "    rlist.append(input(\"Enter a string for third nested list in first list,press enter and repeat the same: \"))\n",
    "xlist=[]\n",
    "ylist=[]\n",
    "zlist=[]\n",
    "secondlist=[xlist,ylist,zlist]\n",
    "while len(xlist)<3:\n",
    "    xlist.append(input(\"Enter a string for first nested list in second list,press enter and repeat the same: \"))\n",
    "while len(ylist)<3:\n",
    "    ylist.append(input(\"Enter a string for second nested list in second list,press enter and repeat the same: \"))\n",
    "while len(zlist)<3:\n",
    "    zlist.append(input(\"Enter a string for third nested list in second list,press enter and repeat the same: \"))\n",
    "print(\"first list with 3 nested lists: \",firstlist)\n",
    "print(\"second list with 3 nested lists: \",secondlist)"
   ]
  },
  {
   "cell_type": "code",
   "execution_count": null,
   "id": "1bb53b87",
   "metadata": {},
   "outputs": [],
   "source": []
  },
  {
   "cell_type": "code",
   "execution_count": 44,
   "id": "fecdef15",
   "metadata": {},
   "outputs": [
    {
     "name": "stdout",
     "output_type": "stream",
     "text": [
      "Enter a string for first nested list in first list,press enter and repeat the same: 1\n",
      "Enter a string for first nested list in first list,press enter and repeat the same: 2\n",
      "Enter a string for first nested list in first list,press enter and repeat the same: 3\n",
      "Enter a string for second nested list in first list,press enter and repeat the same: 4\n",
      "Enter a string for second nested list in first list,press enter and repeat the same: 5\n",
      "Enter a string for second nested list in first list,press enter and repeat the same: 6\n",
      "Enter a string for third nested list in first list,press enter and repeat the same: 7\n",
      "Enter a string for third nested list in first list,press enter and repeat the same: 8\n",
      "Enter a string for third nested list in first list,press enter and repeat the same: 9\n",
      "Enter a string for first nested list in second list,press enter and repeat the same: 9\n",
      "Enter a string for first nested list in second list,press enter and repeat the same: 8\n",
      "Enter a string for first nested list in second list,press enter and repeat the same: 7\n",
      "Enter a string for second nested list in second list,press enter and repeat the same: 6\n",
      "Enter a string for second nested list in second list,press enter and repeat the same: 5\n",
      "Enter a string for second nested list in second list,press enter and repeat the same: 4\n",
      "Enter a string for third nested list in second list,press enter and repeat the same: 3\n",
      "Enter a string for third nested list in second list,press enter and repeat the same: 2\n",
      "Enter a string for third nested list in second list,press enter and repeat the same: 1\n",
      "first list with 3 nested lists:  [[1, 2, 3], [4, 5, 6], [7, 8, 9]]\n",
      "second list with 3 nested lists:  [[9, 8, 7], [6, 5, 4], [3, 2, 1]]\n",
      "third list with 3 nested lists(sum of firstlist and secondlist):  [[10, 10, 10], [10, 10, 10], [10, 10, 10]]\n"
     ]
    }
   ],
   "source": [
    "#amalgamation of task 9 and task 10 - User enters the values for the nested matrices to add\n",
    "thirdlist=[]\n",
    "plist=[]\n",
    "qlist=[]\n",
    "rlist=[]\n",
    "firstlist=[plist,qlist,rlist]\n",
    "while len(plist)<3:\n",
    "    plist.append(int(input(\"Enter a string for first nested list in first list,press enter and repeat the same: \")))\n",
    "while len(qlist)<3:\n",
    "    qlist.append(int(input(\"Enter a string for second nested list in first list,press enter and repeat the same: \")))\n",
    "while len(rlist)<3:\n",
    "    rlist.append(int(input(\"Enter a string for third nested list in first list,press enter and repeat the same: \")))\n",
    "xlist=[]\n",
    "ylist=[]\n",
    "zlist=[]\n",
    "secondlist=[xlist,ylist,zlist]\n",
    "while len(xlist)<3:\n",
    "    xlist.append(int(input(\"Enter a string for first nested list in second list,press enter and repeat the same: \")))\n",
    "while len(ylist)<3:\n",
    "    ylist.append(int(input(\"Enter a string for second nested list in second list,press enter and repeat the same: \")))\n",
    "while len(zlist)<3:\n",
    "    zlist.append(int(input(\"Enter a string for third nested list in second list,press enter and repeat the same: \")))\n",
    "\n",
    "for i in range(0,3):\n",
    "    thirdlist.append([])\n",
    "    for j in range(0,3):\n",
    "        thirdlist[i].append(firstlist[i][j]+secondlist[i][j])\n",
    "        \n",
    "\n",
    "print(\"first list with 3 nested lists: \",firstlist)\n",
    "print(\"second list with 3 nested lists: \",secondlist)\n",
    "print(\"third list with 3 nested lists(sum of firstlist and secondlist): \",thirdlist)"
   ]
  },
  {
   "cell_type": "code",
   "execution_count": null,
   "id": "8e2a0702",
   "metadata": {},
   "outputs": [],
   "source": []
  },
  {
   "cell_type": "code",
   "execution_count": null,
   "id": "b08def3a",
   "metadata": {},
   "outputs": [],
   "source": []
  }
 ],
 "metadata": {
  "kernelspec": {
   "display_name": "Python 3 (ipykernel)",
   "language": "python",
   "name": "python3"
  },
  "language_info": {
   "codemirror_mode": {
    "name": "ipython",
    "version": 3
   },
   "file_extension": ".py",
   "mimetype": "text/x-python",
   "name": "python",
   "nbconvert_exporter": "python",
   "pygments_lexer": "ipython3",
   "version": "3.9.12"
  }
 },
 "nbformat": 4,
 "nbformat_minor": 5
}
