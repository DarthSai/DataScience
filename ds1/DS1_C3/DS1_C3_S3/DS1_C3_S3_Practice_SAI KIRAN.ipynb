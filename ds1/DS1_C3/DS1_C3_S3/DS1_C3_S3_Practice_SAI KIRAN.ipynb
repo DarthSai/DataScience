{
 "cells": [
  {
   "cell_type": "code",
   "execution_count": 1,
   "id": "075cc0f2",
   "metadata": {},
   "outputs": [
    {
     "name": "stdout",
     "output_type": "stream",
     "text": [
      "FALSE\n"
     ]
    }
   ],
   "source": [
    "#task 1\n",
    "mynames=[\"Joe\",\"Zoe\",\"world\",\"Brad\",\"Angelina\",\"world\",\"Zuki\",\"Tom\",\"Paris\",\"world\",\"magic\"]\n",
    "if \"USA\" in mynames is True:\n",
    "    print(\"TRUE\")\n",
    "else:\n",
    "    print(\"FALSE\")"
   ]
  },
  {
   "cell_type": "code",
   "execution_count": null,
   "id": "87ef0493",
   "metadata": {},
   "outputs": [],
   "source": [
    "#task 2\n",
    "countworld=mynames.count(\"world\")\n",
    "print(\"the word 'world' occurs\",countworld,\"times\")\n",
    "    \n",
    "    \n",
    "   "
   ]
  },
  {
   "cell_type": "code",
   "execution_count": 54,
   "id": "77fc01be",
   "metadata": {},
   "outputs": [
    {
     "name": "stdout",
     "output_type": "stream",
     "text": [
      "2\n",
      "4\n",
      "6\n",
      "8\n",
      "10\n",
      "12\n",
      "14\n",
      "16\n",
      "18\n",
      "20\n",
      "22\n",
      "24\n",
      "26\n",
      "28\n"
     ]
    }
   ],
   "source": [
    "#task 3\n",
    "dataset=list(range(1,30))\n",
    "for i in dataset:\n",
    "    if i%2==0:\n",
    "        print(i)\n",
    "    else:\n",
    "        pass"
   ]
  },
  {
   "cell_type": "code",
   "execution_count": 55,
   "id": "f3af6470",
   "metadata": {},
   "outputs": [
    {
     "name": "stdout",
     "output_type": "stream",
     "text": [
      "[2, 4, 6, 8, 10]\n"
     ]
    }
   ],
   "source": [
    "#task 4\n",
    "dataset=list(range(1,30))\n",
    "el=[]\n",
    "for i in dataset:\n",
    "    if i%2==0:\n",
    "        \n",
    "        el.append(i)\n",
    "    else:\n",
    "        pass\n",
    "print(el[0:5])"
   ]
  },
  {
   "cell_type": "code",
   "execution_count": 58,
   "id": "488a26dc",
   "metadata": {},
   "outputs": [
    {
     "name": "stdout",
     "output_type": "stream",
     "text": [
      "27\n",
      "29\n"
     ]
    }
   ],
   "source": [
    "#task 5\n",
    "dataset=list(range(1,30))\n",
    "count=0\n",
    "for i in dataset:\n",
    "    if i%2!=0:\n",
    "        count=count+1\n",
    "        tcount==count\n",
    "    else:\n",
    "        pass\n",
    "    if ((count==tcount-1) or count==tcount) and i%2!=0:\n",
    "        print(i)\n",
    "        \n"
   ]
  },
  {
   "cell_type": "code",
   "execution_count": 35,
   "id": "499349b8",
   "metadata": {},
   "outputs": [
    {
     "name": "stdout",
     "output_type": "stream",
     "text": [
      "['Numbers', 1, 2, 3, 4, 5, 6, 7, 8, 9, 10]\n",
      "[6, 7, 8, 9, 10]\n"
     ]
    }
   ],
   "source": [
    "#task 6\n",
    "x=[]\n",
    "y=[]\n",
    "x.extend([1,2,3,4,5])\n",
    "y.extend([6,7,8,9,10])\n",
    "x.extend(y)\n",
    "x.insert(0,\"Numbers\")\n",
    "print(x)\n",
    "print(y)"
   ]
  },
  {
   "cell_type": "code",
   "execution_count": 59,
   "id": "78bea341",
   "metadata": {},
   "outputs": [
    {
     "name": "stdout",
     "output_type": "stream",
     "text": [
      "[1, 4, 9, 16, 25, 36, 49, 64, 81, 100]\n",
      "[900, 961, 1024, 1089, 1156, 1225, 1296, 1369, 1444, 1521, 1600]\n"
     ]
    }
   ],
   "source": [
    "#task 7\n",
    "els=[]\n",
    "num=range(1,41)\n",
    "for i in num:\n",
    "    sq=i**2\n",
    "    els.append(sq)\n",
    "print(els[0:10])\n",
    "print(els[29:41])"
   ]
  },
  {
   "cell_type": "code",
   "execution_count": 63,
   "id": "0a661633",
   "metadata": {},
   "outputs": [
    {
     "name": "stdout",
     "output_type": "stream",
     "text": [
      "enter a number to get a multiplication table for: 171\n",
      "171 x 1 = 171\n",
      "171 x 2 = 342\n",
      "171 x 3 = 513\n",
      "171 x 4 = 684\n",
      "171 x 5 = 855\n",
      "171 x 6 = 1026\n",
      "171 x 7 = 1197\n",
      "171 x 8 = 1368\n",
      "171 x 9 = 1539\n",
      "171 x 10 = 1710\n"
     ]
    }
   ],
   "source": [
    "#task 8\n",
    "n=int(input(\"enter a number to get a multiplication table for: \"))\n",
    "for i in range(1,11):\n",
    "    print(n,'x',i,'=',n*i)"
   ]
  },
  {
   "cell_type": "code",
   "execution_count": null,
   "id": "54288707",
   "metadata": {},
   "outputs": [],
   "source": []
  }
 ],
 "metadata": {
  "kernelspec": {
   "display_name": "Python 3 (ipykernel)",
   "language": "python",
   "name": "python3"
  },
  "language_info": {
   "codemirror_mode": {
    "name": "ipython",
    "version": 3
   },
   "file_extension": ".py",
   "mimetype": "text/x-python",
   "name": "python",
   "nbconvert_exporter": "python",
   "pygments_lexer": "ipython3",
   "version": "3.9.12"
  }
 },
 "nbformat": 4,
 "nbformat_minor": 5
}
