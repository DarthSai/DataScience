{
 "cells": [
  {
   "cell_type": "code",
   "execution_count": 1,
   "id": "8af8a555",
   "metadata": {},
   "outputs": [
    {
     "name": "stdout",
     "output_type": "stream",
     "text": [
      "enter an alphabet: A\n",
      "Python\n"
     ]
    }
   ],
   "source": [
    "# task 1\n",
    "x=input('enter an alphabet: ')\n",
    "if x=='A':\n",
    "    print('Python')\n",
    "elif x=='B':\n",
    "    print('MySQL')\n",
    "elif x=='C':\n",
    "    print('Excel')\n",
    "else :\n",
    "    print('Holiday')"
   ]
  },
  {
   "cell_type": "code",
   "execution_count": 2,
   "id": "6f6d5f2f",
   "metadata": {},
   "outputs": [
    {
     "name": "stdout",
     "output_type": "stream",
     "text": [
      "enter a value for x: 4\n",
      "enter a value for y: 5\n",
      "5\n"
     ]
    }
   ],
   "source": [
    "# task 2\n",
    "x=input('enter a value for x: ')\n",
    "y=input('enter a value for y: ')\n",
    "if x>y:\n",
    "    print(x)\n",
    "elif y>x:\n",
    "    print(y)\n",
    "else:\n",
    "    print('both are equal')"
   ]
  },
  {
   "cell_type": "code",
   "execution_count": 3,
   "id": "e8d8a952",
   "metadata": {},
   "outputs": [
    {
     "name": "stdout",
     "output_type": "stream",
     "text": [
      "enter basic salary: 12000\n",
      "Net income= 14400.0 , HRA=25% , DA=15% , tax=20%\n"
     ]
    }
   ],
   "source": [
    "# task 3\n",
    "bs=int(input('enter basic salary: '))\n",
    "if bs<=4000:\n",
    "    print(\"Net income=\",bs+0.1*bs+0.05*bs-0*bs,\", HRA=10%\",\", DA=5%\",\", tax=0%\")\n",
    "elif bs>4000 and bs<=10000:\n",
    "     print(\"Net income=\",bs+0.2*bs+0.1*bs-0.15*bs,\", HRA=20%\",\", DA=10%\",\", tax=15%\")\n",
    "elif bs>10000:\n",
    "    print(\"Net income=\",bs+0.25*bs+0.15*bs-0.20*bs,\", HRA=25%\",\", DA=15%\",\", tax=20%\")"
   ]
  },
  {
   "cell_type": "code",
   "execution_count": null,
   "id": "5d56678b",
   "metadata": {},
   "outputs": [],
   "source": [
    "# task 4\n",
    "x=input(\"enter a string: \")\n",
    "var=\"Python is an interpreted high-level general-purpose programming language.Its design philosophy emphasizes code readability with its use of significant indentation. Its language constructs as wll as its object-oriented approch aim to help programmers write clear, logical code for small and large scale projects.\"\n",
    "if x in var is True:\n",
    "    print(\"The string exists in var\")\n",
    "else:\n",
    "    print(\"The string does not exist in var\")"
   ]
  },
  {
   "cell_type": "code",
   "execution_count": null,
   "id": "2a72bf56",
   "metadata": {},
   "outputs": [],
   "source": [
    "# task 5\n",
    "x=input(\"enter an alphabet: \")\n",
    "if x>='A' and x<='Z':\n",
    "    print(\"uppercase\")\n",
    "elif x>='a' and x<='z':\n",
    "    print(\"lowercase\")"
   ]
  },
  {
   "cell_type": "code",
   "execution_count": 5,
   "id": "d8313732",
   "metadata": {},
   "outputs": [
    {
     "name": "stdout",
     "output_type": "stream",
     "text": [
      "enter an alphabet: E\n",
      "vowel\n"
     ]
    }
   ],
   "source": [
    "# task 6\n",
    "x=input(\"enter an alphabet: \")\n",
    "if (x=='a' or x=='e' or x=='i' or x=='o' or x=='u' or x=='A' or x=='E' or x=='I' or x=='O' or x=='U') is True:\n",
    "    print(\"vowel\")\n",
    "else:\n",
    "    print('consonant')"
   ]
  },
  {
   "cell_type": "code",
   "execution_count": null,
   "id": "e1376993",
   "metadata": {},
   "outputs": [],
   "source": []
  }
 ],
 "metadata": {
  "kernelspec": {
   "display_name": "Python 3 (ipykernel)",
   "language": "python",
   "name": "python3"
  },
  "language_info": {
   "codemirror_mode": {
    "name": "ipython",
    "version": 3
   },
   "file_extension": ".py",
   "mimetype": "text/x-python",
   "name": "python",
   "nbconvert_exporter": "python",
   "pygments_lexer": "ipython3",
   "version": "3.9.12"
  }
 },
 "nbformat": 4,
 "nbformat_minor": 5
}
