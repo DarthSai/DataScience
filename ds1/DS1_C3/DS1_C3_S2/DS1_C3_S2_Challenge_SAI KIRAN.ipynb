{
 "cells": [
  {
   "cell_type": "code",
   "execution_count": 5,
   "id": "85ca4b50",
   "metadata": {},
   "outputs": [
    {
     "name": "stdout",
     "output_type": "stream",
     "text": [
      "enter a year between 1900 and 2100: 1300\n",
      "the year is not between 1900 and 2100\n"
     ]
    }
   ],
   "source": [
    "# task 1\n",
    "x=int(input(\"enter a year between 1900 and 2100: \"))\n",
    "if x>=1900 and x<=2100 and x%4==0:\n",
    "    print(x,\"is a leap year\")\n",
    "elif x>=1900 and x<=2100 and x%4!=0:\n",
    "    print(x,\"is not a leap year\")\n",
    "else:\n",
    "    print(\"the year is not between 1900 and 2100\")"
   ]
  },
  {
   "cell_type": "code",
   "execution_count": 7,
   "id": "90768e07",
   "metadata": {},
   "outputs": [
    {
     "name": "stdout",
     "output_type": "stream",
     "text": [
      "enter a month number between 1 and 12: 2\n",
      "enter a year: 1999\n",
      "The month is February and it has 28 days as it is not a leap year\n"
     ]
    }
   ],
   "source": [
    "# task 2\n",
    "m=int(input(\"enter a month number between 1 and 12: \"))\n",
    "y=int(input(\"enter a year: \"))\n",
    "if m>=1 and m<=12 and m==1:\n",
    "    print(\"The month is January and it has 31 days\")\n",
    "elif m>=1 and m<=12 and m==2 and y%4!=0:\n",
    "    print(\"The month is February and it has 28 days as it is not a leap year\")\n",
    "elif m>=1 and m<=12 and m==2 and y%4==0:\n",
    "    print(\"The month is February and it has 29 days as it is a leap year\")\n",
    "elif m>=1 and m<=12 and m==3:\n",
    "    print(\"The month is March and it has 31 days\")\n",
    "elif m>=1 and m<=12 and m==4:\n",
    "    print(\"The month is April and it has 30 days\")\n",
    "elif m>=1 and m<=12 and m==5:\n",
    "    print(\"The month is May and it has 31 days\")\n",
    "elif m>=1 and m<=12 and m==6:\n",
    "    print(\"The month is June and it has 30 days\")\n",
    "elif m>=1 and m<=12 and m==7:\n",
    "    print(\"The month is July and it has 31 days\")\n",
    "elif m>=1 and m<=12 and m==8:\n",
    "    print(\"The month is August and it has 31 days\")\n",
    "elif m>=1 and m<=12 and m==9:\n",
    "    print(\"The month is September and it has 30 days\")\n",
    "elif m>=1 and m<=12 and m==10:\n",
    "    print(\"The month is October and it has 31 days\")\n",
    "elif m>=1 and m<=12 and m==11:\n",
    "    print(\"The month is November and it has 30 days\")\n",
    "elif m>=1 and m<=12 and m==12:\n",
    "    print(\"The month is December and it has 31 days\")\n",
    "elif m<1 and m>12:\n",
    "    print(\"The number entered is not between 1 and 12\")"
   ]
  },
  {
   "cell_type": "code",
   "execution_count": 8,
   "id": "c0df5d45",
   "metadata": {},
   "outputs": [
    {
     "name": "stdout",
     "output_type": "stream",
     "text": [
      "enter total purchase amount in $: 300\n",
      "Discount is 25%\n"
     ]
    }
   ],
   "source": [
    "# task 3\n",
    "t=int(input(\"enter total purchase amount in $: \"))\n",
    "if t<100:\n",
    "    print(\"No discount\")\n",
    "elif t>=100 and t<150:\n",
    "    print(\"Discount is 10%\")\n",
    "elif t>=150 and t<200:\n",
    "    print(\"Discount is 15%\")\n",
    "elif t>=200 and t<250:\n",
    "    print(\"Discount is 20%\")\n",
    "elif t>=250:\n",
    "    print(\"Discount is 25%\")\n",
    "\n",
    "            "
   ]
  },
  {
   "cell_type": "code",
   "execution_count": 13,
   "id": "a5d0b88d",
   "metadata": {},
   "outputs": [
    {
     "name": "stdout",
     "output_type": "stream",
     "text": [
      "what is the square root of 25 ? 0\n",
      "Incorrect!\n",
      "what is the missing pythagorean triplet in 6,8,_ ? 0\n",
      "Incorrect!\n",
      "write any one root of the equation (x**2)-(5x)+(6)=0 ? 0\n",
      "Incorrect!\n",
      "You got 0 questions correct\n",
      "you are so bad at this,I highly doubt you can put 1 and 1 together\n"
     ]
    }
   ],
   "source": [
    "# task 4\n",
    "x=int(input(\"what is the square root of 25 ? \"))\n",
    "prize=0\n",
    "if x==5:\n",
    "    prize1=prize+1\n",
    "    print(\"Correct!\")\n",
    "else:\n",
    "    print(\"Incorrect!\")\n",
    "    prize1=prize\n",
    "y=int(input(\"what is the missing pythagorean triplet in 6,8,_ ? \"))\n",
    "if y==10:\n",
    "    prize2=prize1+1\n",
    "    print(\"Correct!\")\n",
    "else:\n",
    "    print(\"Incorrect!\")\n",
    "    prize2=prize1\n",
    "z=int(input(\"write any one root of the equation (x**2)-(5x)+(6)=0 ? \"))\n",
    "if z==2 or z==3:\n",
    "    prize3=prize2+1\n",
    "    print(\"Correct!\")\n",
    "else:\n",
    "    print(\"Incorrect!\")\n",
    "    prize3=prize2\n",
    "print(\"You got\",prize3,\"questions correct\")\n",
    "if prize3==3:\n",
    "    print(\"you killed it\")\n",
    "elif prize3==2:\n",
    "    print(\"you did ok\")\n",
    "elif prize3==1:\n",
    "    print(\"you can do better\")\n",
    "elif prize3==0:\n",
    "    print(\"you are so bad at this,I highly doubt you can put 1 and 1 together\")\n"
   ]
  },
  {
   "cell_type": "code",
   "execution_count": 27,
   "id": "8c871c28",
   "metadata": {},
   "outputs": [
    {
     "name": "stdout",
     "output_type": "stream",
     "text": [
      "Type your choice between \"rock\",\"paper\" and \"scissors\":oo\n",
      "Type a valid choice between rock , paper or scissors \n"
     ]
    }
   ],
   "source": [
    "# task 5\n",
    "import random\n",
    "user=input('Type your choice between \"rock\",\"paper\" and \"scissors\":')\n",
    "possibilities=[\"rock\",\"paper\",\"scissors\"]\n",
    "computer=random.choice(possibilities)\n",
    "if user==\"rock\" and computer==\"rock\":\n",
    "    print(\"Both user and computer chose rock,it's a tie\")\n",
    "elif user==\"rock\" and computer==\"paper\":\n",
    "    print(\"User chose rock and computer chose paper,paper beats rock,computer wins\")\n",
    "elif user==\"rock\" and computer==\"scissors\":\n",
    "    print(\"User chose rock and computer chose scissors,rock beats scissors,user wins\")\n",
    "elif user==\"paper\" and computer==\"rock\":\n",
    "    print(\"User chose paper and computer chose rock,paper beats rock,user wins\")\n",
    "elif user==\"paper\" and computer==\"paper\":\n",
    "    print(\"Both user and computer chose paper,it's a tie\")\n",
    "elif user==\"paper\" and computer==\"scissors\":\n",
    "    print(\"User chose paper and computer chose scissors,scissors beats paper,computer wins\")\n",
    "elif user==\"scissors\" and computer==\"rock\":\n",
    "    print(\"User chose scissors and computer chose rock,rock beats scissors,computer wins\")\n",
    "elif user==\"scissors\" and computer==\"paper\":\n",
    "    print(\"User chose scissors and computer chose paper,scissors beats paper,computer wins\")\n",
    "elif user==\"scissors\" and computer==\"scissors\":\n",
    "    print(\"Both user and computer chose scissors,it's a tie\")\n",
    "elif user!=\"rock\" or user!=\"paper\" or user!=\"scissors\":\n",
    "    print(\"Type a valid choice between rock , paper or scissors \")\n",
    "    "
   ]
  },
  {
   "cell_type": "code",
   "execution_count": null,
   "id": "b8dce128",
   "metadata": {},
   "outputs": [],
   "source": []
  },
  {
   "cell_type": "code",
   "execution_count": null,
   "id": "c661a150",
   "metadata": {},
   "outputs": [],
   "source": []
  }
 ],
 "metadata": {
  "kernelspec": {
   "display_name": "Python 3 (ipykernel)",
   "language": "python",
   "name": "python3"
  },
  "language_info": {
   "codemirror_mode": {
    "name": "ipython",
    "version": 3
   },
   "file_extension": ".py",
   "mimetype": "text/x-python",
   "name": "python",
   "nbconvert_exporter": "python",
   "pygments_lexer": "ipython3",
   "version": "3.9.12"
  }
 },
 "nbformat": 4,
 "nbformat_minor": 5
}
