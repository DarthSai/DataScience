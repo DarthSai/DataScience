{
 "cells": [
  {
   "cell_type": "code",
   "execution_count": 54,
   "id": "f2fee6ed",
   "metadata": {},
   "outputs": [],
   "source": [
    "import numpy as np\n",
    "import pandas as pd"
   ]
  },
  {
   "cell_type": "code",
   "execution_count": 55,
   "id": "4c7a6c56",
   "metadata": {},
   "outputs": [
    {
     "data": {
      "text/plain": [
       "101    36484\n",
       "102    31420\n",
       "103    31888\n",
       "104    40516\n",
       "105    46079\n",
       "106    41138\n",
       "107    38434\n",
       "108    33721\n",
       "109    48115\n",
       "110    45523\n",
       "111    38854\n",
       "112    38241\n",
       "113    43242\n",
       "114    36347\n",
       "115    39015\n",
       "116    31626\n",
       "117    32553\n",
       "118    30210\n",
       "119    31955\n",
       "120    34189\n",
       "dtype: int32"
      ]
     },
     "execution_count": 55,
     "metadata": {},
     "output_type": "execute_result"
    }
   ],
   "source": [
    "#task 1\n",
    "cars=pd.Series(np.random.randint(30000,50000,20),index=np.arange(101,121))\n",
    "cars"
   ]
  },
  {
   "cell_type": "code",
   "execution_count": 56,
   "id": "7755071b",
   "metadata": {},
   "outputs": [
    {
     "data": {
      "text/plain": [
       "104    40516\n",
       "105    46079\n",
       "106    41138\n",
       "109    48115\n",
       "110    45523\n",
       "113    43242\n",
       "dtype: int32"
      ]
     },
     "execution_count": 56,
     "metadata": {},
     "output_type": "execute_result"
    }
   ],
   "source": [
    "#task 2\n",
    "cars[cars>40000]"
   ]
  },
  {
   "cell_type": "code",
   "execution_count": 57,
   "id": "f5286f72",
   "metadata": {},
   "outputs": [
    {
     "name": "stdout",
     "output_type": "stream",
     "text": [
      "111    38854\n",
      "112    38241\n",
      "113    43242\n",
      "114    36347\n",
      "115    39015\n",
      "116    31626\n",
      "dtype: int32\n",
      "Highest price of car between 111 and 116 is 43242\n"
     ]
    }
   ],
   "source": [
    "#task 3\n",
    "print(cars.iloc[10:16])\n",
    "print(\"Highest price of car between 111 and 116 is\",cars.iloc[10:16].max())\n",
    "\n",
    "\n"
   ]
  },
  {
   "cell_type": "code",
   "execution_count": 58,
   "id": "ec1d87d0",
   "metadata": {},
   "outputs": [
    {
     "name": "stdout",
     "output_type": "stream",
     "text": [
      "101    36484\n",
      "102    31420\n",
      "103    31888\n",
      "107    38434\n",
      "108    33721\n",
      "111    38854\n",
      "112    38241\n",
      "114    36347\n",
      "115    39015\n",
      "116    31626\n",
      "117    32553\n",
      "118    30210\n",
      "119    31955\n",
      "120    34189\n",
      "dtype: int32\n",
      "There are 14 cars priced between 30000 and 40000\n"
     ]
    }
   ],
   "source": [
    "#task 4\n",
    "print(cars[cars.between(30000,40000)])\n",
    "print(\"There are\",len(cars[cars.between(30000,40000)]),\"cars priced between 30000 and 40000\")"
   ]
  },
  {
   "cell_type": "code",
   "execution_count": 59,
   "id": "643f0a45",
   "metadata": {},
   "outputs": [
    {
     "name": "stdout",
     "output_type": "stream",
     "text": [
      "104    40516\n",
      "105    46079\n",
      "106    41138\n",
      "107    38434\n",
      "109    48115\n",
      "110    45523\n",
      "111    38854\n",
      "112    38241\n",
      "113    43242\n",
      "115    39015\n",
      "dtype: int32\n",
      "There are 10 cars whose prices are above the average price\n"
     ]
    }
   ],
   "source": [
    "#task 5\n",
    "print(cars[cars>cars.mean()])\n",
    "print(\"There are\",len(cars[cars>cars.mean()]),\"cars whose prices are above the average price\")"
   ]
  },
  {
   "cell_type": "code",
   "execution_count": 60,
   "id": "52eaaefc",
   "metadata": {},
   "outputs": [
    {
     "name": "stderr",
     "output_type": "stream",
     "text": [
      "C:\\Users\\saiki\\AppData\\Local\\Temp\\ipykernel_7740\\3237207256.py:3: FutureWarning: The series.append method is deprecated and will be removed from pandas in a future version. Use pandas.concat instead.\n",
      "  cars=cars.append(newcars)\n"
     ]
    },
    {
     "data": {
      "text/plain": [
       "101    36484\n",
       "102    31420\n",
       "103    31888\n",
       "104    40516\n",
       "105    46079\n",
       "106    41138\n",
       "107    38434\n",
       "108    33721\n",
       "109    48115\n",
       "110    45523\n",
       "111    38854\n",
       "112    38241\n",
       "113    43242\n",
       "114    36347\n",
       "115    39015\n",
       "116    31626\n",
       "117    32553\n",
       "118    30210\n",
       "119    31955\n",
       "120    34189\n",
       "201    34000\n",
       "202    45000\n",
       "203    54000\n",
       "dtype: int64"
      ]
     },
     "execution_count": 60,
     "metadata": {},
     "output_type": "execute_result"
    }
   ],
   "source": [
    "#task 6\n",
    "newcars=pd.Series([34000,45000,54000],index=[201,202,203])\n",
    "cars=cars.append(newcars)\n",
    "cars"
   ]
  },
  {
   "cell_type": "code",
   "execution_count": 61,
   "id": "1128ed53",
   "metadata": {
    "scrolled": true
   },
   "outputs": [
    {
     "data": {
      "text/html": [
       "<div>\n",
       "<style scoped>\n",
       "    .dataframe tbody tr th:only-of-type {\n",
       "        vertical-align: middle;\n",
       "    }\n",
       "\n",
       "    .dataframe tbody tr th {\n",
       "        vertical-align: top;\n",
       "    }\n",
       "\n",
       "    .dataframe thead th {\n",
       "        text-align: right;\n",
       "    }\n",
       "</style>\n",
       "<table border=\"1\" class=\"dataframe\">\n",
       "  <thead>\n",
       "    <tr style=\"text-align: right;\">\n",
       "      <th></th>\n",
       "      <th>Price</th>\n",
       "      <th>Discounted Price</th>\n",
       "    </tr>\n",
       "  </thead>\n",
       "  <tbody>\n",
       "    <tr>\n",
       "      <th>101</th>\n",
       "      <td>36484</td>\n",
       "      <td>36484.0</td>\n",
       "    </tr>\n",
       "    <tr>\n",
       "      <th>102</th>\n",
       "      <td>31420</td>\n",
       "      <td>31420.0</td>\n",
       "    </tr>\n",
       "    <tr>\n",
       "      <th>103</th>\n",
       "      <td>31888</td>\n",
       "      <td>31888.0</td>\n",
       "    </tr>\n",
       "    <tr>\n",
       "      <th>104</th>\n",
       "      <td>40516</td>\n",
       "      <td>36464.4</td>\n",
       "    </tr>\n",
       "    <tr>\n",
       "      <th>105</th>\n",
       "      <td>46079</td>\n",
       "      <td>41471.1</td>\n",
       "    </tr>\n",
       "    <tr>\n",
       "      <th>106</th>\n",
       "      <td>41138</td>\n",
       "      <td>37024.2</td>\n",
       "    </tr>\n",
       "    <tr>\n",
       "      <th>107</th>\n",
       "      <td>38434</td>\n",
       "      <td>38434.0</td>\n",
       "    </tr>\n",
       "    <tr>\n",
       "      <th>108</th>\n",
       "      <td>33721</td>\n",
       "      <td>33721.0</td>\n",
       "    </tr>\n",
       "    <tr>\n",
       "      <th>109</th>\n",
       "      <td>48115</td>\n",
       "      <td>43303.5</td>\n",
       "    </tr>\n",
       "    <tr>\n",
       "      <th>110</th>\n",
       "      <td>45523</td>\n",
       "      <td>40970.7</td>\n",
       "    </tr>\n",
       "    <tr>\n",
       "      <th>111</th>\n",
       "      <td>38854</td>\n",
       "      <td>38854.0</td>\n",
       "    </tr>\n",
       "    <tr>\n",
       "      <th>112</th>\n",
       "      <td>38241</td>\n",
       "      <td>38241.0</td>\n",
       "    </tr>\n",
       "    <tr>\n",
       "      <th>113</th>\n",
       "      <td>43242</td>\n",
       "      <td>38917.8</td>\n",
       "    </tr>\n",
       "    <tr>\n",
       "      <th>114</th>\n",
       "      <td>36347</td>\n",
       "      <td>36347.0</td>\n",
       "    </tr>\n",
       "    <tr>\n",
       "      <th>115</th>\n",
       "      <td>39015</td>\n",
       "      <td>39015.0</td>\n",
       "    </tr>\n",
       "    <tr>\n",
       "      <th>116</th>\n",
       "      <td>31626</td>\n",
       "      <td>31626.0</td>\n",
       "    </tr>\n",
       "    <tr>\n",
       "      <th>117</th>\n",
       "      <td>32553</td>\n",
       "      <td>32553.0</td>\n",
       "    </tr>\n",
       "    <tr>\n",
       "      <th>118</th>\n",
       "      <td>30210</td>\n",
       "      <td>30210.0</td>\n",
       "    </tr>\n",
       "    <tr>\n",
       "      <th>119</th>\n",
       "      <td>31955</td>\n",
       "      <td>31955.0</td>\n",
       "    </tr>\n",
       "    <tr>\n",
       "      <th>120</th>\n",
       "      <td>34189</td>\n",
       "      <td>34189.0</td>\n",
       "    </tr>\n",
       "    <tr>\n",
       "      <th>201</th>\n",
       "      <td>34000</td>\n",
       "      <td>34000.0</td>\n",
       "    </tr>\n",
       "    <tr>\n",
       "      <th>202</th>\n",
       "      <td>45000</td>\n",
       "      <td>40500.0</td>\n",
       "    </tr>\n",
       "    <tr>\n",
       "      <th>203</th>\n",
       "      <td>54000</td>\n",
       "      <td>48600.0</td>\n",
       "    </tr>\n",
       "  </tbody>\n",
       "</table>\n",
       "</div>"
      ],
      "text/plain": [
       "     Price  Discounted Price\n",
       "101  36484           36484.0\n",
       "102  31420           31420.0\n",
       "103  31888           31888.0\n",
       "104  40516           36464.4\n",
       "105  46079           41471.1\n",
       "106  41138           37024.2\n",
       "107  38434           38434.0\n",
       "108  33721           33721.0\n",
       "109  48115           43303.5\n",
       "110  45523           40970.7\n",
       "111  38854           38854.0\n",
       "112  38241           38241.0\n",
       "113  43242           38917.8\n",
       "114  36347           36347.0\n",
       "115  39015           39015.0\n",
       "116  31626           31626.0\n",
       "117  32553           32553.0\n",
       "118  30210           30210.0\n",
       "119  31955           31955.0\n",
       "120  34189           34189.0\n",
       "201  34000           34000.0\n",
       "202  45000           40500.0\n",
       "203  54000           48600.0"
      ]
     },
     "execution_count": 61,
     "metadata": {},
     "output_type": "execute_result"
    }
   ],
   "source": [
    "#task 7\n",
    "cars2=cars.copy()\n",
    "car2=pd.DataFrame(cars2.rename('price'),index=cars2.index)\n",
    "\n",
    "cars[cars>40000]=cars*0.9\n",
    "\n",
    "car2=pd.concat([cars2.rename('Price'),cars.rename('Discounted Price')],axis=1)\n",
    "car2\n"
   ]
  },
  {
   "cell_type": "code",
   "execution_count": 62,
   "id": "a9658925",
   "metadata": {},
   "outputs": [
    {
     "name": "stdout",
     "output_type": "stream",
     "text": [
      "There were 15 cars priced between 30000 and 40000 before discount and 18 cars between 30000 and 40000 after the discount\n"
     ]
    }
   ],
   "source": [
    "#task 8\n",
    "print('There were',len(cars2[cars2.between(30000,40000)]),'cars priced between 30000 and 40000 before discount and',len(cars[cars.between(30000,40000)]),'cars between 30000 and 40000 after the discount')\n"
   ]
  },
  {
   "cell_type": "code",
   "execution_count": 63,
   "id": "35b27ec2",
   "metadata": {},
   "outputs": [
    {
     "data": {
      "text/plain": [
       "203    48600.0\n",
       "109    43303.5\n",
       "105    41471.1\n",
       "110    40970.7\n",
       "202    40500.0\n",
       "dtype: float64"
      ]
     },
     "execution_count": 63,
     "metadata": {},
     "output_type": "execute_result"
    }
   ],
   "source": [
    "#task 9\n",
    "sortcars=cars.sort_values(ascending=False)\n",
    "sortcars[0:5]"
   ]
  },
  {
   "cell_type": "code",
   "execution_count": null,
   "id": "d44c4c52",
   "metadata": {},
   "outputs": [],
   "source": []
  }
 ],
 "metadata": {
  "kernelspec": {
   "display_name": "Python 3 (ipykernel)",
   "language": "python",
   "name": "python3"
  },
  "language_info": {
   "codemirror_mode": {
    "name": "ipython",
    "version": 3
   },
   "file_extension": ".py",
   "mimetype": "text/x-python",
   "name": "python",
   "nbconvert_exporter": "python",
   "pygments_lexer": "ipython3",
   "version": "3.9.12"
  }
 },
 "nbformat": 4,
 "nbformat_minor": 5
}
