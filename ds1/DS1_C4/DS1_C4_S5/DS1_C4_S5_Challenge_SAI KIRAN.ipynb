{
 "cells": [
  {
   "cell_type": "code",
   "execution_count": 1,
   "id": "0a45da60",
   "metadata": {},
   "outputs": [],
   "source": [
    "import numpy as np\n",
    "import pandas as pd\n",
    "import matplotlib as mpl\n",
    "import matplotlib.pyplot as plt"
   ]
  },
  {
   "cell_type": "code",
   "execution_count": 2,
   "id": "097825ba",
   "metadata": {},
   "outputs": [
    {
     "data": {
      "text/html": [
       "<div>\n",
       "<style scoped>\n",
       "    .dataframe tbody tr th:only-of-type {\n",
       "        vertical-align: middle;\n",
       "    }\n",
       "\n",
       "    .dataframe tbody tr th {\n",
       "        vertical-align: top;\n",
       "    }\n",
       "\n",
       "    .dataframe thead th {\n",
       "        text-align: right;\n",
       "    }\n",
       "</style>\n",
       "<table border=\"1\" class=\"dataframe\">\n",
       "  <thead>\n",
       "    <tr style=\"text-align: right;\">\n",
       "      <th></th>\n",
       "      <th>isker</th>\n",
       "      <th>Make</th>\n",
       "      <th>Model</th>\n",
       "      <th>Variant</th>\n",
       "      <th>Displacement</th>\n",
       "      <th>Cylinders</th>\n",
       "      <th>Valves_Per_Cylinder</th>\n",
       "      <th>Drivetrain</th>\n",
       "      <th>Cylinder_Configuration</th>\n",
       "      <th>Engine_Location</th>\n",
       "      <th>...</th>\n",
       "      <th>Leather_Wrapped_Steering</th>\n",
       "      <th>Automatic_Headlamps</th>\n",
       "      <th>Engine_Type</th>\n",
       "      <th>ASR_/_Traction_Control</th>\n",
       "      <th>Cruise_Control</th>\n",
       "      <th>USB_Ports</th>\n",
       "      <th>Heads-Up_Display</th>\n",
       "      <th>Welcome_Lights</th>\n",
       "      <th>Battery</th>\n",
       "      <th>Electric_Range</th>\n",
       "    </tr>\n",
       "  </thead>\n",
       "  <tbody>\n",
       "    <tr>\n",
       "      <th>0</th>\n",
       "      <td>0</td>\n",
       "      <td>Tata</td>\n",
       "      <td>Nano Genx</td>\n",
       "      <td>Xt</td>\n",
       "      <td>624.0</td>\n",
       "      <td>2.0</td>\n",
       "      <td>2.0</td>\n",
       "      <td>RWD (Rear Wheel Drive)</td>\n",
       "      <td>In-line</td>\n",
       "      <td>Rear, Transverse</td>\n",
       "      <td>...</td>\n",
       "      <td>NaN</td>\n",
       "      <td>NaN</td>\n",
       "      <td>NaN</td>\n",
       "      <td>NaN</td>\n",
       "      <td>NaN</td>\n",
       "      <td>NaN</td>\n",
       "      <td>NaN</td>\n",
       "      <td>NaN</td>\n",
       "      <td>NaN</td>\n",
       "      <td>NaN</td>\n",
       "    </tr>\n",
       "    <tr>\n",
       "      <th>1</th>\n",
       "      <td>1</td>\n",
       "      <td>Tata</td>\n",
       "      <td>Nano Genx</td>\n",
       "      <td>Xe</td>\n",
       "      <td>624.0</td>\n",
       "      <td>2.0</td>\n",
       "      <td>2.0</td>\n",
       "      <td>RWD (Rear Wheel Drive)</td>\n",
       "      <td>In-line</td>\n",
       "      <td>Rear, Transverse</td>\n",
       "      <td>...</td>\n",
       "      <td>NaN</td>\n",
       "      <td>NaN</td>\n",
       "      <td>NaN</td>\n",
       "      <td>NaN</td>\n",
       "      <td>NaN</td>\n",
       "      <td>NaN</td>\n",
       "      <td>NaN</td>\n",
       "      <td>NaN</td>\n",
       "      <td>NaN</td>\n",
       "      <td>NaN</td>\n",
       "    </tr>\n",
       "    <tr>\n",
       "      <th>2</th>\n",
       "      <td>2</td>\n",
       "      <td>Tata</td>\n",
       "      <td>Nano Genx</td>\n",
       "      <td>Emax Xm</td>\n",
       "      <td>624.0</td>\n",
       "      <td>2.0</td>\n",
       "      <td>2.0</td>\n",
       "      <td>RWD (Rear Wheel Drive)</td>\n",
       "      <td>In-line</td>\n",
       "      <td>Rear, Transverse</td>\n",
       "      <td>...</td>\n",
       "      <td>NaN</td>\n",
       "      <td>NaN</td>\n",
       "      <td>NaN</td>\n",
       "      <td>NaN</td>\n",
       "      <td>NaN</td>\n",
       "      <td>NaN</td>\n",
       "      <td>NaN</td>\n",
       "      <td>NaN</td>\n",
       "      <td>NaN</td>\n",
       "      <td>NaN</td>\n",
       "    </tr>\n",
       "    <tr>\n",
       "      <th>3</th>\n",
       "      <td>3</td>\n",
       "      <td>Tata</td>\n",
       "      <td>Nano Genx</td>\n",
       "      <td>Xta</td>\n",
       "      <td>624.0</td>\n",
       "      <td>2.0</td>\n",
       "      <td>2.0</td>\n",
       "      <td>RWD (Rear Wheel Drive)</td>\n",
       "      <td>In-line</td>\n",
       "      <td>Rear, Transverse</td>\n",
       "      <td>...</td>\n",
       "      <td>NaN</td>\n",
       "      <td>NaN</td>\n",
       "      <td>NaN</td>\n",
       "      <td>NaN</td>\n",
       "      <td>NaN</td>\n",
       "      <td>NaN</td>\n",
       "      <td>NaN</td>\n",
       "      <td>NaN</td>\n",
       "      <td>NaN</td>\n",
       "      <td>NaN</td>\n",
       "    </tr>\n",
       "    <tr>\n",
       "      <th>4</th>\n",
       "      <td>4</td>\n",
       "      <td>Tata</td>\n",
       "      <td>Nano Genx</td>\n",
       "      <td>Xm</td>\n",
       "      <td>624.0</td>\n",
       "      <td>2.0</td>\n",
       "      <td>2.0</td>\n",
       "      <td>RWD (Rear Wheel Drive)</td>\n",
       "      <td>In-line</td>\n",
       "      <td>Rear, Transverse</td>\n",
       "      <td>...</td>\n",
       "      <td>NaN</td>\n",
       "      <td>NaN</td>\n",
       "      <td>NaN</td>\n",
       "      <td>NaN</td>\n",
       "      <td>NaN</td>\n",
       "      <td>NaN</td>\n",
       "      <td>NaN</td>\n",
       "      <td>NaN</td>\n",
       "      <td>NaN</td>\n",
       "      <td>NaN</td>\n",
       "    </tr>\n",
       "    <tr>\n",
       "      <th>...</th>\n",
       "      <td>...</td>\n",
       "      <td>...</td>\n",
       "      <td>...</td>\n",
       "      <td>...</td>\n",
       "      <td>...</td>\n",
       "      <td>...</td>\n",
       "      <td>...</td>\n",
       "      <td>...</td>\n",
       "      <td>...</td>\n",
       "      <td>...</td>\n",
       "      <td>...</td>\n",
       "      <td>...</td>\n",
       "      <td>...</td>\n",
       "      <td>...</td>\n",
       "      <td>...</td>\n",
       "      <td>...</td>\n",
       "      <td>...</td>\n",
       "      <td>...</td>\n",
       "      <td>...</td>\n",
       "      <td>...</td>\n",
       "      <td>...</td>\n",
       "    </tr>\n",
       "    <tr>\n",
       "      <th>1271</th>\n",
       "      <td>1271</td>\n",
       "      <td>Honda</td>\n",
       "      <td>City</td>\n",
       "      <td>Vx Mt Diesel</td>\n",
       "      <td>1498.0</td>\n",
       "      <td>4.0</td>\n",
       "      <td>4.0</td>\n",
       "      <td>FWD (Front Wheel Drive)</td>\n",
       "      <td>In-line</td>\n",
       "      <td>Front, Transverse</td>\n",
       "      <td>...</td>\n",
       "      <td>Yes</td>\n",
       "      <td>NaN</td>\n",
       "      <td>NaN</td>\n",
       "      <td>NaN</td>\n",
       "      <td>Yes</td>\n",
       "      <td>NaN</td>\n",
       "      <td>NaN</td>\n",
       "      <td>NaN</td>\n",
       "      <td>NaN</td>\n",
       "      <td>NaN</td>\n",
       "    </tr>\n",
       "    <tr>\n",
       "      <th>1272</th>\n",
       "      <td>1272</td>\n",
       "      <td>Honda</td>\n",
       "      <td>City</td>\n",
       "      <td>Zx Mt Diesel</td>\n",
       "      <td>1498.0</td>\n",
       "      <td>4.0</td>\n",
       "      <td>4.0</td>\n",
       "      <td>FWD (Front Wheel Drive)</td>\n",
       "      <td>In-line</td>\n",
       "      <td>Front, Transverse</td>\n",
       "      <td>...</td>\n",
       "      <td>Yes</td>\n",
       "      <td>Yes</td>\n",
       "      <td>NaN</td>\n",
       "      <td>NaN</td>\n",
       "      <td>Yes</td>\n",
       "      <td>NaN</td>\n",
       "      <td>NaN</td>\n",
       "      <td>NaN</td>\n",
       "      <td>NaN</td>\n",
       "      <td>NaN</td>\n",
       "    </tr>\n",
       "    <tr>\n",
       "      <th>1273</th>\n",
       "      <td>1273</td>\n",
       "      <td>Honda</td>\n",
       "      <td>City</td>\n",
       "      <td>Zx Cvt Petrol</td>\n",
       "      <td>1497.0</td>\n",
       "      <td>4.0</td>\n",
       "      <td>4.0</td>\n",
       "      <td>FWD (Front Wheel Drive)</td>\n",
       "      <td>In-line</td>\n",
       "      <td>Front, Transverse</td>\n",
       "      <td>...</td>\n",
       "      <td>Yes</td>\n",
       "      <td>Yes</td>\n",
       "      <td>NaN</td>\n",
       "      <td>NaN</td>\n",
       "      <td>Yes</td>\n",
       "      <td>NaN</td>\n",
       "      <td>NaN</td>\n",
       "      <td>NaN</td>\n",
       "      <td>NaN</td>\n",
       "      <td>NaN</td>\n",
       "    </tr>\n",
       "    <tr>\n",
       "      <th>1274</th>\n",
       "      <td>1274</td>\n",
       "      <td>Honda</td>\n",
       "      <td>City</td>\n",
       "      <td>V Cvt Petrol</td>\n",
       "      <td>1497.0</td>\n",
       "      <td>4.0</td>\n",
       "      <td>4.0</td>\n",
       "      <td>FWD (Front Wheel Drive)</td>\n",
       "      <td>In-line</td>\n",
       "      <td>Front, Transverse</td>\n",
       "      <td>...</td>\n",
       "      <td>NaN</td>\n",
       "      <td>NaN</td>\n",
       "      <td>NaN</td>\n",
       "      <td>NaN</td>\n",
       "      <td>Yes</td>\n",
       "      <td>NaN</td>\n",
       "      <td>NaN</td>\n",
       "      <td>NaN</td>\n",
       "      <td>NaN</td>\n",
       "      <td>NaN</td>\n",
       "    </tr>\n",
       "    <tr>\n",
       "      <th>1275</th>\n",
       "      <td>1275</td>\n",
       "      <td>Mitsubishi</td>\n",
       "      <td>Montero</td>\n",
       "      <td>3.2 At</td>\n",
       "      <td>3200.0</td>\n",
       "      <td>4.0</td>\n",
       "      <td>4.0</td>\n",
       "      <td>AWD (All Wheel Drive)</td>\n",
       "      <td>In-line</td>\n",
       "      <td>Front, Longitudinal</td>\n",
       "      <td>...</td>\n",
       "      <td>Yes</td>\n",
       "      <td>NaN</td>\n",
       "      <td>NaN</td>\n",
       "      <td>Yes</td>\n",
       "      <td>Yes</td>\n",
       "      <td>NaN</td>\n",
       "      <td>NaN</td>\n",
       "      <td>NaN</td>\n",
       "      <td>NaN</td>\n",
       "      <td>NaN</td>\n",
       "    </tr>\n",
       "  </tbody>\n",
       "</table>\n",
       "<p>1276 rows × 139 columns</p>\n",
       "</div>"
      ],
      "text/plain": [
       "      isker        Make      Model        Variant  Displacement  Cylinders  \\\n",
       "0         0        Tata  Nano Genx             Xt         624.0        2.0   \n",
       "1         1        Tata  Nano Genx             Xe         624.0        2.0   \n",
       "2         2        Tata  Nano Genx        Emax Xm         624.0        2.0   \n",
       "3         3        Tata  Nano Genx            Xta         624.0        2.0   \n",
       "4         4        Tata  Nano Genx             Xm         624.0        2.0   \n",
       "...     ...         ...        ...            ...           ...        ...   \n",
       "1271   1271       Honda       City   Vx Mt Diesel        1498.0        4.0   \n",
       "1272   1272       Honda       City   Zx Mt Diesel        1498.0        4.0   \n",
       "1273   1273       Honda       City  Zx Cvt Petrol        1497.0        4.0   \n",
       "1274   1274       Honda       City   V Cvt Petrol        1497.0        4.0   \n",
       "1275   1275  Mitsubishi    Montero         3.2 At        3200.0        4.0   \n",
       "\n",
       "      Valves_Per_Cylinder               Drivetrain Cylinder_Configuration  \\\n",
       "0                     2.0   RWD (Rear Wheel Drive)                In-line   \n",
       "1                     2.0   RWD (Rear Wheel Drive)                In-line   \n",
       "2                     2.0   RWD (Rear Wheel Drive)                In-line   \n",
       "3                     2.0   RWD (Rear Wheel Drive)                In-line   \n",
       "4                     2.0   RWD (Rear Wheel Drive)                In-line   \n",
       "...                   ...                      ...                    ...   \n",
       "1271                  4.0  FWD (Front Wheel Drive)                In-line   \n",
       "1272                  4.0  FWD (Front Wheel Drive)                In-line   \n",
       "1273                  4.0  FWD (Front Wheel Drive)                In-line   \n",
       "1274                  4.0  FWD (Front Wheel Drive)                In-line   \n",
       "1275                  4.0    AWD (All Wheel Drive)                In-line   \n",
       "\n",
       "          Engine_Location  ... Leather_Wrapped_Steering  Automatic_Headlamps  \\\n",
       "0        Rear, Transverse  ...                      NaN                  NaN   \n",
       "1        Rear, Transverse  ...                      NaN                  NaN   \n",
       "2        Rear, Transverse  ...                      NaN                  NaN   \n",
       "3        Rear, Transverse  ...                      NaN                  NaN   \n",
       "4        Rear, Transverse  ...                      NaN                  NaN   \n",
       "...                   ...  ...                      ...                  ...   \n",
       "1271    Front, Transverse  ...                      Yes                  NaN   \n",
       "1272    Front, Transverse  ...                      Yes                  Yes   \n",
       "1273    Front, Transverse  ...                      Yes                  Yes   \n",
       "1274    Front, Transverse  ...                      NaN                  NaN   \n",
       "1275  Front, Longitudinal  ...                      Yes                  NaN   \n",
       "\n",
       "     Engine_Type  ASR_/_Traction_Control  Cruise_Control  USB_Ports  \\\n",
       "0            NaN                     NaN             NaN        NaN   \n",
       "1            NaN                     NaN             NaN        NaN   \n",
       "2            NaN                     NaN             NaN        NaN   \n",
       "3            NaN                     NaN             NaN        NaN   \n",
       "4            NaN                     NaN             NaN        NaN   \n",
       "...          ...                     ...             ...        ...   \n",
       "1271         NaN                     NaN             Yes        NaN   \n",
       "1272         NaN                     NaN             Yes        NaN   \n",
       "1273         NaN                     NaN             Yes        NaN   \n",
       "1274         NaN                     NaN             Yes        NaN   \n",
       "1275         NaN                     Yes             Yes        NaN   \n",
       "\n",
       "     Heads-Up_Display  Welcome_Lights  Battery  Electric_Range  \n",
       "0                 NaN             NaN      NaN             NaN  \n",
       "1                 NaN             NaN      NaN             NaN  \n",
       "2                 NaN             NaN      NaN             NaN  \n",
       "3                 NaN             NaN      NaN             NaN  \n",
       "4                 NaN             NaN      NaN             NaN  \n",
       "...               ...             ...      ...             ...  \n",
       "1271              NaN             NaN      NaN             NaN  \n",
       "1272              NaN             NaN      NaN             NaN  \n",
       "1273              NaN             NaN      NaN             NaN  \n",
       "1274              NaN             NaN      NaN             NaN  \n",
       "1275              NaN             NaN      NaN             NaN  \n",
       "\n",
       "[1276 rows x 139 columns]"
      ]
     },
     "execution_count": 2,
     "metadata": {},
     "output_type": "execute_result"
    }
   ],
   "source": [
    "cars=pd.read_excel('DS1_C4_S5_Car_Data_Challenge.xlsx')\n",
    "cars"
   ]
  },
  {
   "cell_type": "code",
   "execution_count": 40,
   "id": "ce97c8c0",
   "metadata": {},
   "outputs": [
    {
     "data": {
      "text/plain": [
       "<BarContainer object of 10 artists>"
      ]
     },
     "execution_count": 40,
     "metadata": {},
     "output_type": "execute_result"
    },
    {
     "data": {
      "image/png": "[encoded data removed]",
      "text/plain": [
       "<Figure size 432x288 with 1 Axes>"
      ]
     },
     "metadata": {
      "needs_background": "light"
     },
     "output_type": "display_data"
    }
   ],
   "source": [
    "#task 1\n",
    "t1=cars.groupby(by='Make')['City_Mileage_km_litre'].max().sort_values(ascending=False)\n",
    "t11=t1[0:10]\n",
    "plt.bar(t11.index,t11.values)"
   ]
  },
  {
   "cell_type": "code",
   "execution_count": 41,
   "id": "0dcd92d8",
   "metadata": {},
   "outputs": [
    {
     "data": {
      "text/plain": [
       "<BarContainer object of 10 artists>"
      ]
     },
     "execution_count": 41,
     "metadata": {},
     "output_type": "execute_result"
    },
    {
     "data": {
      "image/png": "[encoded data removed]",
      "text/plain": [
       "<Figure size 432x288 with 1 Axes>"
      ]
     },
     "metadata": {
      "needs_background": "light"
     },
     "output_type": "display_data"
    }
   ],
   "source": [
    "#task 2\n",
    "t21=t1[10:20]\n",
    "plt.bar(t21.index,t21.values)"
   ]
  },
  {
   "cell_type": "code",
   "execution_count": 5,
   "id": "008ddfe7",
   "metadata": {},
   "outputs": [
    {
     "data": {
      "text/plain": [
       "([<matplotlib.patches.Wedge at 0x22bf2553580>,\n",
       "  <matplotlib.patches.Wedge at 0x22bf2553cd0>,\n",
       "  <matplotlib.patches.Wedge at 0x22bf255e430>,\n",
       "  <matplotlib.patches.Wedge at 0x22bf255eb50>,\n",
       "  <matplotlib.patches.Wedge at 0x22bf25662b0>,\n",
       "  <matplotlib.patches.Wedge at 0x22bf25669d0>,\n",
       "  <matplotlib.patches.Wedge at 0x22bf256f130>,\n",
       "  <matplotlib.patches.Wedge at 0x22bf256f850>,\n",
       "  <matplotlib.patches.Wedge at 0x22bf256ff70>,\n",
       "  <matplotlib.patches.Wedge at 0x22bf25796d0>,\n",
       "  <matplotlib.patches.Wedge at 0x22bf2553550>,\n",
       "  <matplotlib.patches.Wedge at 0x22bf2581520>,\n",
       "  <matplotlib.patches.Wedge at 0x22bf2581c40>,\n",
       "  <matplotlib.patches.Wedge at 0x22bf258c3a0>,\n",
       "  <matplotlib.patches.Wedge at 0x22bf258cac0>,\n",
       "  <matplotlib.patches.Wedge at 0x22bf2594250>,\n",
       "  <matplotlib.patches.Wedge at 0x22bf2594970>],\n",
       " [Text(1.0986540578457136, 0.05439909171252586, 'Convertible'),\n",
       "  Text(1.0779924565966297, 0.21893438176943278, 'Coupe'),\n",
       "  Text(1.04947431754508, 0.3295506892926923, 'Coupe, Convertible'),\n",
       "  Text(1.0328321284431126, 0.378494114162519, 'Crossover'),\n",
       "  Text(1.0128504299622478, 0.42910838552199126, 'Crossover, SUV'),\n",
       "  Text(0.411506508760869, 1.020128616032038, 'Hatchback'),\n",
       "  Text(-0.5222822093346919, 0.9681019025972799, 'MPV'),\n",
       "  Text(-0.6982269697114047, 0.8499877050685083, 'MUV'),\n",
       "  Text(-0.7826128012934026, 0.772992369465374, 'Pick-up'),\n",
       "  Text(-1.0392309096638543, -0.36055390221052636, 'SUV'),\n",
       "  Text(-0.13840645474694308, -1.0912578308009444, 'SUV, Crossover'),\n",
       "  Text(0.7107652588027655, -0.8395312661712118, 'Sedan'),\n",
       "  Text(1.0991385373297622, -0.043525575890402735, 'Sedan, Coupe'),\n",
       "  Text(1.099431275346586, -0.03536765174251013, 'Sedan, Crossover'),\n",
       "  Text(1.0997274043795056, -0.02448746733975552, 'Sports'),\n",
       "  Text(1.0999461526620928, -0.010883990254507203, 'Sports, Convertible'),\n",
       "  Text(1.0999966346828245, -0.0027209716023879967, 'Sports, Hatchback')],\n",
       " [Text(0.5992658497340255, 0.02967223184319592, '1.57%'),\n",
       "  Text(0.5879958854163434, 0.11941875369241786, '3.23%'),\n",
       "  Text(0.5724405368427709, 0.17975492143237762, '0.08%'),\n",
       "  Text(0.5633629791507886, 0.2064513349977376, '1.42%'),\n",
       "  Text(0.5524638708884988, 0.23405911937563156, '0.16%'),\n",
       "  Text(0.22445809568774674, 0.5564337905629297, '24.88%'),\n",
       "  Text(-0.2848812050916501, 0.5280555832348799, '3.07%'),\n",
       "  Text(-0.3808510743880389, 0.46362965731009537, '3.07%'),\n",
       "  Text(-0.4268797097964014, 0.42163220152656755, '0.24%'),\n",
       "  Text(-0.5668532234530114, -0.19666576484210527, '35.20%'),\n",
       "  Text(-0.07549442986196894, -0.5952315440732423, '0.16%'),\n",
       "  Text(0.3876901411651448, -0.45792614518429725, '26.22%'),\n",
       "  Text(0.5995301112707793, -0.023741223212946944, '0.16%'),\n",
       "  Text(0.5996897865526832, -0.019291446405005522, '0.08%'),\n",
       "  Text(0.5998513114797303, -0.013356800367139373, '0.24%'),\n",
       "  Text(0.5999706287247778, -0.005936721957003929, '0.16%'),\n",
       "  Text(0.5999981643724496, -0.0014841663285752708, '0.08%')])"
      ]
     },
     "execution_count": 5,
     "metadata": {},
     "output_type": "execute_result"
    },
    {
     "data": {
      "image/png": "[encoded data removed]",
      "text/plain": [
       "<Figure size 432x288 with 1 Axes>"
      ]
     },
     "metadata": {},
     "output_type": "display_data"
    }
   ],
   "source": [
    "#task 3\n",
    "t3=cars.groupby(by='Body_Type')['isker'].count()\n",
    "plt.pie(t3.values,labels=t3.index,autopct='%.2f%%')"
   ]
  },
  {
   "cell_type": "code",
   "execution_count": 6,
   "id": "2dc52976",
   "metadata": {},
   "outputs": [
    {
     "name": "stdout",
     "output_type": "stream",
     "text": [
      "                          mean                                         median  \\\n",
      "         City_Mileage_km_litre Highway_Mileage_km_litre City_Mileage_km_litre   \n",
      "Make                                                                            \n",
      "Hyundai              16.679853                18.294146                 16.38   \n",
      "Mahindra             20.003763                18.140175                 16.00   \n",
      "Renault              20.554286                17.690000                 21.04   \n",
      "Skoda                13.953333                17.268529                 14.50   \n",
      "\n",
      "                                   \n",
      "         Highway_Mileage_km_litre  \n",
      "Make                               \n",
      "Hyundai                     18.50  \n",
      "Mahindra                    17.21  \n",
      "Renault                     19.60  \n",
      "Skoda                       16.00  \n"
     ]
    },
    {
     "data": {
      "text/plain": [
       "<AxesSubplot:xlabel='Make'>"
      ]
     },
     "execution_count": 6,
     "metadata": {},
     "output_type": "execute_result"
    },
    {
     "data": {
      "image/png": "[encoded data removed]",
      "text/plain": [
       "<Figure size 432x288 with 1 Axes>"
      ]
     },
     "metadata": {
      "needs_background": "light"
     },
     "output_type": "display_data"
    }
   ],
   "source": [
    "#task 4\n",
    "t4=pd.pivot_table(cars[(cars['Make']=='Hyundai')|(cars['Make']=='Mahindra')|(cars['Make']=='Renault')|(cars['Make']=='Skoda')],index=['Make'],values=['City_Mileage_km_litre','Highway_Mileage_km_litre'],aggfunc=['mean','median'])\n",
    "print(t4)\n",
    "t4.plot.bar()"
   ]
  },
  {
   "cell_type": "code",
   "execution_count": 7,
   "id": "e74db8b5",
   "metadata": {},
   "outputs": [
    {
     "name": "stdout",
     "output_type": "stream",
     "text": [
      "                            mean                           \\\n",
      "           City_Mileage_km_litre Highway_Mileage_km_litre   \n",
      "Make                                                        \n",
      "Hyundai                16.679853                18.294146   \n",
      "Mahindra               20.003763                18.140175   \n",
      "Toyota                 14.293065                18.448750   \n",
      "Volkswagen             16.225000                19.229333   \n",
      "\n",
      "                          median                           \n",
      "           City_Mileage_km_litre Highway_Mileage_km_litre  \n",
      "Make                                                       \n",
      "Hyundai                    16.38                   18.500  \n",
      "Mahindra                   16.00                   17.210  \n",
      "Toyota                     13.60                   17.935  \n",
      "Volkswagen                 15.30                   20.000  \n"
     ]
    },
    {
     "data": {
      "text/plain": [
       "<AxesSubplot:xlabel='Make'>"
      ]
     },
     "execution_count": 7,
     "metadata": {},
     "output_type": "execute_result"
    },
    {
     "data": {
      "image/png": "[encoded data removed]",
      "text/plain": [
       "<Figure size 432x288 with 1 Axes>"
      ]
     },
     "metadata": {
      "needs_background": "light"
     },
     "output_type": "display_data"
    }
   ],
   "source": [
    "#task 5\n",
    "t5=pd.pivot_table(cars[(cars['Make']=='Toyota')|(cars['Make']=='Mahindra')|(cars['Make']=='Volkswagen')|(cars['Make']=='Hyundai')],index=['Make'],values=['City_Mileage_km_litre','Highway_Mileage_km_litre'],aggfunc=['mean','median'])\n",
    "print(t5)\n",
    "t5.plot.bar()"
   ]
  },
  {
   "cell_type": "code",
   "execution_count": 8,
   "id": "5605c4b4",
   "metadata": {},
   "outputs": [
    {
     "data": {
      "text/plain": [
       "<BarContainer object of 39 artists>"
      ]
     },
     "execution_count": 8,
     "metadata": {},
     "output_type": "execute_result"
    },
    {
     "data": {
      "image/png": "[encoded data removed]",
      "text/plain": [
       "<Figure size 432x288 with 1 Axes>"
      ]
     },
     "metadata": {
      "needs_background": "light"
     },
     "output_type": "display_data"
    }
   ],
   "source": [
    "#task 6\n",
    "cars['Average_Mileage']=0.5*(cars['City_Mileage_km_litre']+cars['Highway_Mileage_km_litre'])\n",
    "t6=cars.groupby(by='Make')['Average_Mileage'].mean().sort_values(ascending=False)\n",
    "plt.bar(t6.index,t6.values)"
   ]
  },
  {
   "cell_type": "code",
   "execution_count": 9,
   "id": "643dd654",
   "metadata": {},
   "outputs": [
    {
     "name": "stdout",
     "output_type": "stream",
     "text": [
      "Displacement\n",
      "72.0             NaN\n",
      "216.0            NaN\n",
      "624.0      22.500000\n",
      "796.0      35.083333\n",
      "799.0      28.000000\n",
      "             ...    \n",
      "6598.0     80.000000\n",
      "6749.0    100.000000\n",
      "6750.0           NaN\n",
      "6752.0     90.000000\n",
      "7993.0           NaN\n",
      "Name: Fuel_Tank_Capacity_litre, Length: 129, dtype: float64\n",
      "Displacement\n",
      "4367.0    105.000000\n",
      "6749.0    100.000000\n",
      "2925.0     96.500000\n",
      "3604.0     93.500000\n",
      "6417.0     93.500000\n",
      "4461.0     93.000000\n",
      "5700.0     93.000000\n",
      "3855.0     92.000000\n",
      "6496.0     92.000000\n",
      "4999.0     91.666667\n",
      "Name: Fuel_Tank_Capacity_litre, dtype: float64\n"
     ]
    },
    {
     "data": {
      "text/plain": [
       "<matplotlib.collections.PathCollection at 0x22bf2899af0>"
      ]
     },
     "execution_count": 9,
     "metadata": {},
     "output_type": "execute_result"
    },
    {
     "data": {
      "image/png": "[encoded data removed]",
      "text/plain": [
       "<Figure size 432x288 with 1 Axes>"
      ]
     },
     "metadata": {
      "needs_background": "light"
     },
     "output_type": "display_data"
    }
   ],
   "source": [
    "#task 7\n",
    "t7=cars.groupby(by='Displacement')['Fuel_Tank_Capacity_litre'].mean()\n",
    "print(t7)\n",
    "print(t7.nlargest(10))\n",
    "plt.scatter(t7.nlargest(10).index,t7.nlargest(10).values)\n"
   ]
  },
  {
   "cell_type": "code",
   "execution_count": 10,
   "id": "83ea15fb",
   "metadata": {},
   "outputs": [
    {
     "name": "stdout",
     "output_type": "stream",
     "text": [
      "Fuel_Tank_Capacity_litre\n",
      "15.0           NaN\n",
      "24.0           NaN\n",
      "27.0           NaN\n",
      "28.0     22.690000\n",
      "32.0     20.667500\n",
      "           ...    \n",
      "93.0      7.150000\n",
      "93.5           NaN\n",
      "96.0           NaN\n",
      "100.0     9.830000\n",
      "105.0     7.566667\n",
      "Name: Average_Mileage, Length: 63, dtype: float64\n",
      "Fuel_Tank_Capacity_litre\n",
      "28.0    22.690000\n",
      "48.0    22.150000\n",
      "35.0    20.723409\n",
      "32.0    20.667500\n",
      "43.0    19.735833\n",
      "41.0    19.500000\n",
      "51.0    19.340000\n",
      "44.0    18.520000\n",
      "45.0    18.006286\n",
      "67.0    17.058000\n",
      "Name: Average_Mileage, dtype: float64\n"
     ]
    },
    {
     "data": {
      "image/png": "[encoded data removed]",
      "text/plain": [
       "<Figure size 432x288 with 1 Axes>"
      ]
     },
     "metadata": {
      "needs_background": "light"
     },
     "output_type": "display_data"
    }
   ],
   "source": [
    "#task 8\n",
    "t8=cars.groupby(by='Fuel_Tank_Capacity_litre')['Average_Mileage'].mean()\n",
    "print(t8)\n",
    "print(t8.nlargest(10))\n",
    "plt.scatter(t8.nlargest(10).index,t8.nlargest(10).values)\n",
    "plt.xlabel='Fuel Tank Capacity'\n"
   ]
  },
  {
   "cell_type": "code",
   "execution_count": 11,
   "id": "b4262f5f",
   "metadata": {},
   "outputs": [
    {
     "data": {
      "text/plain": [
       "<AxesSubplot:xlabel='Make'>"
      ]
     },
     "execution_count": 11,
     "metadata": {},
     "output_type": "execute_result"
    },
    {
     "data": {
      "image/png": "[encoded data removed]",
      "text/plain": [
       "<Figure size 432x288 with 1 Axes>"
      ]
     },
     "metadata": {
      "needs_background": "light"
     },
     "output_type": "display_data"
    }
   ],
   "source": [
    "#task 9\n",
    "t9=cars[(cars['Central_Locking']=='Yes')&(cars['Child_Safety_Locks']=='Yes')&(cars['Hill_Assist']=='Yes')&(cars['High_Speed_Alert_System']=='Yes')]\n",
    "t91=t9.groupby(by='Make')['Average_Mileage'].mean()\n",
    "t92=t91.nlargest(10)\n",
    "t92.plot.bar()"
   ]
  },
  {
   "cell_type": "code",
   "execution_count": 59,
   "id": "5cabbf90",
   "metadata": {},
   "outputs": [
    {
     "data": {
      "text/html": [
       "<div>\n",
       "<style scoped>\n",
       "    .dataframe tbody tr th:only-of-type {\n",
       "        vertical-align: middle;\n",
       "    }\n",
       "\n",
       "    .dataframe tbody tr th {\n",
       "        vertical-align: top;\n",
       "    }\n",
       "\n",
       "    .dataframe thead th {\n",
       "        text-align: right;\n",
       "    }\n",
       "</style>\n",
       "<table border=\"1\" class=\"dataframe\">\n",
       "  <thead>\n",
       "    <tr style=\"text-align: right;\">\n",
       "      <th></th>\n",
       "      <th>isker</th>\n",
       "      <th>Make</th>\n",
       "      <th>Model</th>\n",
       "      <th>Variant</th>\n",
       "      <th>Displacement</th>\n",
       "      <th>Cylinders</th>\n",
       "      <th>Valves_Per_Cylinder</th>\n",
       "      <th>Drivetrain</th>\n",
       "      <th>Cylinder_Configuration</th>\n",
       "      <th>Engine_Location</th>\n",
       "      <th>...</th>\n",
       "      <th>Automatic_Headlamps</th>\n",
       "      <th>Engine_Type</th>\n",
       "      <th>ASR_/_Traction_Control</th>\n",
       "      <th>Cruise_Control</th>\n",
       "      <th>USB_Ports</th>\n",
       "      <th>Heads-Up_Display</th>\n",
       "      <th>Welcome_Lights</th>\n",
       "      <th>Battery</th>\n",
       "      <th>Electric_Range</th>\n",
       "      <th>Average_Mileage</th>\n",
       "    </tr>\n",
       "  </thead>\n",
       "  <tbody>\n",
       "    <tr>\n",
       "      <th>321</th>\n",
       "      <td>321</td>\n",
       "      <td>Audi</td>\n",
       "      <td>Q8</td>\n",
       "      <td>55 Tfsi Quattro Tiptronic</td>\n",
       "      <td>2995.0</td>\n",
       "      <td>4.0</td>\n",
       "      <td>4.0</td>\n",
       "      <td>AWD (All Wheel Drive)</td>\n",
       "      <td>V</td>\n",
       "      <td>Front, Longitudinal</td>\n",
       "      <td>...</td>\n",
       "      <td>NaN</td>\n",
       "      <td>Roller cam follower, continuous intake and exh...</td>\n",
       "      <td>Yes</td>\n",
       "      <td>Yes</td>\n",
       "      <td>NaN</td>\n",
       "      <td>Yes</td>\n",
       "      <td>Yes</td>\n",
       "      <td>NaN</td>\n",
       "      <td>NaN</td>\n",
       "      <td>NaN</td>\n",
       "    </tr>\n",
       "    <tr>\n",
       "      <th>330</th>\n",
       "      <td>330</td>\n",
       "      <td>Audi</td>\n",
       "      <td>A8 L</td>\n",
       "      <td>55 Tfsi Quattro</td>\n",
       "      <td>2995.0</td>\n",
       "      <td>8.0</td>\n",
       "      <td>4.0</td>\n",
       "      <td>AWD (All Wheel Drive)</td>\n",
       "      <td>V</td>\n",
       "      <td>Front, Longitudinal</td>\n",
       "      <td>...</td>\n",
       "      <td>NaN</td>\n",
       "      <td>NaN</td>\n",
       "      <td>Yes</td>\n",
       "      <td>Yes</td>\n",
       "      <td>NaN</td>\n",
       "      <td>Yes</td>\n",
       "      <td>Yes</td>\n",
       "      <td>NaN</td>\n",
       "      <td>NaN</td>\n",
       "      <td>NaN</td>\n",
       "    </tr>\n",
       "  </tbody>\n",
       "</table>\n",
       "<p>2 rows × 140 columns</p>\n",
       "</div>"
      ],
      "text/plain": [
       "     isker  Make Model                    Variant  Displacement  Cylinders  \\\n",
       "321    321  Audi    Q8  55 Tfsi Quattro Tiptronic        2995.0        4.0   \n",
       "330    330  Audi  A8 L            55 Tfsi Quattro        2995.0        8.0   \n",
       "\n",
       "     Valves_Per_Cylinder             Drivetrain Cylinder_Configuration  \\\n",
       "321                  4.0  AWD (All Wheel Drive)                      V   \n",
       "330                  4.0  AWD (All Wheel Drive)                      V   \n",
       "\n",
       "         Engine_Location  ... Automatic_Headlamps  \\\n",
       "321  Front, Longitudinal  ...                 NaN   \n",
       "330  Front, Longitudinal  ...                 NaN   \n",
       "\n",
       "                                           Engine_Type ASR_/_Traction_Control  \\\n",
       "321  Roller cam follower, continuous intake and exh...                    Yes   \n",
       "330                                                NaN                    Yes   \n",
       "\n",
       "     Cruise_Control  USB_Ports  Heads-Up_Display Welcome_Lights  Battery  \\\n",
       "321             Yes        NaN               Yes            Yes      NaN   \n",
       "330             Yes        NaN               Yes            Yes      NaN   \n",
       "\n",
       "     Electric_Range  Average_Mileage  \n",
       "321             NaN              NaN  \n",
       "330             NaN              NaN  \n",
       "\n",
       "[2 rows x 140 columns]"
      ]
     },
     "execution_count": 59,
     "metadata": {},
     "output_type": "execute_result"
    },
    {
     "data": {
      "image/png": "[encoded data removed]",
      "text/plain": [
       "<Figure size 432x288 with 1 Axes>"
      ]
     },
     "metadata": {
      "needs_background": "light"
     },
     "output_type": "display_data"
    }
   ],
   "source": [
    "#task 10\n",
    "t10=cars[cars['Drive_Modes']=='Normal, Comfort, Eco, Sport, Power Mode']\n",
    "pd.pivot_table(cars,index=['Drive_Modes'],values=['isker'],aggfunc='count').plot.bar()\n",
    "t10"
   ]
  },
  {
   "cell_type": "code",
   "execution_count": 46,
   "id": "0c95904c",
   "metadata": {},
   "outputs": [
    {
     "data": {
      "image/png": "[encoded data removed]",
      "text/plain": [
       "<Figure size 432x288 with 4 Axes>"
      ]
     },
     "metadata": {
      "needs_background": "light"
     },
     "output_type": "display_data"
    }
   ],
   "source": [
    "#task 11\n",
    "t11=cars[(cars['Make']=='Hyundai')|(cars['Make']=='Suzuki')|(cars['Make']=='Tata')|(cars['Make']=='BMW')]\n",
    "fig,((hyu,suz),(tata,bmw))=plt.subplots(2,2)\n",
    "\n",
    "hyu.hist(cars[cars['Make']=='Hyundai']['City_Mileage_km_litre'])\n",
    "hyu.set_title('Hyundai')\n",
    "suz.hist(cars[cars['Make']=='Maruti Suzuki']['City_Mileage_km_litre'])\n",
    "suz.set_title('Suzuki')print('b.The probability that 6 or more customers arrive in a 5-minute interval is',1-cust[0:6].sum())\n",
    "tata.hist(cars[cars['Make']=='Tata']['City_Mileage_km_litre'])\n",
    "tata.set_title('Tata')\n",
    "bmw.hist(cars[cars['Make']=='Bmw']['City_Mileage_km_litre'])\n",
    "bmw.set_title('BMW')\n",
    "plt.subplots_adjust(wspace=0.3,hspace=0.5)"
   ]
  },
  {
   "cell_type": "code",
   "execution_count": null,
   "id": "f20b0a18",
   "metadata": {},
   "outputs": [],
   "source": []
  }
 ],
 "metadata": {
  "kernelspec": {
   "display_name": "Python 3 (ipykernel)",
   "language": "python",
   "name": "python3"
  },
  "language_info": {
   "codemirror_mode": {
    "name": "ipython",
    "version": 3
   },
   "file_extension": ".py",
   "mimetype": "text/x-python",
   "name": "python",
   "nbconvert_exporter": "python",
   "pygments_lexer": "ipython3",
   "version": "3.9.12"
  }
 },
 "nbformat": 4,
 "nbformat_minor": 5
}
