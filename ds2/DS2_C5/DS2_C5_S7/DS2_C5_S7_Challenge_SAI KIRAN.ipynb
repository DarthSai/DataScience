{
 "cells": [
  {
   "cell_type": "code",
   "execution_count": 1,
   "id": "64cfa957",
   "metadata": {},
   "outputs": [],
   "source": [
    "import numpy as np\n",
    "import pandas as pd\n",
    "import seaborn as sns\n",
    "import matplotlib as mpl\n",
    "import matplotlib.pyplot as plt\n",
    "from sklearn import preprocessing\n",
    "from sklearn import metrics\n",
    "from sklearn.naive_bayes import GaussianNB\n",
    "from sklearn.tree import DecisionTreeRegressor\n",
    "from sklearn.tree import DecisionTreeClassifier\n",
    "from sklearn import tree\n",
    "from sklearn.model_selection import StratifiedKFold,KFold,cross_validate\n",
    "from sklearn.preprocessing import MinMaxScaler , StandardScaler\n",
    "from sklearn.model_selection import train_test_split\n",
    "import scipy.stats\n",
    "from sklearn.metrics import mean_absolute_error, mean_squared_error,r2_score\n",
    "from sklearn.metrics import confusion_matrix,classification_report,roc_curve\n",
    "from sklearn.metrics import accuracy_score,recall_score,f1_score,precision_score\n",
    "from sklearn.metrics import roc_auc_score\n",
    "from sklearn.model_selection import cross_val_predict,cross_val_score,GridSearchCV,train_test_split\n",
    "import warnings\n",
    "warnings.simplefilter(action='ignore')\n",
    "from sklearn.svm import SVC\n",
    "from sklearn.svm import SVR\n",
    "from sklearn.linear_model import LinearRegression\n",
    "from sklearn.linear_model import LogisticRegression\n",
    "from sklearn.ensemble import VotingClassifier\n",
    "from sklearn.ensemble import RandomForestClassifier\n",
    "from sklearn.ensemble import RandomForestRegressor\n",
    "from sklearn.ensemble import AdaBoostClassifier\n",
    "from sklearn.ensemble import AdaBoostRegressor\n",
    "from sklearn import preprocessing"
   ]
  },
  {
   "cell_type": "code",
   "execution_count": 2,
   "id": "1aa60daf",
   "metadata": {},
   "outputs": [
    {
     "data": {
      "text/html": [
       "<div>\n",
       "<style scoped>\n",
       "    .dataframe tbody tr th:only-of-type {\n",
       "        vertical-align: middle;\n",
       "    }\n",
       "\n",
       "    .dataframe tbody tr th {\n",
       "        vertical-align: top;\n",
       "    }\n",
       "\n",
       "    .dataframe thead th {\n",
       "        text-align: right;\n",
       "    }\n",
       "</style>\n",
       "<table border=\"1\" class=\"dataframe\">\n",
       "  <thead>\n",
       "    <tr style=\"text-align: right;\">\n",
       "      <th></th>\n",
       "      <th>Unnamed: 0</th>\n",
       "      <th>bathrooms</th>\n",
       "      <th>bedrooms</th>\n",
       "      <th>building_id</th>\n",
       "      <th>created</th>\n",
       "      <th>description</th>\n",
       "      <th>display_address</th>\n",
       "      <th>features</th>\n",
       "      <th>latitude</th>\n",
       "      <th>listing_id</th>\n",
       "      <th>longitude</th>\n",
       "      <th>manager_id</th>\n",
       "      <th>photos</th>\n",
       "      <th>price</th>\n",
       "      <th>street_address</th>\n",
       "      <th>interest_level</th>\n",
       "    </tr>\n",
       "  </thead>\n",
       "  <tbody>\n",
       "    <tr>\n",
       "      <th>0</th>\n",
       "      <td>105408</td>\n",
       "      <td>1.0</td>\n",
       "      <td>0</td>\n",
       "      <td>0f9d07991ba14c82d3d368b72d90270a</td>\n",
       "      <td>04-04-2016 03:34</td>\n",
       "      <td>Gorgeous unit in one of the most genuinely cov...</td>\n",
       "      <td>230 Central Park South</td>\n",
       "      <td>['Cats Allowed', 'Dogs Allowed', 'Doorman', 'E...</td>\n",
       "      <td>40.7672</td>\n",
       "      <td>6827153</td>\n",
       "      <td>-73.9802</td>\n",
       "      <td>932589de9230b697808216774fa26bd4</td>\n",
       "      <td>['https://photos.renthop.com/2/6821519_0a14cc2...</td>\n",
       "      <td>2800</td>\n",
       "      <td>230 Central Park South</td>\n",
       "      <td>high</td>\n",
       "    </tr>\n",
       "    <tr>\n",
       "      <th>1</th>\n",
       "      <td>110219</td>\n",
       "      <td>1.0</td>\n",
       "      <td>1</td>\n",
       "      <td>564d6f608f41e8d4a5e181c4e068e3d9</td>\n",
       "      <td>21-04-2016 20:40</td>\n",
       "      <td>Enormous 1 bedroom apartment in Murray Hill. F...</td>\n",
       "      <td>E 39th St</td>\n",
       "      <td>['Cats Allowed', 'Dogs Allowed', 'Reduced Fee'...</td>\n",
       "      <td>40.7483</td>\n",
       "      <td>6908998</td>\n",
       "      <td>-73.9741</td>\n",
       "      <td>489ad933197469ae66acd1f7ce18f908</td>\n",
       "      <td>['https://photos.renthop.com/2/6908998_6b00895...</td>\n",
       "      <td>2100</td>\n",
       "      <td>243 E 39th St</td>\n",
       "      <td>high</td>\n",
       "    </tr>\n",
       "    <tr>\n",
       "      <th>2</th>\n",
       "      <td>56113</td>\n",
       "      <td>1.0</td>\n",
       "      <td>1</td>\n",
       "      <td>69790fbf0bf7e22b1d0ebc721cf0f633</td>\n",
       "      <td>14-05-2016 05:44</td>\n",
       "      <td>This 1 bedroom, 1 bathroom spacious apartment ...</td>\n",
       "      <td>E 25th St.</td>\n",
       "      <td>['Elevator', 'Furnished', 'Hardwood Floors']</td>\n",
       "      <td>40.7399</td>\n",
       "      <td>7013774</td>\n",
       "      <td>-73.9812</td>\n",
       "      <td>792c0f1ad1431397c65db3e69b770928</td>\n",
       "      <td>['https://photos.renthop.com/2/7013774_e7ead5d...</td>\n",
       "      <td>3000</td>\n",
       "      <td>217 E 25th St.</td>\n",
       "      <td>high</td>\n",
       "    </tr>\n",
       "    <tr>\n",
       "      <th>3</th>\n",
       "      <td>37765</td>\n",
       "      <td>1.0</td>\n",
       "      <td>2</td>\n",
       "      <td>d0234abbc01a982d54e8d446acc03405</td>\n",
       "      <td>05-06-2016 03:37</td>\n",
       "      <td>SPECTACULAR2 BEDROOM APARTMENT IN LUXURY 24HR ...</td>\n",
       "      <td>West 34th Street</td>\n",
       "      <td>['Doorman', 'Elevator', 'Dishwasher', 'Hardwoo...</td>\n",
       "      <td>40.7530</td>\n",
       "      <td>7113518</td>\n",
       "      <td>-73.9958</td>\n",
       "      <td>eb5a6c4c2eb6f3e2a085c477afd5a815</td>\n",
       "      <td>['https://photos.renthop.com/2/7113518_d234153...</td>\n",
       "      <td>3000</td>\n",
       "      <td>360 West 34th Street</td>\n",
       "      <td>high</td>\n",
       "    </tr>\n",
       "    <tr>\n",
       "      <th>4</th>\n",
       "      <td>67397</td>\n",
       "      <td>1.0</td>\n",
       "      <td>2</td>\n",
       "      <td>a36895b9975c6991ca0fa1d9a99023a1</td>\n",
       "      <td>26-05-2016 05:36</td>\n",
       "      <td>NO FEE.. Newly Reno XL Convertible 2 Br .. Pri...</td>\n",
       "      <td>East 72nd Street</td>\n",
       "      <td>['Dining Room', 'Doorman', 'Elevator', 'Fitnes...</td>\n",
       "      <td>40.7695</td>\n",
       "      <td>7071666</td>\n",
       "      <td>-73.9603</td>\n",
       "      <td>0a6ba20b892ed61df751420934d1ab51</td>\n",
       "      <td>['https://photos.renthop.com/2/7071666_4f81618...</td>\n",
       "      <td>3300</td>\n",
       "      <td>200 East 72nd Street</td>\n",
       "      <td>high</td>\n",
       "    </tr>\n",
       "  </tbody>\n",
       "</table>\n",
       "</div>"
      ],
      "text/plain": [
       "   Unnamed: 0  bathrooms  bedrooms                       building_id  \\\n",
       "0      105408        1.0         0  0f9d07991ba14c82d3d368b72d90270a   \n",
       "1      110219        1.0         1  564d6f608f41e8d4a5e181c4e068e3d9   \n",
       "2       56113        1.0         1  69790fbf0bf7e22b1d0ebc721cf0f633   \n",
       "3       37765        1.0         2  d0234abbc01a982d54e8d446acc03405   \n",
       "4       67397        1.0         2  a36895b9975c6991ca0fa1d9a99023a1   \n",
       "\n",
       "            created                                        description  \\\n",
       "0  04-04-2016 03:34  Gorgeous unit in one of the most genuinely cov...   \n",
       "1  21-04-2016 20:40  Enormous 1 bedroom apartment in Murray Hill. F...   \n",
       "2  14-05-2016 05:44  This 1 bedroom, 1 bathroom spacious apartment ...   \n",
       "3  05-06-2016 03:37  SPECTACULAR2 BEDROOM APARTMENT IN LUXURY 24HR ...   \n",
       "4  26-05-2016 05:36  NO FEE.. Newly Reno XL Convertible 2 Br .. Pri...   \n",
       "\n",
       "          display_address                                           features  \\\n",
       "0  230 Central Park South  ['Cats Allowed', 'Dogs Allowed', 'Doorman', 'E...   \n",
       "1               E 39th St  ['Cats Allowed', 'Dogs Allowed', 'Reduced Fee'...   \n",
       "2              E 25th St.       ['Elevator', 'Furnished', 'Hardwood Floors']   \n",
       "3        West 34th Street  ['Doorman', 'Elevator', 'Dishwasher', 'Hardwoo...   \n",
       "4        East 72nd Street  ['Dining Room', 'Doorman', 'Elevator', 'Fitnes...   \n",
       "\n",
       "   latitude  listing_id  longitude                        manager_id  \\\n",
       "0   40.7672     6827153   -73.9802  932589de9230b697808216774fa26bd4   \n",
       "1   40.7483     6908998   -73.9741  489ad933197469ae66acd1f7ce18f908   \n",
       "2   40.7399     7013774   -73.9812  792c0f1ad1431397c65db3e69b770928   \n",
       "3   40.7530     7113518   -73.9958  eb5a6c4c2eb6f3e2a085c477afd5a815   \n",
       "4   40.7695     7071666   -73.9603  0a6ba20b892ed61df751420934d1ab51   \n",
       "\n",
       "                                              photos  price  \\\n",
       "0  ['https://photos.renthop.com/2/6821519_0a14cc2...   2800   \n",
       "1  ['https://photos.renthop.com/2/6908998_6b00895...   2100   \n",
       "2  ['https://photos.renthop.com/2/7013774_e7ead5d...   3000   \n",
       "3  ['https://photos.renthop.com/2/7113518_d234153...   3000   \n",
       "4  ['https://photos.renthop.com/2/7071666_4f81618...   3300   \n",
       "\n",
       "           street_address interest_level  \n",
       "0  230 Central Park South           high  \n",
       "1           243 E 39th St           high  \n",
       "2          217 E 25th St.           high  \n",
       "3    360 West 34th Street           high  \n",
       "4    200 East 72nd Street           high  "
      ]
     },
     "execution_count": 2,
     "metadata": {},
     "output_type": "execute_result"
    }
   ],
   "source": [
    "ho=pd.read_csv('DS2_C5_S6_AllRent_Data_Challenge.csv')\n",
    "ho.head()"
   ]
  },
  {
   "cell_type": "code",
   "execution_count": 3,
   "id": "0b09f77b",
   "metadata": {},
   "outputs": [],
   "source": [
    "ho2=ho.copy()"
   ]
  },
  {
   "cell_type": "code",
   "execution_count": 4,
   "id": "6a5c3982",
   "metadata": {},
   "outputs": [],
   "source": [
    "ho=ho.drop(['features','Unnamed: 0','building_id','created','description','display_address','latitude','listing_id','longitude','manager_id','photos','street_address'],axis=1)"
   ]
  },
  {
   "cell_type": "code",
   "execution_count": 5,
   "id": "8ea8566a",
   "metadata": {},
   "outputs": [
    {
     "data": {
      "text/plain": [
       "<AxesSubplot:>"
      ]
     },
     "execution_count": 5,
     "metadata": {},
     "output_type": "execute_result"
    },
    {
     "data": {
      "image/png": "[encoded data removed]",
      "text/plain": [
       "<Figure size 432x288 with 2 Axes>"
      ]
     },
     "metadata": {
      "needs_background": "light"
     },
     "output_type": "display_data"
    }
   ],
   "source": [
    "sns.heatmap(ho.corr(),cmap='coolwarm',annot=True)"
   ]
  },
  {
   "cell_type": "code",
   "execution_count": 6,
   "id": "67d6d114",
   "metadata": {},
   "outputs": [
    {
     "data": {
      "text/plain": [
       "<seaborn.axisgrid.FacetGrid at 0x1dc4e9efb80>"
      ]
     },
     "execution_count": 6,
     "metadata": {},
     "output_type": "execute_result"
    },
    {
     "data": {
      "image/png": "[encoded data removed]",
      "text/plain": [
       "<Figure size 360x360 with 1 Axes>"
      ]
     },
     "metadata": {
      "needs_background": "light"
     },
     "output_type": "display_data"
    }
   ],
   "source": [
    "sns.catplot(data=ho,x='interest_level',y='bedrooms')"
   ]
  },
  {
   "cell_type": "code",
   "execution_count": 7,
   "id": "b3b413bd",
   "metadata": {},
   "outputs": [
    {
     "data": {
      "text/plain": [
       "<seaborn.axisgrid.FacetGrid at 0x1dc4dbd3b50>"
      ]
     },
     "execution_count": 7,
     "metadata": {},
     "output_type": "execute_result"
    },
    {
     "data": {
      "image/png": "[encoded data removed]",
      "text/plain": [
       "<Figure size 360x360 with 1 Axes>"
      ]
     },
     "metadata": {
      "needs_background": "light"
     },
     "output_type": "display_data"
    }
   ],
   "source": [
    "sns.catplot(data=ho,x='interest_level',y='price')"
   ]
  },
  {
   "cell_type": "code",
   "execution_count": 8,
   "id": "df6cf338",
   "metadata": {},
   "outputs": [
    {
     "data": {
      "text/plain": [
       "bathrooms         0\n",
       "bedrooms          0\n",
       "price             0\n",
       "interest_level    0\n",
       "dtype: int64"
      ]
     },
     "execution_count": 8,
     "metadata": {},
     "output_type": "execute_result"
    }
   ],
   "source": [
    "ho.isnull().sum()"
   ]
  },
  {
   "cell_type": "code",
   "execution_count": 9,
   "id": "0f13c2e6",
   "metadata": {},
   "outputs": [
    {
     "name": "stdout",
     "output_type": "stream",
     "text": [
      "<class 'pandas.core.frame.DataFrame'>\n",
      "RangeIndex: 9871 entries, 0 to 9870\n",
      "Data columns (total 4 columns):\n",
      " #   Column          Non-Null Count  Dtype  \n",
      "---  ------          --------------  -----  \n",
      " 0   bathrooms       9871 non-null   float64\n",
      " 1   bedrooms        9871 non-null   int64  \n",
      " 2   price           9871 non-null   int64  \n",
      " 3   interest_level  9871 non-null   object \n",
      "dtypes: float64(1), int64(2), object(1)\n",
      "memory usage: 308.6+ KB\n"
     ]
    }
   ],
   "source": [
    "ho.info()"
   ]
  },
  {
   "cell_type": "code",
   "execution_count": 10,
   "id": "7166e02f",
   "metadata": {},
   "outputs": [],
   "source": [
    "X=ho.drop('interest_level',axis=1)\n",
    "y=ho['interest_level']"
   ]
  },
  {
   "cell_type": "code",
   "execution_count": 11,
   "id": "ba235a65",
   "metadata": {},
   "outputs": [],
   "source": [
    "X_train, X_test, y_train, y_test = train_test_split(X, y, test_size = 0.3,random_state=88)"
   ]
  },
  {
   "cell_type": "code",
   "execution_count": 12,
   "id": "e2c8a469",
   "metadata": {},
   "outputs": [],
   "source": [
    "model41=DecisionTreeClassifier()\n",
    "model43=SVC()"
   ]
  },
  {
   "cell_type": "code",
   "execution_count": 13,
   "id": "725e3963",
   "metadata": {},
   "outputs": [
    {
     "data": {
      "text/plain": [
       "SVC()"
      ]
     },
     "execution_count": 13,
     "metadata": {},
     "output_type": "execute_result"
    }
   ],
   "source": [
    "model41.fit(X_train,y_train)\n",
    "model43.fit(X_train,y_train)"
   ]
  },
  {
   "cell_type": "code",
   "execution_count": 14,
   "id": "624c9a01",
   "metadata": {},
   "outputs": [],
   "source": [
    "model41_train_pred = model41.predict(X_train)\n",
    "model43_train_pred = model43.predict(X_train)"
   ]
  },
  {
   "cell_type": "code",
   "execution_count": 15,
   "id": "35211d4b",
   "metadata": {},
   "outputs": [],
   "source": [
    "label_encoder=preprocessing.LabelEncoder()"
   ]
  },
  {
   "cell_type": "code",
   "execution_count": 17,
   "id": "03ea7d0f",
   "metadata": {},
   "outputs": [
    {
     "data": {
      "text/html": [
       "<div>\n",
       "<style scoped>\n",
       "    .dataframe tbody tr th:only-of-type {\n",
       "        vertical-align: middle;\n",
       "    }\n",
       "\n",
       "    .dataframe tbody tr th {\n",
       "        vertical-align: top;\n",
       "    }\n",
       "\n",
       "    .dataframe thead th {\n",
       "        text-align: right;\n",
       "    }\n",
       "</style>\n",
       "<table border=\"1\" class=\"dataframe\">\n",
       "  <thead>\n",
       "    <tr style=\"text-align: right;\">\n",
       "      <th></th>\n",
       "      <th>DTR</th>\n",
       "      <th>SVR</th>\n",
       "    </tr>\n",
       "  </thead>\n",
       "  <tbody>\n",
       "    <tr>\n",
       "      <th>0</th>\n",
       "      <td>1</td>\n",
       "      <td>0</td>\n",
       "    </tr>\n",
       "    <tr>\n",
       "      <th>1</th>\n",
       "      <td>1</td>\n",
       "      <td>0</td>\n",
       "    </tr>\n",
       "    <tr>\n",
       "      <th>2</th>\n",
       "      <td>2</td>\n",
       "      <td>0</td>\n",
       "    </tr>\n",
       "    <tr>\n",
       "      <th>3</th>\n",
       "      <td>1</td>\n",
       "      <td>0</td>\n",
       "    </tr>\n",
       "    <tr>\n",
       "      <th>4</th>\n",
       "      <td>1</td>\n",
       "      <td>0</td>\n",
       "    </tr>\n",
       "    <tr>\n",
       "      <th>...</th>\n",
       "      <td>...</td>\n",
       "      <td>...</td>\n",
       "    </tr>\n",
       "    <tr>\n",
       "      <th>6904</th>\n",
       "      <td>1</td>\n",
       "      <td>0</td>\n",
       "    </tr>\n",
       "    <tr>\n",
       "      <th>6905</th>\n",
       "      <td>1</td>\n",
       "      <td>0</td>\n",
       "    </tr>\n",
       "    <tr>\n",
       "      <th>6906</th>\n",
       "      <td>1</td>\n",
       "      <td>0</td>\n",
       "    </tr>\n",
       "    <tr>\n",
       "      <th>6907</th>\n",
       "      <td>1</td>\n",
       "      <td>0</td>\n",
       "    </tr>\n",
       "    <tr>\n",
       "      <th>6908</th>\n",
       "      <td>1</td>\n",
       "      <td>0</td>\n",
       "    </tr>\n",
       "  </tbody>\n",
       "</table>\n",
       "<p>6909 rows × 2 columns</p>\n",
       "</div>"
      ],
      "text/plain": [
       "      DTR  SVR\n",
       "0       1    0\n",
       "1       1    0\n",
       "2       2    0\n",
       "3       1    0\n",
       "4       1    0\n",
       "...   ...  ...\n",
       "6904    1    0\n",
       "6905    1    0\n",
       "6906    1    0\n",
       "6907    1    0\n",
       "6908    1    0\n",
       "\n",
       "[6909 rows x 2 columns]"
      ]
     },
     "execution_count": 17,
     "metadata": {},
     "output_type": "execute_result"
    }
   ],
   "source": [
    "model4_train_X = {'DTR':model41_train_pred,'SVR':model43_train_pred}\n",
    "model4_train_X = pd.DataFrame(model4_train_X)\n",
    "for i in model4_train_X.columns:\n",
    "    model4_train_X[i]=label_encoder.fit_transform(model4_train_X[i])\n",
    "model4_train_X"
   ]
  },
  {
   "cell_type": "code",
   "execution_count": 18,
   "id": "5eeb0ef5",
   "metadata": {},
   "outputs": [],
   "source": [
    "model41_test_pred = model41.predict(X_test)\n",
    "model43_test_pred = model43.predict(X_test)"
   ]
  },
  {
   "cell_type": "code",
   "execution_count": 19,
   "id": "52959fd5",
   "metadata": {},
   "outputs": [
    {
     "data": {
      "text/html": [
       "<div>\n",
       "<style scoped>\n",
       "    .dataframe tbody tr th:only-of-type {\n",
       "        vertical-align: middle;\n",
       "    }\n",
       "\n",
       "    .dataframe tbody tr th {\n",
       "        vertical-align: top;\n",
       "    }\n",
       "\n",
       "    .dataframe thead th {\n",
       "        text-align: right;\n",
       "    }\n",
       "</style>\n",
       "<table border=\"1\" class=\"dataframe\">\n",
       "  <thead>\n",
       "    <tr style=\"text-align: right;\">\n",
       "      <th></th>\n",
       "      <th>DTC</th>\n",
       "      <th>SVC</th>\n",
       "    </tr>\n",
       "  </thead>\n",
       "  <tbody>\n",
       "    <tr>\n",
       "      <th>0</th>\n",
       "      <td>1</td>\n",
       "      <td>0</td>\n",
       "    </tr>\n",
       "    <tr>\n",
       "      <th>1</th>\n",
       "      <td>1</td>\n",
       "      <td>0</td>\n",
       "    </tr>\n",
       "    <tr>\n",
       "      <th>2</th>\n",
       "      <td>1</td>\n",
       "      <td>0</td>\n",
       "    </tr>\n",
       "    <tr>\n",
       "      <th>3</th>\n",
       "      <td>1</td>\n",
       "      <td>0</td>\n",
       "    </tr>\n",
       "    <tr>\n",
       "      <th>4</th>\n",
       "      <td>1</td>\n",
       "      <td>0</td>\n",
       "    </tr>\n",
       "    <tr>\n",
       "      <th>...</th>\n",
       "      <td>...</td>\n",
       "      <td>...</td>\n",
       "    </tr>\n",
       "    <tr>\n",
       "      <th>2957</th>\n",
       "      <td>1</td>\n",
       "      <td>0</td>\n",
       "    </tr>\n",
       "    <tr>\n",
       "      <th>2958</th>\n",
       "      <td>1</td>\n",
       "      <td>0</td>\n",
       "    </tr>\n",
       "    <tr>\n",
       "      <th>2959</th>\n",
       "      <td>1</td>\n",
       "      <td>0</td>\n",
       "    </tr>\n",
       "    <tr>\n",
       "      <th>2960</th>\n",
       "      <td>1</td>\n",
       "      <td>0</td>\n",
       "    </tr>\n",
       "    <tr>\n",
       "      <th>2961</th>\n",
       "      <td>1</td>\n",
       "      <td>0</td>\n",
       "    </tr>\n",
       "  </tbody>\n",
       "</table>\n",
       "<p>2962 rows × 2 columns</p>\n",
       "</div>"
      ],
      "text/plain": [
       "      DTC  SVC\n",
       "0       1    0\n",
       "1       1    0\n",
       "2       1    0\n",
       "3       1    0\n",
       "4       1    0\n",
       "...   ...  ...\n",
       "2957    1    0\n",
       "2958    1    0\n",
       "2959    1    0\n",
       "2960    1    0\n",
       "2961    1    0\n",
       "\n",
       "[2962 rows x 2 columns]"
      ]
     },
     "execution_count": 19,
     "metadata": {},
     "output_type": "execute_result"
    }
   ],
   "source": [
    "model4_test_X = {'DTC':model41_test_pred,'SVC':model43_test_pred}\n",
    "model4_test_X = pd.DataFrame(model4_test_X)\n",
    "for i in model4_test_X.columns:\n",
    "    model4_test_X[i]=label_encoder.fit_transform(model4_test_X[i])\n",
    "model4_test_X"
   ]
  },
  {
   "cell_type": "code",
   "execution_count": 22,
   "id": "34ab6746",
   "metadata": {},
   "outputs": [],
   "source": [
    "model1=LogisticRegression()\n",
    "model2=RandomForestClassifier(n_estimators=100,max_depth=5,n_jobs=-1,random_state=88,oob_score=True)\n",
    "model3=ada = AdaBoostClassifier(n_estimators=10,learning_rate=1.0,random_state =88)\n",
    "model4=LogisticRegression()"
   ]
  },
  {
   "cell_type": "code",
   "execution_count": 23,
   "id": "fd599b3b",
   "metadata": {},
   "outputs": [
    {
     "data": {
      "text/plain": [
       "LogisticRegression()"
      ]
     },
     "execution_count": 23,
     "metadata": {},
     "output_type": "execute_result"
    }
   ],
   "source": [
    "model1.fit(X_train,y_train)\n",
    "model2.fit(X_train,y_train)\n",
    "model3.fit(X_train,y_train)\n",
    "model4.fit(model4_train_X,y_train)"
   ]
  },
  {
   "cell_type": "code",
   "execution_count": 24,
   "id": "784f4af1",
   "metadata": {},
   "outputs": [
    {
     "name": "stdout",
     "output_type": "stream",
     "text": [
      "LogisticRegression 0.6934433347807208\n",
      "RandomForestClassifier 0.7003907946157186\n",
      "AdaBoostClassifier 0.6917064698219714\n",
      "Model stacking using Logistic Regression with DTC and SVC 0.772760167896946\n"
     ]
    }
   ],
   "source": [
    "print(model1.__class__.__name__,model1.score(X_train,y_train))\n",
    "print(model2.__class__.__name__,model2.score(X_train,y_train))\n",
    "print(model3.__class__.__name__,model3.score(X_train,y_train))\n",
    "print('Model stacking using Logistic Regression with DTC and SVC',model4.score(model4_train_X,y_train))"
   ]
  },
  {
   "cell_type": "code",
   "execution_count": 25,
   "id": "6a461a52",
   "metadata": {},
   "outputs": [],
   "source": [
    "y_pred1=model1.predict(X_test)\n",
    "y_pred2=model2.predict(X_test)\n",
    "y_pred3=model3.predict(X_test)\n",
    "y_pred4=model4.predict(model4_test_X)"
   ]
  },
  {
   "cell_type": "code",
   "execution_count": 26,
   "id": "001b1d4c",
   "metadata": {},
   "outputs": [
    {
     "name": "stdout",
     "output_type": "stream",
     "text": [
      "LogisticRegression 0.6924375422012155\n",
      "RandomForestClassifier 0.7002025658338961\n",
      "AdaBoostClassifier 0.6843349088453747\n",
      "Model stacking using Logistic Regression with DTC and SVC 0.6711681296421337\n"
     ]
    }
   ],
   "source": [
    "print(model1.__class__.__name__,model1.score(X_test,y_test))\n",
    "print(model2.__class__.__name__,model2.score(X_test,y_test))\n",
    "print(model3.__class__.__name__,model3.score(X_test,y_test))\n",
    "print('Model stacking using Logistic Regression with DTC and SVC',model4.score(model4_test_X,y_test))"
   ]
  },
  {
   "cell_type": "code",
   "execution_count": 29,
   "id": "82717855",
   "metadata": {},
   "outputs": [],
   "source": [
    "modelcomp={'Model_Name':[model1.__class__.__name__,model2.__class__.__name__,model3.__class__.__name__,'Stacking-Logistic(DTR,SVR)'],\n",
    "           'Training_Score':[model1.score(X_train,y_train),model2.score(X_train,y_train),model3.score(X_train,y_train),model4.score(model4_train_X,y_train)],\n",
    "          'Testing_Score':[model1.score(X_test,y_test),model2.score(X_test,y_test),model3.score(X_test,y_test),model4.score(model4_test_X,y_test)]}"
   ]
  },
  {
   "cell_type": "code",
   "execution_count": 30,
   "id": "d555b702",
   "metadata": {},
   "outputs": [
    {
     "data": {
      "text/html": [
       "<div>\n",
       "<style scoped>\n",
       "    .dataframe tbody tr th:only-of-type {\n",
       "        vertical-align: middle;\n",
       "    }\n",
       "\n",
       "    .dataframe tbody tr th {\n",
       "        vertical-align: top;\n",
       "    }\n",
       "\n",
       "    .dataframe thead th {\n",
       "        text-align: right;\n",
       "    }\n",
       "</style>\n",
       "<table border=\"1\" class=\"dataframe\">\n",
       "  <thead>\n",
       "    <tr style=\"text-align: right;\">\n",
       "      <th></th>\n",
       "      <th>Model_Name</th>\n",
       "      <th>Training_Score</th>\n",
       "      <th>Testing_Score</th>\n",
       "    </tr>\n",
       "  </thead>\n",
       "  <tbody>\n",
       "    <tr>\n",
       "      <th>0</th>\n",
       "      <td>LogisticRegression</td>\n",
       "      <td>0.693443</td>\n",
       "      <td>0.692438</td>\n",
       "    </tr>\n",
       "    <tr>\n",
       "      <th>1</th>\n",
       "      <td>RandomForestClassifier</td>\n",
       "      <td>0.700391</td>\n",
       "      <td>0.700203</td>\n",
       "    </tr>\n",
       "    <tr>\n",
       "      <th>2</th>\n",
       "      <td>AdaBoostClassifier</td>\n",
       "      <td>0.691706</td>\n",
       "      <td>0.684335</td>\n",
       "    </tr>\n",
       "    <tr>\n",
       "      <th>3</th>\n",
       "      <td>Stacking-Logistic(DTR,SVR)</td>\n",
       "      <td>0.772760</td>\n",
       "      <td>0.671168</td>\n",
       "    </tr>\n",
       "  </tbody>\n",
       "</table>\n",
       "</div>"
      ],
      "text/plain": [
       "                   Model_Name  Training_Score  Testing_Score\n",
       "0          LogisticRegression        0.693443       0.692438\n",
       "1      RandomForestClassifier        0.700391       0.700203\n",
       "2          AdaBoostClassifier        0.691706       0.684335\n",
       "3  Stacking-Logistic(DTR,SVR)        0.772760       0.671168"
      ]
     },
     "execution_count": 30,
     "metadata": {},
     "output_type": "execute_result"
    }
   ],
   "source": [
    "modelcompdf=pd.DataFrame(modelcomp)\n",
    "modelcompdf"
   ]
  },
  {
   "cell_type": "code",
   "execution_count": null,
   "id": "35dfa86c",
   "metadata": {},
   "outputs": [],
   "source": []
  },
  {
   "cell_type": "code",
   "execution_count": null,
   "id": "6728c047",
   "metadata": {},
   "outputs": [],
   "source": []
  },
  {
   "cell_type": "code",
   "execution_count": null,
   "id": "7058c66f",
   "metadata": {},
   "outputs": [],
   "source": []
  },
  {
   "cell_type": "code",
   "execution_count": null,
   "id": "cb2da98a",
   "metadata": {},
   "outputs": [],
   "source": []
  },
  {
   "cell_type": "code",
   "execution_count": null,
   "id": "f31876b4",
   "metadata": {},
   "outputs": [],
   "source": []
  },
  {
   "cell_type": "code",
   "execution_count": null,
   "id": "0066f7da",
   "metadata": {},
   "outputs": [],
   "source": []
  },
  {
   "cell_type": "code",
   "execution_count": null,
   "id": "73fa7388",
   "metadata": {},
   "outputs": [],
   "source": []
  },
  {
   "cell_type": "code",
   "execution_count": null,
   "id": "e264ba00",
   "metadata": {},
   "outputs": [],
   "source": []
  },
  {
   "cell_type": "code",
   "execution_count": null,
   "id": "d71fee54",
   "metadata": {},
   "outputs": [],
   "source": []
  }
 ],
 "metadata": {
  "kernelspec": {
   "display_name": "Python 3 (ipykernel)",
   "language": "python",
   "name": "python3"
  },
  "language_info": {
   "codemirror_mode": {
    "name": "ipython",
    "version": 3
   },
   "file_extension": ".py",
   "mimetype": "text/x-python",
   "name": "python",
   "nbconvert_exporter": "python",
   "pygments_lexer": "ipython3",
   "version": "3.9.12"
  }
 },
 "nbformat": 4,
 "nbformat_minor": 5
}
