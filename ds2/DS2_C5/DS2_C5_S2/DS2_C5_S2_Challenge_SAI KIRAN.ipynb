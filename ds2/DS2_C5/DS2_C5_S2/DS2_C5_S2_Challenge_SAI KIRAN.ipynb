{
 "cells": [
  {
   "cell_type": "code",
   "execution_count": 1,
   "id": "3b08d9d3",
   "metadata": {},
   "outputs": [],
   "source": [
    "import numpy as np\n",
    "import pandas as pd\n",
    "import seaborn as sns\n",
    "import matplotlib as mpl\n",
    "import matplotlib.pyplot as plt\n",
    "from sklearn import preprocessing\n",
    "from sklearn.linear_model import LinearRegression\n",
    "from sklearn.preprocessing import MinMaxScaler , StandardScaler\n",
    "from sklearn.model_selection import train_test_split\n",
    "from sklearn.datasets import make_regression\n",
    "import scipy.stats\n",
    "from sklearn.metrics import mean_absolute_error, mean_squared_error,r2_score"
   ]
  },
  {
   "cell_type": "markdown",
   "id": "5bcbfd2b",
   "metadata": {},
   "source": [
    "### Task 1"
   ]
  },
  {
   "cell_type": "code",
   "execution_count": 2,
   "id": "43358490",
   "metadata": {},
   "outputs": [],
   "source": [
    "X1, y1=make_regression(n_samples=100,n_features=1,noise=4,bias=100, random_state= 8888)"
   ]
  },
  {
   "cell_type": "code",
   "execution_count": 3,
   "id": "784fee20",
   "metadata": {},
   "outputs": [
    {
     "data": {
      "text/plain": [
       "<matplotlib.collections.PathCollection at 0x26775f03c70>"
      ]
     },
     "execution_count": 3,
     "metadata": {},
     "output_type": "execute_result"
    },
    {
     "data": {
      "image/png": "[encoded data removed]",
      "text/plain": [
       "<Figure size 432x288 with 1 Axes>"
      ]
     },
     "metadata": {
      "needs_background": "light"
     },
     "output_type": "display_data"
    }
   ],
   "source": [
    "plt.scatter(X1,y1)"
   ]
  },
  {
   "cell_type": "code",
   "execution_count": 4,
   "id": "cb3a3b60",
   "metadata": {},
   "outputs": [
    {
     "data": {
      "text/plain": [
       "array([[-0.34848994],\n",
       "       [-1.10596946],\n",
       "       [-1.59140502],\n",
       "       [-0.15960679],\n",
       "       [ 1.05725741]])"
      ]
     },
     "execution_count": 4,
     "metadata": {},
     "output_type": "execute_result"
    }
   ],
   "source": [
    "X1[0:5]"
   ]
  },
  {
   "cell_type": "code",
   "execution_count": 5,
   "id": "934b30df",
   "metadata": {},
   "outputs": [
    {
     "data": {
      "text/plain": [
       "array([ 79.66573528,  23.4996851 ,  -1.05547403,  90.20460207,\n",
       "       171.56820273])"
      ]
     },
     "execution_count": 5,
     "metadata": {},
     "output_type": "execute_result"
    }
   ],
   "source": [
    "y1[0:5]"
   ]
  },
  {
   "cell_type": "code",
   "execution_count": 6,
   "id": "3569cd1f",
   "metadata": {},
   "outputs": [],
   "source": [
    "X_train1, X_test1, y_train1, y_test1= train_test_split(X1, y1, test_size= 0.3, random_state = 88)"
   ]
  },
  {
   "cell_type": "code",
   "execution_count": 7,
   "id": "46562233",
   "metadata": {},
   "outputs": [],
   "source": [
    "model1=LinearRegression()"
   ]
  },
  {
   "cell_type": "code",
   "execution_count": 8,
   "id": "03492f3a",
   "metadata": {},
   "outputs": [
    {
     "data": {
      "text/plain": [
       "LinearRegression()"
      ]
     },
     "execution_count": 8,
     "metadata": {},
     "output_type": "execute_result"
    }
   ],
   "source": [
    "model1.fit(X_train1,y_train1)"
   ]
  },
  {
   "cell_type": "code",
   "execution_count": 9,
   "id": "7ad82cf4",
   "metadata": {},
   "outputs": [],
   "source": [
    "test_prediction1=model1.predict(X_test1)"
   ]
  },
  {
   "cell_type": "code",
   "execution_count": 10,
   "id": "6cbdf761",
   "metadata": {},
   "outputs": [
    {
     "data": {
      "text/plain": [
       "array([265.41624007,  84.37554305, 160.6325682 , 139.63474643,\n",
       "        -4.99548176, 143.7026761 ,  44.9648098 , 194.09050802,\n",
       "        41.65013918,  31.86341806,  66.98717839,  60.29331513,\n",
       "       112.61346525,  15.00393133, 120.92845796,  97.19766194,\n",
       "        95.64952811,  49.10276336, -40.57221027, 115.30992588,\n",
       "        39.84754065, 107.27235524, 100.83184963,  72.7132443 ,\n",
       "       210.67493816,  70.25145568,  27.36992333, 153.16192541,\n",
       "       211.1936954 ,  74.93932191])"
      ]
     },
     "execution_count": 10,
     "metadata": {},
     "output_type": "execute_result"
    }
   ],
   "source": [
    "test_prediction1"
   ]
  },
  {
   "cell_type": "code",
   "execution_count": 11,
   "id": "04d598bb",
   "metadata": {},
   "outputs": [],
   "source": [
    "MAE1 = mean_absolute_error (y_test1, test_prediction1)\n",
    "MSE1 = mean_squared_error (y_test1, test_prediction1)\n",
    "RMSE1 = np.sqrt(MSE1)"
   ]
  },
  {
   "cell_type": "code",
   "execution_count": 12,
   "id": "d0a7eff7",
   "metadata": {},
   "outputs": [
    {
     "name": "stdout",
     "output_type": "stream",
     "text": [
      "MAE1 = 3.504260308993679\n",
      "MSE1 = 20.045492975357355\n",
      "RMSE1 = 4.477219335185328\n"
     ]
    }
   ],
   "source": [
    "print('MAE1 =',MAE1)\n",
    "print('MSE1 =',MSE1)\n",
    "print('RMSE1 =',RMSE1)"
   ]
  },
  {
   "cell_type": "code",
   "execution_count": 13,
   "id": "364033a4",
   "metadata": {},
   "outputs": [],
   "source": [
    "final_model1= LinearRegression()"
   ]
  },
  {
   "cell_type": "code",
   "execution_count": 14,
   "id": "a528211d",
   "metadata": {},
   "outputs": [
    {
     "data": {
      "text/plain": [
       "LinearRegression()"
      ]
     },
     "execution_count": 14,
     "metadata": {},
     "output_type": "execute_result"
    }
   ],
   "source": [
    "final_model1.fit(X1,y1)"
   ]
  },
  {
   "cell_type": "code",
   "execution_count": 15,
   "id": "45683a3c",
   "metadata": {},
   "outputs": [
    {
     "data": {
      "text/plain": [
       "array([65.68508654])"
      ]
     },
     "execution_count": 15,
     "metadata": {},
     "output_type": "execute_result"
    }
   ],
   "source": [
    "c1=final_model1.coef_\n",
    "c1"
   ]
  },
  {
   "cell_type": "code",
   "execution_count": 16,
   "id": "e57e9b40",
   "metadata": {},
   "outputs": [
    {
     "data": {
      "text/plain": [
       "100.16152563437639"
      ]
     },
     "execution_count": 16,
     "metadata": {},
     "output_type": "execute_result"
    }
   ],
   "source": [
    "i1=final_model1.intercept_\n",
    "i1"
   ]
  },
  {
   "cell_type": "code",
   "execution_count": 17,
   "id": "48973288",
   "metadata": {},
   "outputs": [],
   "source": [
    "y1_hat=final_model1.predict(X1)"
   ]
  },
  {
   "cell_type": "code",
   "execution_count": 18,
   "id": "cae3c914",
   "metadata": {},
   "outputs": [
    {
     "data": {
      "text/plain": [
       "0.9962412667571444"
      ]
     },
     "execution_count": 18,
     "metadata": {},
     "output_type": "execute_result"
    }
   ],
   "source": [
    "r2_score(y1, y1_hat)"
   ]
  },
  {
   "cell_type": "code",
   "execution_count": 19,
   "id": "394faed2",
   "metadata": {},
   "outputs": [
    {
     "data": {
      "text/plain": [
       "[<matplotlib.lines.Line2D at 0x267766eb640>]"
      ]
     },
     "execution_count": 19,
     "metadata": {},
     "output_type": "execute_result"
    },
    {
     "data": {
      "image/png": "[encoded data removed]",
      "text/plain": [
       "<Figure size 432x288 with 1 Axes>"
      ]
     },
     "metadata": {
      "needs_background": "light"
     },
     "output_type": "display_data"
    }
   ],
   "source": [
    "plt.scatter(x=X1,y=y1)\n",
    "plt.plot(X1,y1_hat)"
   ]
  },
  {
   "cell_type": "code",
   "execution_count": 20,
   "id": "b4c64540",
   "metadata": {},
   "outputs": [],
   "source": [
    "X2=X1.copy()\n",
    "y2=y1.copy()"
   ]
  },
  {
   "cell_type": "code",
   "execution_count": null,
   "id": "c55487cf",
   "metadata": {},
   "outputs": [],
   "source": []
  },
  {
   "cell_type": "markdown",
   "id": "43302f0d",
   "metadata": {},
   "source": [
    "### Task 2"
   ]
  },
  {
   "cell_type": "code",
   "execution_count": 21,
   "id": "abb58785",
   "metadata": {},
   "outputs": [],
   "source": [
    "q1x=np.percentile(X1,25)\n",
    "q3x=np.percentile(X1,75)\n",
    "iqrx=q3x-q1x"
   ]
  },
  {
   "cell_type": "code",
   "execution_count": 22,
   "id": "62d40735",
   "metadata": {},
   "outputs": [],
   "source": [
    "q1y=np.percentile(y1,25)\n",
    "q3y=np.percentile(y1,75)\n",
    "iqry=q3y-q1y"
   ]
  },
  {
   "cell_type": "code",
   "execution_count": 23,
   "id": "f4530743",
   "metadata": {},
   "outputs": [],
   "source": [
    "X2=np.append(X2,[np.random.randint(q1x-2*iqrx,q1x-1.5*iqrx,10)])"
   ]
  },
  {
   "cell_type": "code",
   "execution_count": 24,
   "id": "7461bc0c",
   "metadata": {},
   "outputs": [],
   "source": [
    "X2=np.append(X2,[np.random.randint(q1x+1.5*iqrx,q1x+3*iqrx,10)])"
   ]
  },
  {
   "cell_type": "code",
   "execution_count": 25,
   "id": "39b0cc44",
   "metadata": {},
   "outputs": [],
   "source": [
    "y2=np.append(y2,[np.random.randint(q1y-2*iqry,q1y-1.5*iqry,10)])"
   ]
  },
  {
   "cell_type": "code",
   "execution_count": 26,
   "id": "af1eb440",
   "metadata": {},
   "outputs": [],
   "source": [
    "y2=np.append(y2,[np.random.randint(q1y+1.5*iqry,q1y+2*iqry,10)])"
   ]
  },
  {
   "cell_type": "code",
   "execution_count": 27,
   "id": "437b73dc",
   "metadata": {
    "scrolled": true
   },
   "outputs": [
    {
     "data": {
      "text/plain": [
       "array([[-0.34848994],\n",
       "       [-1.10596946],\n",
       "       [-1.59140502],\n",
       "       [-0.15960679],\n",
       "       [ 1.05725741],\n",
       "       [-0.97809644],\n",
       "       [-1.27258779],\n",
       "       [ 0.80107907],\n",
       "       [ 1.66175852],\n",
       "       [-0.91499476],\n",
       "       [-1.07915741],\n",
       "       [ 0.06322944],\n",
       "       [-0.04992794],\n",
       "       [-1.22784423],\n",
       "       [ 0.51851718],\n",
       "       [-0.84632509],\n",
       "       [ 0.37716658],\n",
       "       [ 1.03925132],\n",
       "       [-0.41924987],\n",
       "       [ 0.79423465],\n",
       "       [-1.37971966],\n",
       "       [-0.38490027],\n",
       "       [-1.16409023],\n",
       "       [-1.04949578],\n",
       "       [-0.60240009],\n",
       "       [ 1.04309314],\n",
       "       [ 0.10203831],\n",
       "       [-3.49360907],\n",
       "       [ 0.41254088],\n",
       "       [ 0.11681229],\n",
       "       [ 1.34095509],\n",
       "       [ 1.41159967],\n",
       "       [ 1.35943289],\n",
       "       [-1.10320662],\n",
       "       [-1.11286705],\n",
       "       [ 1.21282837],\n",
       "       [ 0.33986362],\n",
       "       [ 1.46210393],\n",
       "       [ 0.78775195],\n",
       "       [ 0.12596038],\n",
       "       [ 0.82943226],\n",
       "       [ 0.13748718],\n",
       "       [-0.41122049],\n",
       "       [ 0.90692151],\n",
       "       [ 0.00488999],\n",
       "       [ 0.30802638],\n",
       "       [-0.87469762],\n",
       "       [-0.66725197],\n",
       "       [ 0.75667985],\n",
       "       [-1.08462644],\n",
       "       [ 0.22327668],\n",
       "       [ 1.1628231 ],\n",
       "       [ 0.76130576],\n",
       "       [-0.24333625],\n",
       "       [-0.88780444],\n",
       "       [-0.83780609],\n",
       "       [ 1.66958343],\n",
       "       [ 0.51603518],\n",
       "       [ 1.54295287],\n",
       "       [-0.50562161],\n",
       "       [ 0.09452377],\n",
       "       [-0.77538937],\n",
       "       [-0.75373511],\n",
       "       [-1.70760095],\n",
       "       [ 1.2034718 ],\n",
       "       [-0.38567181],\n",
       "       [ 0.10855091],\n",
       "       [ 0.19128113],\n",
       "       [-0.32768281],\n",
       "       [ 0.19589235],\n",
       "       [ 0.24889816],\n",
       "       [-0.48289251],\n",
       "       [-1.28973472],\n",
       "       [-1.97322161],\n",
       "       [ 0.65155173],\n",
       "       [ 0.01169596],\n",
       "       [ 0.17345768],\n",
       "       [ 0.27408736],\n",
       "       [-0.27925914],\n",
       "       [-0.32086882],\n",
       "       [ 1.32902749],\n",
       "       [ 0.03842316],\n",
       "       [-0.71718332],\n",
       "       [ 0.09308897],\n",
       "       [ 0.59019125],\n",
       "       [-0.07327993],\n",
       "       [-0.60659156],\n",
       "       [-0.70028336],\n",
       "       [ 0.14797665],\n",
       "       [-0.13120265],\n",
       "       [ 0.13559235],\n",
       "       [ 0.56414535],\n",
       "       [ 0.18260338],\n",
       "       [-2.1280429 ],\n",
       "       [-1.03887014],\n",
       "       [ 2.48747401],\n",
       "       [ 0.54142082],\n",
       "       [-1.03542693],\n",
       "       [ 2.57193808],\n",
       "       [-0.45638339],\n",
       "       [-3.        ],\n",
       "       [-3.        ],\n",
       "       [-3.        ],\n",
       "       [-3.        ],\n",
       "       [-3.        ],\n",
       "       [-3.        ],\n",
       "       [-3.        ],\n",
       "       [-3.        ],\n",
       "       [-3.        ],\n",
       "       [-3.        ],\n",
       "       [ 1.        ],\n",
       "       [ 2.        ],\n",
       "       [ 2.        ],\n",
       "       [ 1.        ],\n",
       "       [ 2.        ],\n",
       "       [ 2.        ],\n",
       "       [ 2.        ],\n",
       "       [ 2.        ],\n",
       "       [ 2.        ],\n",
       "       [ 1.        ]])"
      ]
     },
     "execution_count": 27,
     "metadata": {},
     "output_type": "execute_result"
    }
   ],
   "source": [
    "X2.reshape(-1,1)"
   ]
  },
  {
   "cell_type": "code",
   "execution_count": 28,
   "id": "e847bf87",
   "metadata": {
    "scrolled": true
   },
   "outputs": [
    {
     "data": {
      "text/plain": [
       "array([  79.66573528,   23.4996851 ,   -1.05547403,   90.20460207,\n",
       "        171.56820273,   34.05384468,   17.86277976,  154.32297745,\n",
       "        208.64385872,   38.1809151 ,   25.03139588,  104.39455844,\n",
       "         91.50769454,   22.07401446,  142.45504752,   38.6438803 ,\n",
       "        125.9095782 ,  166.56416932,   72.12255852,  145.06055448,\n",
       "         14.92929178,   74.58187378,   18.22967358,   30.22118959,\n",
       "         61.18841078,  170.70858994,  113.90769765, -133.55048729,\n",
       "        122.01112054,  114.53292606,  187.74158906,  190.30899447,\n",
       "        187.07250252,   28.57441203,   28.97019437,  184.61099215,\n",
       "        115.0960205 ,  193.90865043,  156.04984217,  106.28207054,\n",
       "        155.88969736,  116.18163963,   64.87105419,  151.85212644,\n",
       "         94.84612372,  118.96364449,   43.58522833,   54.28885259,\n",
       "        156.17645722,   33.21161077,  112.61879688,  174.62928412,\n",
       "        145.85427441,   81.80273127,   37.773905  ,   38.26382118,\n",
       "        211.59869539,  135.50972929,  196.39659113,   69.71257322,\n",
       "        100.46970451,   44.93470577,   49.70109785,  -17.27515625,\n",
       "        179.74829083,   74.18621048,  105.86796669,  108.99241804,\n",
       "         80.19023384,  112.47167743,  118.97636844,   72.78883206,\n",
       "         19.37077242,  -30.40837648,  143.77073906,  104.88065   ,\n",
       "        112.43037577,  116.92554202,   78.64281193,   80.6766137 ,\n",
       "        192.91928491,  104.64542403,   61.75828067,  103.15911563,\n",
       "        139.5458942 ,   91.63753184,   61.07097775,   62.0052372 ,\n",
       "        107.37639738,   92.58438714,  110.53731778,  142.17305777,\n",
       "        113.70919439,  -29.00215549,   31.23633989,  261.0570886 ,\n",
       "        142.93315783,   31.11893061,  271.92276129,   74.03163689,\n",
       "       -133.        , -115.        , -113.        , -107.        ,\n",
       "       -122.        , -120.        , -112.        ,  -99.        ,\n",
       "       -103.        , -113.        ,  212.        ,  207.        ,\n",
       "        192.        ,  189.        ,  223.        ,  234.        ,\n",
       "        205.        ,  209.        ,  198.        ,  223.        ])"
      ]
     },
     "execution_count": 28,
     "metadata": {},
     "output_type": "execute_result"
    }
   ],
   "source": [
    "y2.flatten()"
   ]
  },
  {
   "cell_type": "code",
   "execution_count": 29,
   "id": "7e311d4b",
   "metadata": {},
   "outputs": [
    {
     "data": {
      "text/plain": [
       "<matplotlib.collections.PathCollection at 0x26776765490>"
      ]
     },
     "execution_count": 29,
     "metadata": {},
     "output_type": "execute_result"
    },
    {
     "data": {
      "image/png": "[encoded data removed]",
      "text/plain": [
       "<Figure size 432x288 with 1 Axes>"
      ]
     },
     "metadata": {
      "needs_background": "light"
     },
     "output_type": "display_data"
    }
   ],
   "source": [
    "plt.scatter(X2,y2)"
   ]
  },
  {
   "cell_type": "code",
   "execution_count": 30,
   "id": "acbe9d35",
   "metadata": {},
   "outputs": [],
   "source": [
    "X_train2, X_test2, y_train2, y_test2= train_test_split(X2, y2, test_size= 0.3, random_state = 88)"
   ]
  },
  {
   "cell_type": "code",
   "execution_count": 31,
   "id": "a1720e36",
   "metadata": {},
   "outputs": [],
   "source": [
    "model2=LinearRegression()"
   ]
  },
  {
   "cell_type": "code",
   "execution_count": 32,
   "id": "b5170001",
   "metadata": {
    "scrolled": false
   },
   "outputs": [
    {
     "data": {
      "text/plain": [
       "LinearRegression()"
      ]
     },
     "execution_count": 32,
     "metadata": {},
     "output_type": "execute_result"
    }
   ],
   "source": [
    "model2.fit(X_train2.reshape(-1,1),y_train2.reshape(-1,1))"
   ]
  },
  {
   "cell_type": "code",
   "execution_count": 33,
   "id": "04a546cc",
   "metadata": {},
   "outputs": [],
   "source": [
    "test_prediction2=model2.predict(X_test2.reshape(-1,1))"
   ]
  },
  {
   "cell_type": "code",
   "execution_count": 34,
   "id": "2199215d",
   "metadata": {
    "scrolled": true
   },
   "outputs": [
    {
     "data": {
      "text/plain": [
       "array([[ 199.99414403],\n",
       "       [  12.19169404],\n",
       "       [ 104.8956929 ],\n",
       "       [  70.43571818],\n",
       "       [  81.56616287],\n",
       "       [  57.76083062],\n",
       "       [ 230.29560447],\n",
       "       [  42.15380646],\n",
       "       [ 103.965717  ],\n",
       "       [ 133.59424424],\n",
       "       [ 163.99727675],\n",
       "       [ 109.19890342],\n",
       "       [ 163.99727675],\n",
       "       [  92.84061226],\n",
       "       [ 185.81124937],\n",
       "       [  67.44149379],\n",
       "       [  51.2713334 ],\n",
       "       [  94.38880985],\n",
       "       [ 191.28564653],\n",
       "       [ 103.87059203],\n",
       "       [ -33.12234406],\n",
       "       [-101.19603411],\n",
       "       [ 177.48711671],\n",
       "       [ 230.29560447],\n",
       "       [ 268.21414276],\n",
       "       [  -7.80854275],\n",
       "       [ 120.23133851],\n",
       "       [  24.55819533],\n",
       "       [ 163.99727675],\n",
       "       [ 230.29560447],\n",
       "       [-101.19603411],\n",
       "       [ 207.87075972],\n",
       "       [ 100.24634052],\n",
       "       [ 157.82632872],\n",
       "       [ 262.61431618],\n",
       "       [  98.02314722]])"
      ]
     },
     "execution_count": 34,
     "metadata": {},
     "output_type": "execute_result"
    }
   ],
   "source": [
    "test_prediction2"
   ]
  },
  {
   "cell_type": "code",
   "execution_count": 70,
   "id": "b72e79d7",
   "metadata": {},
   "outputs": [],
   "source": [
    "MAE2 = mean_absolute_error (y_test2, test_prediction2)\n",
    "MSE2 = mean_squared_error (y_test2, test_prediction2)\n",
    "RMSE2 = np.sqrt(MSE2)"
   ]
  },
  {
   "cell_type": "code",
   "execution_count": 71,
   "id": "76af59ac",
   "metadata": {},
   "outputs": [
    {
     "name": "stdout",
     "output_type": "stream",
     "text": [
      "MAE2 = 8.514422597576097\n",
      "MSE2 = 223.89381590468037\n",
      "RMSE2 = 14.96308176495338\n"
     ]
    }
   ],
   "source": [
    "print('MAE2 =',MAE2)\n",
    "print('MSE2 =',MSE2)\n",
    "print('RMSE2 =',RMSE2)"
   ]
  },
  {
   "cell_type": "code",
   "execution_count": 35,
   "id": "b96c55a0",
   "metadata": {},
   "outputs": [],
   "source": [
    "final_model2=LinearRegression()"
   ]
  },
  {
   "cell_type": "code",
   "execution_count": 36,
   "id": "43782ac1",
   "metadata": {},
   "outputs": [
    {
     "data": {
      "text/plain": [
       "LinearRegression()"
      ]
     },
     "execution_count": 36,
     "metadata": {},
     "output_type": "execute_result"
    }
   ],
   "source": [
    "final_model2.fit(X1.reshape(-1,1),y1.reshape(-1,1))"
   ]
  },
  {
   "cell_type": "code",
   "execution_count": 37,
   "id": "79544817",
   "metadata": {},
   "outputs": [
    {
     "data": {
      "text/plain": [
       "array([[65.68508654]])"
      ]
     },
     "execution_count": 37,
     "metadata": {},
     "output_type": "execute_result"
    }
   ],
   "source": [
    "c2=final_model2.coef_\n",
    "c2"
   ]
  },
  {
   "cell_type": "code",
   "execution_count": 38,
   "id": "22a0b79a",
   "metadata": {},
   "outputs": [
    {
     "data": {
      "text/plain": [
       "array([100.16152563])"
      ]
     },
     "execution_count": 38,
     "metadata": {},
     "output_type": "execute_result"
    }
   ],
   "source": [
    "i2=final_model2.intercept_\n",
    "i2"
   ]
  },
  {
   "cell_type": "code",
   "execution_count": 39,
   "id": "0d34284e",
   "metadata": {},
   "outputs": [],
   "source": [
    "y2_hat=final_model2.predict(X2.reshape(-1,1))"
   ]
  },
  {
   "cell_type": "code",
   "execution_count": 40,
   "id": "bcd78ea1",
   "metadata": {},
   "outputs": [
    {
     "data": {
      "text/plain": [
       "0.9840628553005489"
      ]
     },
     "execution_count": 40,
     "metadata": {},
     "output_type": "execute_result"
    }
   ],
   "source": [
    "r2_score(y2,y2_hat)"
   ]
  },
  {
   "cell_type": "code",
   "execution_count": 41,
   "id": "732a7ae2",
   "metadata": {},
   "outputs": [
    {
     "data": {
      "text/plain": [
       "[<matplotlib.lines.Line2D at 0x267767d8e80>]"
      ]
     },
     "execution_count": 41,
     "metadata": {},
     "output_type": "execute_result"
    },
    {
     "data": {
      "image/png": "[encoded data removed]",
      "text/plain": [
       "<Figure size 432x288 with 1 Axes>"
      ]
     },
     "metadata": {
      "needs_background": "light"
     },
     "output_type": "display_data"
    }
   ],
   "source": [
    "plt.scatter(x=X2,y=y2)\n",
    "plt.plot(X2,y2_hat)"
   ]
  },
  {
   "cell_type": "markdown",
   "id": "0ef8fd27",
   "metadata": {},
   "source": [
    "### Task 3"
   ]
  },
  {
   "cell_type": "code",
   "execution_count": 42,
   "id": "32438459",
   "metadata": {},
   "outputs": [],
   "source": [
    "df=pd.read_csv('DS2_C5_S2_Communities_Data_Challenge.data',header=None)\n",
    "d=df.iloc[:,5:]\n",
    "d=d.replace('?',np.nan)\n",
    "d=d.dropna()"
   ]
  },
  {
   "cell_type": "code",
   "execution_count": 55,
   "id": "7f30ac68",
   "metadata": {},
   "outputs": [],
   "source": [
    "X3=np.array(d.iloc[:,1:])\n",
    "y3=np.array(d.iloc[:,1])"
   ]
  },
  {
   "cell_type": "code",
   "execution_count": 56,
   "id": "77e6f129",
   "metadata": {},
   "outputs": [],
   "source": [
    "X_train3, X_test3, y_train3, y_test3= train_test_split(X3, y3, test_size= 0.3, random_state = 88)"
   ]
  },
  {
   "cell_type": "code",
   "execution_count": 57,
   "id": "bf1ea99d",
   "metadata": {},
   "outputs": [],
   "source": [
    "model3=LinearRegression()"
   ]
  },
  {
   "cell_type": "code",
   "execution_count": 59,
   "id": "ea87a151",
   "metadata": {},
   "outputs": [
    {
     "data": {
      "text/plain": [
       "LinearRegression()"
      ]
     },
     "execution_count": 59,
     "metadata": {},
     "output_type": "execute_result"
    }
   ],
   "source": [
    "model3.fit(X_train3,y_train3)"
   ]
  },
  {
   "cell_type": "code",
   "execution_count": 61,
   "id": "4acd9dd0",
   "metadata": {},
   "outputs": [],
   "source": [
    "test_prediction3=model3.predict(X_test3)"
   ]
  },
  {
   "cell_type": "code",
   "execution_count": 62,
   "id": "17a93c39",
   "metadata": {},
   "outputs": [
    {
     "data": {
      "text/plain": [
       "array([0.45, 0.49, 0.35, 0.32, 0.28, 0.36, 0.31, 0.45, 0.36, 0.34, 0.41,\n",
       "       0.3 , 0.28, 0.35, 0.37, 0.35, 0.4 , 0.57, 0.34, 0.35, 0.32, 0.36,\n",
       "       0.23, 0.34, 0.31, 0.44, 0.43, 0.52, 0.39, 0.29, 0.43, 0.34, 0.33,\n",
       "       0.42, 0.41, 0.58, 0.09, 0.28, 0.23, 0.35, 0.51, 0.51, 0.54, 0.52,\n",
       "       0.34, 0.56, 0.46, 0.4 , 0.61, 0.56, 0.62, 0.4 , 0.39, 0.62, 0.43,\n",
       "       0.39, 0.39, 0.4 , 0.55, 0.68, 0.43, 0.4 , 0.36, 0.36, 0.35, 0.21,\n",
       "       0.38, 0.33, 0.29, 0.44, 0.29, 0.33, 0.32, 0.39, 0.55, 0.44, 0.33,\n",
       "       0.15, 0.57, 0.36, 0.43, 0.48, 0.32, 0.36, 0.4 , 0.49, 0.67, 0.43,\n",
       "       0.15, 0.35, 0.24, 0.29, 0.21, 0.25, 0.45, 0.35])"
      ]
     },
     "execution_count": 62,
     "metadata": {},
     "output_type": "execute_result"
    }
   ],
   "source": [
    "test_prediction3"
   ]
  },
  {
   "cell_type": "code",
   "execution_count": 72,
   "id": "c8e3e9ac",
   "metadata": {},
   "outputs": [],
   "source": [
    "MAE3 = mean_absolute_error (y_test3, test_prediction3)\n",
    "MSE3 = mean_squared_error (y_test3, test_prediction3)\n",
    "RMSE3 = np.sqrt(MSE3)"
   ]
  },
  {
   "cell_type": "code",
   "execution_count": 73,
   "id": "30046457",
   "metadata": {},
   "outputs": [
    {
     "name": "stdout",
     "output_type": "stream",
     "text": [
      "MAE3 = 3.4231876592608995e-16\n",
      "MSE3 = 2.0334610329488564e-31\n",
      "RMSE3 = 4.509391348007907e-16\n"
     ]
    }
   ],
   "source": [
    "print('MAE3 =',MAE3)\n",
    "print('MSE3 =',MSE3)\n",
    "print('RMSE3 =',RMSE3)"
   ]
  },
  {
   "cell_type": "code",
   "execution_count": 64,
   "id": "50804e5b",
   "metadata": {},
   "outputs": [],
   "source": [
    "final_model3=LinearRegression()"
   ]
  },
  {
   "cell_type": "code",
   "execution_count": 65,
   "id": "e2757f17",
   "metadata": {},
   "outputs": [
    {
     "data": {
      "text/plain": [
       "LinearRegression()"
      ]
     },
     "execution_count": 65,
     "metadata": {},
     "output_type": "execute_result"
    }
   ],
   "source": [
    "final_model3.fit(X3,y3)"
   ]
  },
  {
   "cell_type": "code",
   "execution_count": 66,
   "id": "ba581e09",
   "metadata": {},
   "outputs": [
    {
     "data": {
      "text/plain": [
       "array([ 1.00000000e+00, -1.07366427e-16, -5.26358446e-16,  8.82538127e-17,\n",
       "       -3.76896598e-16, -7.21109062e-17, -4.66025832e-17,  6.82122440e-16,\n",
       "       -9.04208252e-16,  2.14067052e-16,  3.04783225e-16, -6.51646297e-16,\n",
       "       -4.39502839e-16,  3.69403103e-16, -2.14630712e-16,  8.85517130e-16,\n",
       "       -1.51558042e-16, -3.90961287e-16,  6.30903183e-16,  4.70572093e-16,\n",
       "        3.57945192e-16, -5.13636257e-16,  4.24703191e-16, -1.68979961e-16,\n",
       "       -8.84553169e-18,  2.07547549e-16,  5.50626377e-16, -8.76956642e-17,\n",
       "       -1.06375316e-15,  1.02382368e-15, -1.48001464e-16,  5.05637290e-16,\n",
       "       -6.42051121e-16,  4.27631858e-16, -7.89815891e-17, -5.89036869e-16,\n",
       "       -4.65977176e-16,  3.02464494e-16, -2.17020908e-16,  2.43404346e-15,\n",
       "       -3.09059274e-15,  6.29272951e-16,  1.79197879e-15, -8.45100932e-16,\n",
       "       -3.91477545e-16,  4.77770139e-16,  1.47842912e-16,  3.87642965e-16,\n",
       "       -8.13444199e-17, -5.66674211e-17,  1.09948794e-16,  7.92552238e-16,\n",
       "       -6.30477599e-16,  2.62694532e-16, -8.74480093e-16,  3.44811600e-16,\n",
       "       -1.48299187e-15, -6.47168030e-16,  1.98961590e-15,  3.13451038e-16,\n",
       "        7.20992683e-16,  5.77474389e-17, -2.34809366e-18,  1.33725768e-15,\n",
       "       -9.05026036e-16,  5.42376671e-17,  2.33773034e-16, -5.12738485e-16,\n",
       "        2.91016222e-16,  2.84888491e-16, -1.04038406e-15, -5.58022222e-16,\n",
       "       -1.05138702e-15, -1.32142404e-16,  1.42075634e-16, -2.36711803e-16,\n",
       "        3.22881113e-16, -9.22299796e-17,  3.14761777e-15, -3.72115405e-15,\n",
       "        6.73977951e-16,  1.10732088e-15,  6.26884068e-17,  8.02696381e-16,\n",
       "       -2.36448526e-15,  6.23175484e-17,  6.25911805e-16, -1.31689486e-16,\n",
       "        2.25520066e-16, -3.28370454e-16, -4.68506860e-16, -3.26289100e-16,\n",
       "       -8.52605017e-16,  8.46253013e-16, -2.56752510e-16,  1.43378215e-15,\n",
       "        1.32196479e-15,  7.09981284e-16, -3.95558381e-16, -6.06231108e-17,\n",
       "       -3.35322461e-16,  3.57250769e-16, -1.17747542e-15, -7.61651647e-17,\n",
       "       -2.27252617e-16,  8.40217440e-18,  5.53587189e-16, -2.14677769e-16,\n",
       "       -1.36071207e-16, -1.22303816e-16, -3.62054027e-17, -1.48644893e-16,\n",
       "       -1.75340018e-16, -2.99732585e-16,  3.83706911e-16,  1.22986217e-16,\n",
       "       -3.87435590e-16,  2.54994193e-16, -2.19988326e-16, -4.19232206e-17,\n",
       "        3.54050460e-16,  1.63098038e-16])"
      ]
     },
     "execution_count": 66,
     "metadata": {},
     "output_type": "execute_result"
    }
   ],
   "source": [
    "c3=final_model3.coef_\n",
    "c3"
   ]
  },
  {
   "cell_type": "code",
   "execution_count": 67,
   "id": "8e935a79",
   "metadata": {},
   "outputs": [
    {
     "data": {
      "text/plain": [
       "5.551115123125783e-16"
      ]
     },
     "execution_count": 67,
     "metadata": {},
     "output_type": "execute_result"
    }
   ],
   "source": [
    "i3=final_model3.intercept_\n",
    "i3"
   ]
  },
  {
   "cell_type": "code",
   "execution_count": 68,
   "id": "3639b9cf",
   "metadata": {},
   "outputs": [],
   "source": [
    "y3_hat=final_model3.predict(X3)"
   ]
  },
  {
   "cell_type": "code",
   "execution_count": 69,
   "id": "a6967f62",
   "metadata": {},
   "outputs": [
    {
     "data": {
      "text/plain": [
       "1.0"
      ]
     },
     "execution_count": 69,
     "metadata": {},
     "output_type": "execute_result"
    }
   ],
   "source": [
    "r2_score(y3,y3_hat)"
   ]
  },
  {
   "cell_type": "code",
   "execution_count": 74,
   "id": "24d77b78",
   "metadata": {},
   "outputs": [
    {
     "data": {
      "text/plain": [
       "[<matplotlib.lines.Line2D at 0x26777f3f130>]"
      ]
     },
     "execution_count": 74,
     "metadata": {},
     "output_type": "execute_result"
    },
    {
     "data": {
      "image/png": "[encoded data removed]",
      "text/plain": [
       "<Figure size 432x288 with 1 Axes>"
      ]
     },
     "metadata": {
      "needs_background": "light"
     },
     "output_type": "display_data"
    }
   ],
   "source": [
    "plt.scatter(y3,y3_hat)\n",
    "plt.plot(y3,y3_hat)"
   ]
  },
  {
   "cell_type": "code",
   "execution_count": 78,
   "id": "c8be8fdc",
   "metadata": {},
   "outputs": [
    {
     "data": {
      "text/plain": [
       "<matplotlib.collections.PathCollection at 0x267780bf2e0>"
      ]
     },
     "execution_count": 78,
     "metadata": {},
     "output_type": "execute_result"
    },
    {
     "data": {
      "image/png": "[encoded data removed]",
      "text/plain": [
       "<Figure size 432x288 with 1 Axes>"
      ]
     },
     "metadata": {
      "needs_background": "light"
     },
     "output_type": "display_data"
    }
   ],
   "source": [
    "plt.scatter(y1,y1_hat)"
   ]
  },
  {
   "cell_type": "code",
   "execution_count": 79,
   "id": "17b1c97f",
   "metadata": {},
   "outputs": [
    {
     "data": {
      "text/plain": [
       "<matplotlib.collections.PathCollection at 0x26777ec5f40>"
      ]
     },
     "execution_count": 79,
     "metadata": {},
     "output_type": "execute_result"
    },
    {
     "data": {
      "image/png": "[encoded data removed]",
      "text/plain": [
       "<Figure size 432x288 with 1 Axes>"
      ]
     },
     "metadata": {
      "needs_background": "light"
     },
     "output_type": "display_data"
    }
   ],
   "source": [
    "plt.scatter(y2,y2_hat)"
   ]
  }
 ],
 "metadata": {
  "kernelspec": {
   "display_name": "Python 3 (ipykernel)",
   "language": "python",
   "name": "python3"
  },
  "language_info": {
   "codemirror_mode": {
    "name": "ipython",
    "version": 3
   },
   "file_extension": ".py",
   "mimetype": "text/x-python",
   "name": "python",
   "nbconvert_exporter": "python",
   "pygments_lexer": "ipython3",
   "version": "3.9.12"
  }
 },
 "nbformat": 4,
 "nbformat_minor": 5
}
