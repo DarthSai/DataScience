{
 "cells": [
  {
   "cell_type": "code",
   "execution_count": 1,
   "id": "cb7ad17d",
   "metadata": {},
   "outputs": [],
   "source": [
    "import numpy as np\n",
    "import pandas as pd\n",
    "import seaborn as sns\n",
    "import math\n",
    "import matplotlib as mpl\n",
    "import matplotlib.pyplot as plt\n",
    "from sklearn import preprocessing\n",
    "from sklearn import datasets\n",
    "from sklearn import metrics\n",
    "from sklearn.naive_bayes import GaussianNB\n",
    "from sklearn.tree import DecisionTreeRegressor\n",
    "from sklearn.tree import DecisionTreeClassifier\n",
    "from sklearn import tree\n",
    "from sklearn.model_selection import StratifiedKFold,KFold,cross_validate\n",
    "from sklearn.preprocessing import MinMaxScaler , StandardScaler\n",
    "from sklearn.model_selection import train_test_split\n",
    "import scipy.stats\n",
    "from sklearn.metrics import mean_absolute_error, mean_squared_error,r2_score\n",
    "from sklearn.metrics import confusion_matrix,classification_report,roc_curve\n",
    "from sklearn.metrics import accuracy_score,recall_score,f1_score,precision_score\n",
    "from sklearn.metrics import roc_auc_score\n",
    "from sklearn.neighbors import KNeighborsClassifier\n",
    "from sklearn.model_selection import cross_val_predict,cross_val_score,GridSearchCV,train_test_split\n",
    "import warnings\n",
    "warnings.simplefilter(action='ignore')\n",
    "from sklearn.svm import SVC\n",
    "from sklearn.svm import SVR\n",
    "from sklearn.linear_model import LinearRegression\n",
    "from sklearn.linear_model import LogisticRegression\n",
    "from sklearn.ensemble import VotingClassifier\n",
    "from sklearn.ensemble import RandomForestClassifier\n",
    "from sklearn.ensemble import RandomForestRegressor\n",
    "from sklearn.ensemble import AdaBoostClassifier\n",
    "from sklearn.ensemble import AdaBoostRegressor\n",
    "from sklearn.metrics import silhouette_samples, silhouette_score\n",
    "import matplotlib.cm as cm\n",
    "from sklearn.datasets import make_blobs \n",
    "from sklearn.cluster import KMeans\n",
    "import scipy.cluster.hierarchy as sch\n",
    "from sklearn.cluster import AgglomerativeClustering\n",
    "from sklearn.cluster import DBSCAN\n",
    "from sklearn.neighbors import NearestNeighbors"
   ]
  },
  {
   "cell_type": "code",
   "execution_count": 2,
   "id": "f5a5dbdb",
   "metadata": {},
   "outputs": [],
   "source": [
    "def PointsInCircum(r,n=100):\n",
    "    return [(math.cos(2*math.pi/n*x)*r+np.random.normal(-20,20),math.sin(2*math.pi/n*x)*r+np.random.normal(-20,20)) for x in range(1,n+1)]"
   ]
  },
  {
   "cell_type": "code",
   "execution_count": 3,
   "id": "945c68c8",
   "metadata": {},
   "outputs": [],
   "source": [
    "d1=PointsInCircum(400,900)\n",
    "d2=PointsInCircum(250,600)\n",
    "d3=PointsInCircum(90,200)\n",
    "noise=[(np.random.randint(-500,500),np.random.randint(-500,500)) for i in range(300)]\n",
    "d=d1+d2+d3+noise"
   ]
  },
  {
   "cell_type": "code",
   "execution_count": 4,
   "id": "626c93ee",
   "metadata": {},
   "outputs": [
    {
     "data": {
      "text/html": [
       "<div>\n",
       "<style scoped>\n",
       "    .dataframe tbody tr th:only-of-type {\n",
       "        vertical-align: middle;\n",
       "    }\n",
       "\n",
       "    .dataframe tbody tr th {\n",
       "        vertical-align: top;\n",
       "    }\n",
       "\n",
       "    .dataframe thead th {\n",
       "        text-align: right;\n",
       "    }\n",
       "</style>\n",
       "<table border=\"1\" class=\"dataframe\">\n",
       "  <thead>\n",
       "    <tr style=\"text-align: right;\">\n",
       "      <th></th>\n",
       "      <th>0</th>\n",
       "      <th>1</th>\n",
       "    </tr>\n",
       "  </thead>\n",
       "  <tbody>\n",
       "    <tr>\n",
       "      <th>0</th>\n",
       "      <td>367.655420</td>\n",
       "      <td>-28.355485</td>\n",
       "    </tr>\n",
       "    <tr>\n",
       "      <th>1</th>\n",
       "      <td>369.864202</td>\n",
       "      <td>-4.421931</td>\n",
       "    </tr>\n",
       "    <tr>\n",
       "      <th>2</th>\n",
       "      <td>391.663476</td>\n",
       "      <td>1.093222</td>\n",
       "    </tr>\n",
       "    <tr>\n",
       "      <th>3</th>\n",
       "      <td>408.879900</td>\n",
       "      <td>-1.392981</td>\n",
       "    </tr>\n",
       "    <tr>\n",
       "      <th>4</th>\n",
       "      <td>383.202217</td>\n",
       "      <td>6.550341</td>\n",
       "    </tr>\n",
       "    <tr>\n",
       "      <th>...</th>\n",
       "      <td>...</td>\n",
       "      <td>...</td>\n",
       "    </tr>\n",
       "    <tr>\n",
       "      <th>1995</th>\n",
       "      <td>-277.000000</td>\n",
       "      <td>398.000000</td>\n",
       "    </tr>\n",
       "    <tr>\n",
       "      <th>1996</th>\n",
       "      <td>232.000000</td>\n",
       "      <td>-293.000000</td>\n",
       "    </tr>\n",
       "    <tr>\n",
       "      <th>1997</th>\n",
       "      <td>-287.000000</td>\n",
       "      <td>121.000000</td>\n",
       "    </tr>\n",
       "    <tr>\n",
       "      <th>1998</th>\n",
       "      <td>496.000000</td>\n",
       "      <td>196.000000</td>\n",
       "    </tr>\n",
       "    <tr>\n",
       "      <th>1999</th>\n",
       "      <td>406.000000</td>\n",
       "      <td>54.000000</td>\n",
       "    </tr>\n",
       "  </tbody>\n",
       "</table>\n",
       "<p>2000 rows × 2 columns</p>\n",
       "</div>"
      ],
      "text/plain": [
       "               0           1\n",
       "0     367.655420  -28.355485\n",
       "1     369.864202   -4.421931\n",
       "2     391.663476    1.093222\n",
       "3     408.879900   -1.392981\n",
       "4     383.202217    6.550341\n",
       "...          ...         ...\n",
       "1995 -277.000000  398.000000\n",
       "1996  232.000000 -293.000000\n",
       "1997 -287.000000  121.000000\n",
       "1998  496.000000  196.000000\n",
       "1999  406.000000   54.000000\n",
       "\n",
       "[2000 rows x 2 columns]"
      ]
     },
     "execution_count": 4,
     "metadata": {},
     "output_type": "execute_result"
    }
   ],
   "source": [
    "df=pd.DataFrame(d)\n",
    "df"
   ]
  },
  {
   "cell_type": "code",
   "execution_count": 5,
   "id": "e45215df",
   "metadata": {},
   "outputs": [],
   "source": [
    "df2=df.copy()"
   ]
  },
  {
   "cell_type": "code",
   "execution_count": 6,
   "id": "b16b8e59",
   "metadata": {},
   "outputs": [],
   "source": [
    "df2.iloc[:,0:]=StandardScaler().fit_transform(df2.iloc[:,0:])"
   ]
  },
  {
   "cell_type": "code",
   "execution_count": 7,
   "id": "44befa77",
   "metadata": {},
   "outputs": [
    {
     "data": {
      "image/png": "[encoded data removed]",
      "text/plain": [
       "<Figure size 1080x360 with 1 Axes>"
      ]
     },
     "metadata": {
      "needs_background": "light"
     },
     "output_type": "display_data"
    }
   ],
   "source": [
    "distorsions = []\n",
    "for k in range(2, 10):\n",
    "    kmeans = KMeans(n_clusters=k)\n",
    "    kmeans.fit(df2)\n",
    "    distorsions.append(kmeans.inertia_)\n",
    "\n",
    "fig = plt.figure(figsize=(15, 5))\n",
    "plt.plot(range(2, 10), distorsions)\n",
    "plt.grid(True)\n",
    "plt.xlabel('K')\n",
    "plt.ylabel('Distorsions')\n",
    "plt.title('Elbow curve');"
   ]
  },
  {
   "cell_type": "code",
   "execution_count": 8,
   "id": "4be4194e",
   "metadata": {},
   "outputs": [
    {
     "name": "stdout",
     "output_type": "stream",
     "text": [
      "For n_clusters = 2 The average silhouette_score is : 0.3459732826992119\n",
      "For n_clusters = 3 The average silhouette_score is : 0.3807071122922468\n",
      "For n_clusters = 4 The average silhouette_score is : 0.3757900142544886\n",
      "For n_clusters = 5 The average silhouette_score is : 0.3509220061037094\n",
      "For n_clusters = 6 The average silhouette_score is : 0.39313028411052414\n",
      "For n_clusters = 7 The average silhouette_score is : 0.3948839223691364\n",
      "For n_clusters = 8 The average silhouette_score is : 0.38530469082497876\n",
      "For n_clusters = 9 The average silhouette_score is : 0.37181230281992134\n"
     ]
    }
   ],
   "source": [
    "range_n_clusters = range(2,10)\n",
    "silhouette_avg_n_clusters = []\n",
    "for n_clusters in range_n_clusters:\n",
    "    clusterer = KMeans(n_clusters=n_clusters)\n",
    "    cluster_labels = clusterer.fit_predict(df)\n",
    "\n",
    "    silhouette_avg = silhouette_score(df2, cluster_labels)\n",
    "    print(\"For n_clusters =\", n_clusters,\n",
    "          \"The average silhouette_score is :\", silhouette_avg)"
   ]
  },
  {
   "cell_type": "code",
   "execution_count": 27,
   "id": "09866480",
   "metadata": {},
   "outputs": [],
   "source": [
    "km=KMeans(n_clusters=7)"
   ]
  },
  {
   "cell_type": "code",
   "execution_count": 28,
   "id": "4c739902",
   "metadata": {},
   "outputs": [
    {
     "data": {
      "text/plain": [
       "KMeans(n_clusters=7)"
      ]
     },
     "execution_count": 28,
     "metadata": {},
     "output_type": "execute_result"
    }
   ],
   "source": [
    "km.fit(df)"
   ]
  },
  {
   "cell_type": "code",
   "execution_count": 29,
   "id": "45edeb2a",
   "metadata": {},
   "outputs": [],
   "source": [
    "cl=km.predict(df)"
   ]
  },
  {
   "cell_type": "code",
   "execution_count": 30,
   "id": "2594b357",
   "metadata": {},
   "outputs": [
    {
     "data": {
      "text/html": [
       "<div>\n",
       "<style scoped>\n",
       "    .dataframe tbody tr th:only-of-type {\n",
       "        vertical-align: middle;\n",
       "    }\n",
       "\n",
       "    .dataframe tbody tr th {\n",
       "        vertical-align: top;\n",
       "    }\n",
       "\n",
       "    .dataframe thead th {\n",
       "        text-align: right;\n",
       "    }\n",
       "</style>\n",
       "<table border=\"1\" class=\"dataframe\">\n",
       "  <thead>\n",
       "    <tr style=\"text-align: right;\">\n",
       "      <th></th>\n",
       "      <th>0</th>\n",
       "      <th>1</th>\n",
       "      <th>Cluster_KMeans</th>\n",
       "    </tr>\n",
       "  </thead>\n",
       "  <tbody>\n",
       "    <tr>\n",
       "      <th>0</th>\n",
       "      <td>1.612146</td>\n",
       "      <td>-0.039903</td>\n",
       "      <td>6</td>\n",
       "    </tr>\n",
       "    <tr>\n",
       "      <th>1</th>\n",
       "      <td>1.621348</td>\n",
       "      <td>0.057661</td>\n",
       "      <td>6</td>\n",
       "    </tr>\n",
       "    <tr>\n",
       "      <th>2</th>\n",
       "      <td>1.712168</td>\n",
       "      <td>0.080144</td>\n",
       "      <td>6</td>\n",
       "    </tr>\n",
       "    <tr>\n",
       "      <th>3</th>\n",
       "      <td>1.783894</td>\n",
       "      <td>0.070009</td>\n",
       "      <td>6</td>\n",
       "    </tr>\n",
       "    <tr>\n",
       "      <th>4</th>\n",
       "      <td>1.676917</td>\n",
       "      <td>0.102390</td>\n",
       "      <td>6</td>\n",
       "    </tr>\n",
       "    <tr>\n",
       "      <th>...</th>\n",
       "      <td>...</td>\n",
       "      <td>...</td>\n",
       "      <td>...</td>\n",
       "    </tr>\n",
       "    <tr>\n",
       "      <th>1995</th>\n",
       "      <td>-1.073591</td>\n",
       "      <td>1.698121</td>\n",
       "      <td>5</td>\n",
       "    </tr>\n",
       "    <tr>\n",
       "      <th>1996</th>\n",
       "      <td>1.046984</td>\n",
       "      <td>-1.118717</td>\n",
       "      <td>4</td>\n",
       "    </tr>\n",
       "    <tr>\n",
       "      <th>1997</th>\n",
       "      <td>-1.115253</td>\n",
       "      <td>0.568940</td>\n",
       "      <td>1</td>\n",
       "    </tr>\n",
       "    <tr>\n",
       "      <th>1998</th>\n",
       "      <td>2.146850</td>\n",
       "      <td>0.874675</td>\n",
       "      <td>6</td>\n",
       "    </tr>\n",
       "    <tr>\n",
       "      <th>1999</th>\n",
       "      <td>1.771896</td>\n",
       "      <td>0.295816</td>\n",
       "      <td>6</td>\n",
       "    </tr>\n",
       "  </tbody>\n",
       "</table>\n",
       "<p>2000 rows × 3 columns</p>\n",
       "</div>"
      ],
      "text/plain": [
       "             0         1  Cluster_KMeans\n",
       "0     1.612146 -0.039903               6\n",
       "1     1.621348  0.057661               6\n",
       "2     1.712168  0.080144               6\n",
       "3     1.783894  0.070009               6\n",
       "4     1.676917  0.102390               6\n",
       "...        ...       ...             ...\n",
       "1995 -1.073591  1.698121               5\n",
       "1996  1.046984 -1.118717               4\n",
       "1997 -1.115253  0.568940               1\n",
       "1998  2.146850  0.874675               6\n",
       "1999  1.771896  0.295816               6\n",
       "\n",
       "[2000 rows x 3 columns]"
      ]
     },
     "execution_count": 30,
     "metadata": {},
     "output_type": "execute_result"
    }
   ],
   "source": [
    "df['Cluster_KMeans']=cl\n",
    "df\n",
    "df2['Cluster_KMeans']=cl\n",
    "df2"
   ]
  },
  {
   "cell_type": "code",
   "execution_count": 31,
   "id": "caa4fcb7",
   "metadata": {},
   "outputs": [],
   "source": [
    "colours=['orange','pink','red','black','blue','yellow','green']"
   ]
  },
  {
   "cell_type": "code",
   "execution_count": 13,
   "id": "76a0e34b",
   "metadata": {},
   "outputs": [],
   "source": [
    "dbsc=DBSCAN()"
   ]
  },
  {
   "cell_type": "code",
   "execution_count": 14,
   "id": "901d2b80",
   "metadata": {},
   "outputs": [],
   "source": [
    "dbscandef=dbsc.fit_predict(df)"
   ]
  },
  {
   "cell_type": "code",
   "execution_count": 15,
   "id": "5dfef743",
   "metadata": {},
   "outputs": [],
   "source": [
    "df['Cluster_DBSCANdef']=dbscandef"
   ]
  },
  {
   "cell_type": "code",
   "execution_count": 16,
   "id": "09ba0e21",
   "metadata": {},
   "outputs": [],
   "source": [
    "colours=['orange','pink','red','black','blue','yellow','green']"
   ]
  },
  {
   "cell_type": "code",
   "execution_count": 17,
   "id": "06d865f4",
   "metadata": {},
   "outputs": [
    {
     "data": {
      "image/png": "[encoded data removed]",
      "text/plain": [
       "<Figure size 432x288 with 1 Axes>"
      ]
     },
     "metadata": {
      "needs_background": "light"
     },
     "output_type": "display_data"
    }
   ],
   "source": [
    "for i in range(len(df['Cluster_DBSCANdef'].unique())):\n",
    "    plt.scatter(df.iloc[:,0][dbscandef==df['Cluster_DBSCANdef'].unique()[i]],df.iloc[:,1][dbscandef==df['Cluster_DBSCANdef'].unique()[i]],c=colours[i])"
   ]
  },
  {
   "cell_type": "code",
   "execution_count": 18,
   "id": "1db2d243",
   "metadata": {},
   "outputs": [],
   "source": [
    "neigh = NearestNeighbors(n_neighbors=2)\n",
    "nbrs = neigh.fit(df)\n",
    "distances, indices = nbrs.kneighbors(df)"
   ]
  },
  {
   "cell_type": "code",
   "execution_count": 19,
   "id": "90d55d76",
   "metadata": {},
   "outputs": [
    {
     "data": {
      "text/plain": [
       "array([[ 0.        ,  6.99746387],\n",
       "       [ 0.        ,  3.05476548],\n",
       "       [ 0.        , 10.04627686],\n",
       "       ...,\n",
       "       [ 0.        , 14.14213562],\n",
       "       [ 0.        , 22.        ],\n",
       "       [ 0.        , 11.39222158]])"
      ]
     },
     "execution_count": 19,
     "metadata": {},
     "output_type": "execute_result"
    }
   ],
   "source": [
    "distances"
   ]
  },
  {
   "cell_type": "code",
   "execution_count": 20,
   "id": "7eabb1af",
   "metadata": {},
   "outputs": [
    {
     "data": {
      "image/png": "[encoded data removed]",
      "text/plain": [
       "<Figure size 1080x576 with 1 Axes>"
      ]
     },
     "metadata": {
      "needs_background": "light"
     },
     "output_type": "display_data"
    }
   ],
   "source": [
    "distances=distances[:,1]\n",
    "distances = np.sort(distances, axis=0)\n",
    "plt.figure(figsize=(15,8))\n",
    "plt.plot(distances)\n",
    "plt.axhline(y=40, color='r', linestyle='--')\n",
    "plt.title('K-distance Graph',fontsize=20)\n",
    "plt.xlabel('Data Points sorted by distance',fontsize=14)\n",
    "plt.ylabel('Epsilon',fontsize=14)\n",
    "plt.show()"
   ]
  },
  {
   "cell_type": "code",
   "execution_count": 21,
   "id": "f27ab12f",
   "metadata": {},
   "outputs": [
    {
     "name": "stdout",
     "output_type": "stream",
     "text": [
      "eps= 40 | min_samples=  5 | obtained clustering:  [(1, 75), (2, 1695), (3, 224), (4, 6)]\n",
      "eps= 40 | min_samples=  6 | obtained clustering:  [(1, 86), (2, 1690), (3, 224)]\n",
      "eps= 40 | min_samples=  7 | obtained clustering:  [(1, 90), (2, 1686), (3, 224)]\n",
      "eps= 40 | min_samples=  8 | obtained clustering:  [(1, 90), (2, 1686), (3, 224)]\n",
      "eps= 40 | min_samples=  9 | obtained clustering:  [(1, 92), (2, 1023), (3, 661), (4, 224)]\n",
      "eps= 40 | min_samples=  10 | obtained clustering:  [(1, 93), (2, 1022), (3, 661), (4, 224)]\n",
      "eps= 40 | min_samples=  11 | obtained clustering:  [(1, 95), (2, 1019), (3, 662), (4, 224)]\n",
      "eps= 40 | min_samples=  12 | obtained clustering:  [(1, 98), (2, 1016), (3, 662), (4, 224)]\n",
      "eps= 40 | min_samples=  13 | obtained clustering:  [(1, 101), (2, 1013), (3, 662), (4, 224)]\n",
      "eps= 40 | min_samples=  14 | obtained clustering:  [(1, 102), (2, 1012), (3, 662), (4, 224)]\n",
      "eps= 40 | min_samples=  15 | obtained clustering:  [(1, 104), (2, 1011), (3, 661), (4, 224)]\n"
     ]
    }
   ],
   "source": [
    "eps=40\n",
    "for min_samples in list(range(5,16)):\n",
    "    clusterer = DBSCAN(eps=eps, min_samples=min_samples)\n",
    "    cluster_labels = clusterer.fit_predict(df)\n",
    "    x= cluster_labels +2\n",
    "    y = np.bincount(x)\n",
    "    ii = np.nonzero(y)[0]\n",
    "    results = list(zip(ii,y[ii]) )\n",
    "    print('eps=',eps,'| min_samples= ', min_samples, '| obtained clustering: ', results)"
   ]
  },
  {
   "cell_type": "code",
   "execution_count": 22,
   "id": "094c070c",
   "metadata": {},
   "outputs": [],
   "source": [
    "dbscan=DBSCAN(eps = 40, min_samples = 9)\n",
    "dbscan_pred=dbscan.fit_predict(df)"
   ]
  },
  {
   "cell_type": "code",
   "execution_count": 23,
   "id": "61e12ee1",
   "metadata": {},
   "outputs": [
    {
     "data": {
      "text/html": [
       "<div>\n",
       "<style scoped>\n",
       "    .dataframe tbody tr th:only-of-type {\n",
       "        vertical-align: middle;\n",
       "    }\n",
       "\n",
       "    .dataframe tbody tr th {\n",
       "        vertical-align: top;\n",
       "    }\n",
       "\n",
       "    .dataframe thead th {\n",
       "        text-align: right;\n",
       "    }\n",
       "</style>\n",
       "<table border=\"1\" class=\"dataframe\">\n",
       "  <thead>\n",
       "    <tr style=\"text-align: right;\">\n",
       "      <th></th>\n",
       "      <th>0</th>\n",
       "      <th>1</th>\n",
       "      <th>Cluster_KMeans</th>\n",
       "      <th>Cluster_DBSCANdef</th>\n",
       "      <th>Cluster_DBSCAN</th>\n",
       "    </tr>\n",
       "  </thead>\n",
       "  <tbody>\n",
       "    <tr>\n",
       "      <th>0</th>\n",
       "      <td>367.655420</td>\n",
       "      <td>-28.355485</td>\n",
       "      <td>1</td>\n",
       "      <td>-1</td>\n",
       "      <td>0</td>\n",
       "    </tr>\n",
       "    <tr>\n",
       "      <th>1</th>\n",
       "      <td>369.864202</td>\n",
       "      <td>-4.421931</td>\n",
       "      <td>1</td>\n",
       "      <td>-1</td>\n",
       "      <td>0</td>\n",
       "    </tr>\n",
       "    <tr>\n",
       "      <th>2</th>\n",
       "      <td>391.663476</td>\n",
       "      <td>1.093222</td>\n",
       "      <td>1</td>\n",
       "      <td>-1</td>\n",
       "      <td>0</td>\n",
       "    </tr>\n",
       "    <tr>\n",
       "      <th>3</th>\n",
       "      <td>408.879900</td>\n",
       "      <td>-1.392981</td>\n",
       "      <td>1</td>\n",
       "      <td>-1</td>\n",
       "      <td>0</td>\n",
       "    </tr>\n",
       "    <tr>\n",
       "      <th>4</th>\n",
       "      <td>383.202217</td>\n",
       "      <td>6.550341</td>\n",
       "      <td>1</td>\n",
       "      <td>-1</td>\n",
       "      <td>0</td>\n",
       "    </tr>\n",
       "    <tr>\n",
       "      <th>...</th>\n",
       "      <td>...</td>\n",
       "      <td>...</td>\n",
       "      <td>...</td>\n",
       "      <td>...</td>\n",
       "      <td>...</td>\n",
       "    </tr>\n",
       "    <tr>\n",
       "      <th>1995</th>\n",
       "      <td>-277.000000</td>\n",
       "      <td>398.000000</td>\n",
       "      <td>3</td>\n",
       "      <td>-1</td>\n",
       "      <td>-1</td>\n",
       "    </tr>\n",
       "    <tr>\n",
       "      <th>1996</th>\n",
       "      <td>232.000000</td>\n",
       "      <td>-293.000000</td>\n",
       "      <td>4</td>\n",
       "      <td>-1</td>\n",
       "      <td>0</td>\n",
       "    </tr>\n",
       "    <tr>\n",
       "      <th>1997</th>\n",
       "      <td>-287.000000</td>\n",
       "      <td>121.000000</td>\n",
       "      <td>0</td>\n",
       "      <td>-1</td>\n",
       "      <td>1</td>\n",
       "    </tr>\n",
       "    <tr>\n",
       "      <th>1998</th>\n",
       "      <td>496.000000</td>\n",
       "      <td>196.000000</td>\n",
       "      <td>1</td>\n",
       "      <td>-1</td>\n",
       "      <td>-1</td>\n",
       "    </tr>\n",
       "    <tr>\n",
       "      <th>1999</th>\n",
       "      <td>406.000000</td>\n",
       "      <td>54.000000</td>\n",
       "      <td>1</td>\n",
       "      <td>-1</td>\n",
       "      <td>0</td>\n",
       "    </tr>\n",
       "  </tbody>\n",
       "</table>\n",
       "<p>2000 rows × 5 columns</p>\n",
       "</div>"
      ],
      "text/plain": [
       "               0           1  Cluster_KMeans  Cluster_DBSCANdef  \\\n",
       "0     367.655420  -28.355485               1                 -1   \n",
       "1     369.864202   -4.421931               1                 -1   \n",
       "2     391.663476    1.093222               1                 -1   \n",
       "3     408.879900   -1.392981               1                 -1   \n",
       "4     383.202217    6.550341               1                 -1   \n",
       "...          ...         ...             ...                ...   \n",
       "1995 -277.000000  398.000000               3                 -1   \n",
       "1996  232.000000 -293.000000               4                 -1   \n",
       "1997 -287.000000  121.000000               0                 -1   \n",
       "1998  496.000000  196.000000               1                 -1   \n",
       "1999  406.000000   54.000000               1                 -1   \n",
       "\n",
       "      Cluster_DBSCAN  \n",
       "0                  0  \n",
       "1                  0  \n",
       "2                  0  \n",
       "3                  0  \n",
       "4                  0  \n",
       "...              ...  \n",
       "1995              -1  \n",
       "1996               0  \n",
       "1997               1  \n",
       "1998              -1  \n",
       "1999               0  \n",
       "\n",
       "[2000 rows x 5 columns]"
      ]
     },
     "execution_count": 23,
     "metadata": {},
     "output_type": "execute_result"
    }
   ],
   "source": [
    "df['Cluster_DBSCAN']=dbscan_pred\n",
    "df"
   ]
  },
  {
   "cell_type": "code",
   "execution_count": 24,
   "id": "aad52d30",
   "metadata": {},
   "outputs": [
    {
     "data": {
      "text/plain": [
       "array([ 0,  1,  2, -1], dtype=int64)"
      ]
     },
     "execution_count": 24,
     "metadata": {},
     "output_type": "execute_result"
    }
   ],
   "source": [
    "df['Cluster_DBSCAN'].unique()"
   ]
  },
  {
   "cell_type": "code",
   "execution_count": 25,
   "id": "fa9fcdba",
   "metadata": {},
   "outputs": [
    {
     "data": {
      "image/png": "[encoded data removed]",
      "text/plain": [
       "<Figure size 432x288 with 1 Axes>"
      ]
     },
     "metadata": {
      "needs_background": "light"
     },
     "output_type": "display_data"
    }
   ],
   "source": [
    "for i in range(len(df['Cluster_DBSCAN'].unique())):\n",
    "    plt.scatter(df.iloc[:,0][dbscan_pred==df['Cluster_DBSCAN'].unique()[i]],df.iloc[:,1][dbscan_pred==df['Cluster_DBSCAN'].unique()[i]],c=colours[i])"
   ]
  },
  {
   "cell_type": "code",
   "execution_count": null,
   "id": "05d0d2ce",
   "metadata": {},
   "outputs": [],
   "source": []
  },
  {
   "cell_type": "code",
   "execution_count": null,
   "id": "8b8b305e",
   "metadata": {},
   "outputs": [],
   "source": []
  },
  {
   "cell_type": "code",
   "execution_count": null,
   "id": "440d8d7d",
   "metadata": {},
   "outputs": [],
   "source": []
  },
  {
   "cell_type": "code",
   "execution_count": null,
   "id": "bd70f319",
   "metadata": {},
   "outputs": [],
   "source": []
  },
  {
   "cell_type": "code",
   "execution_count": null,
   "id": "51c59511",
   "metadata": {},
   "outputs": [],
   "source": []
  },
  {
   "cell_type": "code",
   "execution_count": null,
   "id": "482d8b4a",
   "metadata": {},
   "outputs": [],
   "source": []
  },
  {
   "cell_type": "code",
   "execution_count": null,
   "id": "17235b04",
   "metadata": {},
   "outputs": [],
   "source": []
  },
  {
   "cell_type": "code",
   "execution_count": null,
   "id": "78b428a7",
   "metadata": {},
   "outputs": [],
   "source": []
  },
  {
   "cell_type": "code",
   "execution_count": null,
   "id": "136d5b0e",
   "metadata": {},
   "outputs": [],
   "source": []
  },
  {
   "cell_type": "code",
   "execution_count": null,
   "id": "8f27d0fd",
   "metadata": {},
   "outputs": [],
   "source": []
  },
  {
   "cell_type": "code",
   "execution_count": null,
   "id": "7721c0ed",
   "metadata": {},
   "outputs": [],
   "source": []
  },
  {
   "cell_type": "code",
   "execution_count": null,
   "id": "122d5be9",
   "metadata": {},
   "outputs": [],
   "source": []
  },
  {
   "cell_type": "code",
   "execution_count": null,
   "id": "5c41684f",
   "metadata": {},
   "outputs": [],
   "source": []
  },
  {
   "cell_type": "code",
   "execution_count": null,
   "id": "96e6b407",
   "metadata": {},
   "outputs": [],
   "source": []
  },
  {
   "cell_type": "code",
   "execution_count": null,
   "id": "1f50322c",
   "metadata": {},
   "outputs": [],
   "source": []
  },
  {
   "cell_type": "code",
   "execution_count": null,
   "id": "77eb6e5e",
   "metadata": {},
   "outputs": [],
   "source": []
  },
  {
   "cell_type": "code",
   "execution_count": null,
   "id": "d0aef829",
   "metadata": {},
   "outputs": [],
   "source": []
  },
  {
   "cell_type": "code",
   "execution_count": null,
   "id": "ef43a160",
   "metadata": {},
   "outputs": [],
   "source": []
  },
  {
   "cell_type": "code",
   "execution_count": null,
   "id": "33297d20",
   "metadata": {},
   "outputs": [],
   "source": []
  },
  {
   "cell_type": "code",
   "execution_count": null,
   "id": "2d08935e",
   "metadata": {},
   "outputs": [],
   "source": []
  },
  {
   "cell_type": "code",
   "execution_count": null,
   "id": "76d11a54",
   "metadata": {},
   "outputs": [],
   "source": []
  },
  {
   "cell_type": "code",
   "execution_count": null,
   "id": "fb32834c",
   "metadata": {},
   "outputs": [],
   "source": []
  },
  {
   "cell_type": "code",
   "execution_count": null,
   "id": "67ed2b7d",
   "metadata": {},
   "outputs": [],
   "source": []
  },
  {
   "cell_type": "code",
   "execution_count": null,
   "id": "0186c49a",
   "metadata": {},
   "outputs": [],
   "source": []
  },
  {
   "cell_type": "code",
   "execution_count": null,
   "id": "d93e3dd6",
   "metadata": {},
   "outputs": [],
   "source": []
  }
 ],
 "metadata": {
  "kernelspec": {
   "display_name": "Python 3 (ipykernel)",
   "language": "python",
   "name": "python3"
  },
  "language_info": {
   "codemirror_mode": {
    "name": "ipython",
    "version": 3
   },
   "file_extension": ".py",
   "mimetype": "text/x-python",
   "name": "python",
   "nbconvert_exporter": "python",
   "pygments_lexer": "ipython3",
   "version": "3.9.12"
  }
 },
 "nbformat": 4,
 "nbformat_minor": 5
}
